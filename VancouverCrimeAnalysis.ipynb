{
 "cells": [
  {
   "cell_type": "markdown",
   "id": "21eedcab",
   "metadata": {},
   "source": [
    "<span style=\"font-size: 14px;color:blue\"><b>*This project*</b></span> contains comprehensive analysis of crime trends in Vancouver, aiming to uncover insights, predict future crime rates, and compare neighborhood crime patterns. The project leverages Python for data analysis, visualization, and predictive modeling.\n",
    "\n",
    "**Project Objectives** \n",
    "\n",
    "+ *Descriptive Analysis:* Explore historical crime data to observe trends, patterns, and variations in crime occurrences over time. Identify frequently occurring crimes and neighborhoods with high crime rates. Investigate possible seasonality and relationships with holidays.\n",
    "\n",
    "    \n",
    "+ *Predictive Modeling*: Utilize linear regression techniques to predict the city's crime rate up to the year 2035. Understand the potential impact of population growth on crime rates and project future changes in crime occurrences.\n",
    "\n",
    "    \n",
    "+ *Neighborhood Comparison:* Conduct a detailed comparison of crime rates among different neighborhoods. Uncover spatial variations in crime occurrences and identify factors influencing crime patterns at the neighborhood level.\n",
    "\n",
    "    \n",
    "+ *Clustering Analysis:* Apply clustering algorithms to group similar types of crimes or neighborhoods based on specific characteristics. Gain insights into common crime profiles and underlying factors contributing to crime patterns.\n",
    "\n",
    "**Data Source**\n",
    "The analysis is based on a comprehensive dataset of Vancouver crime incidents sourced from the Vancouver Police Open Data. This dataset is updated weekly, providing a valuable and up-to-date resource for understanding crime trends and patterns within the city."
   ]
  },
  {
   "cell_type": "markdown",
   "id": "e84b1f9d",
   "metadata": {},
   "source": [
    "<span style=\"font-size: 22px;color:blue\">1.Import Libraries</span>"
   ]
  },
  {
   "cell_type": "code",
   "execution_count": 1,
   "id": "756ed203",
   "metadata": {},
   "outputs": [],
   "source": [
    "import pandas as pd\n",
    "import seaborn as sns\n",
    "import numpy as np"
   ]
  },
  {
   "cell_type": "markdown",
   "id": "e5725573",
   "metadata": {},
   "source": [
    "<span style=\"font-size: 22px;color:blue\">2.Read datasets</span>"
   ]
  },
  {
   "cell_type": "code",
   "execution_count": 2,
   "id": "1a60fa11",
   "metadata": {},
   "outputs": [],
   "source": [
    "df_population = pd.read_csv('Dataset/VancouverPopulation.csv')\n",
    "df_holiday =  pd.read_excel('Dataset/CanadaHolidays.xlsx')\n",
    "df_crime= pd.read_csv('Dataset/crimedata_csv_AllNeighbourhoods_AllYears.csv')\n",
    "\n"
   ]
  },
  {
   "cell_type": "markdown",
   "id": "9f8d2816",
   "metadata": {},
   "source": [
    "<span style=\"font-size: 22px;color:blue\">3.Quickly explore the data frames </span>"
   ]
  },
  {
   "cell_type": "markdown",
   "id": "e0600046",
   "metadata": {},
   "source": [
    "<span style=\"font-size: 16px;color:blue\">Vancouver's Population dataframe</span>"
   ]
  },
  {
   "cell_type": "code",
   "execution_count": 29,
   "id": "03e83441",
   "metadata": {},
   "outputs": [
    {
     "data": {
      "text/html": [
       "<div>\n",
       "<style scoped>\n",
       "    .dataframe tbody tr th:only-of-type {\n",
       "        vertical-align: middle;\n",
       "    }\n",
       "\n",
       "    .dataframe tbody tr th {\n",
       "        vertical-align: top;\n",
       "    }\n",
       "\n",
       "    .dataframe thead th {\n",
       "        text-align: right;\n",
       "    }\n",
       "</style>\n",
       "<table border=\"1\" class=\"dataframe\">\n",
       "  <thead>\n",
       "    <tr style=\"text-align: right;\">\n",
       "      <th></th>\n",
       "      <th>growth</th>\n",
       "      <th>growthRate</th>\n",
       "      <th>population</th>\n",
       "      <th>year</th>\n",
       "    </tr>\n",
       "  </thead>\n",
       "  <tbody>\n",
       "    <tr>\n",
       "      <th>0</th>\n",
       "      <td>24300</td>\n",
       "      <td>0.008285</td>\n",
       "      <td>2957471</td>\n",
       "      <td>2035</td>\n",
       "    </tr>\n",
       "    <tr>\n",
       "      <th>1</th>\n",
       "      <td>24431</td>\n",
       "      <td>0.008399</td>\n",
       "      <td>2933171</td>\n",
       "      <td>2034</td>\n",
       "    </tr>\n",
       "    <tr>\n",
       "      <th>2</th>\n",
       "      <td>24582</td>\n",
       "      <td>0.008523</td>\n",
       "      <td>2908740</td>\n",
       "      <td>2033</td>\n",
       "    </tr>\n",
       "    <tr>\n",
       "      <th>3</th>\n",
       "      <td>24751</td>\n",
       "      <td>0.008656</td>\n",
       "      <td>2884158</td>\n",
       "      <td>2032</td>\n",
       "    </tr>\n",
       "    <tr>\n",
       "      <th>4</th>\n",
       "      <td>24929</td>\n",
       "      <td>0.008795</td>\n",
       "      <td>2859407</td>\n",
       "      <td>2031</td>\n",
       "    </tr>\n",
       "  </tbody>\n",
       "</table>\n",
       "</div>"
      ],
      "text/plain": [
       "   growth  growthRate  population  year\n",
       "0   24300    0.008285     2957471  2035\n",
       "1   24431    0.008399     2933171  2034\n",
       "2   24582    0.008523     2908740  2033\n",
       "3   24751    0.008656     2884158  2032\n",
       "4   24929    0.008795     2859407  2031"
      ]
     },
     "execution_count": 29,
     "metadata": {},
     "output_type": "execute_result"
    }
   ],
   "source": [
    "df_population.head()"
   ]
  },
  {
   "cell_type": "code",
   "execution_count": 30,
   "id": "d60dcfa9",
   "metadata": {},
   "outputs": [
    {
     "data": {
      "text/plain": [
       "(86, 4)"
      ]
     },
     "execution_count": 30,
     "metadata": {},
     "output_type": "execute_result"
    }
   ],
   "source": [
    "df_population.shape"
   ]
  },
  {
   "cell_type": "code",
   "execution_count": 31,
   "id": "fef18a0f",
   "metadata": {},
   "outputs": [
    {
     "data": {
      "text/html": [
       "<div>\n",
       "<style scoped>\n",
       "    .dataframe tbody tr th:only-of-type {\n",
       "        vertical-align: middle;\n",
       "    }\n",
       "\n",
       "    .dataframe tbody tr th {\n",
       "        vertical-align: top;\n",
       "    }\n",
       "\n",
       "    .dataframe thead th {\n",
       "        text-align: right;\n",
       "    }\n",
       "</style>\n",
       "<table border=\"1\" class=\"dataframe\">\n",
       "  <thead>\n",
       "    <tr style=\"text-align: right;\">\n",
       "      <th></th>\n",
       "      <th>growth</th>\n",
       "      <th>growthRate</th>\n",
       "      <th>population</th>\n",
       "      <th>year</th>\n",
       "    </tr>\n",
       "  </thead>\n",
       "  <tbody>\n",
       "    <tr>\n",
       "      <th>count</th>\n",
       "      <td>86.000000</td>\n",
       "      <td>86.000000</td>\n",
       "      <td>8.600000e+01</td>\n",
       "      <td>86.000000</td>\n",
       "    </tr>\n",
       "    <tr>\n",
       "      <th>mean</th>\n",
       "      <td>27919.790698</td>\n",
       "      <td>0.019731</td>\n",
       "      <td>1.696841e+06</td>\n",
       "      <td>1992.500000</td>\n",
       "    </tr>\n",
       "    <tr>\n",
       "      <th>std</th>\n",
       "      <td>13023.268445</td>\n",
       "      <td>0.015569</td>\n",
       "      <td>7.713317e+05</td>\n",
       "      <td>24.969982</td>\n",
       "    </tr>\n",
       "    <tr>\n",
       "      <th>min</th>\n",
       "      <td>0.000000</td>\n",
       "      <td>0.000000</td>\n",
       "      <td>5.563690e+05</td>\n",
       "      <td>1950.000000</td>\n",
       "    </tr>\n",
       "    <tr>\n",
       "      <th>25%</th>\n",
       "      <td>21071.000000</td>\n",
       "      <td>0.010953</td>\n",
       "      <td>1.087770e+06</td>\n",
       "      <td>1971.250000</td>\n",
       "    </tr>\n",
       "    <tr>\n",
       "      <th>50%</th>\n",
       "      <td>25414.500000</td>\n",
       "      <td>0.015066</td>\n",
       "      <td>1.672406e+06</td>\n",
       "      <td>1992.500000</td>\n",
       "    </tr>\n",
       "    <tr>\n",
       "      <th>75%</th>\n",
       "      <td>38137.750000</td>\n",
       "      <td>0.018015</td>\n",
       "      <td>2.399014e+06</td>\n",
       "      <td>2013.750000</td>\n",
       "    </tr>\n",
       "    <tr>\n",
       "      <th>max</th>\n",
       "      <td>58885.000000</td>\n",
       "      <td>0.073346</td>\n",
       "      <td>2.957471e+06</td>\n",
       "      <td>2035.000000</td>\n",
       "    </tr>\n",
       "  </tbody>\n",
       "</table>\n",
       "</div>"
      ],
      "text/plain": [
       "             growth  growthRate    population         year\n",
       "count     86.000000   86.000000  8.600000e+01    86.000000\n",
       "mean   27919.790698    0.019731  1.696841e+06  1992.500000\n",
       "std    13023.268445    0.015569  7.713317e+05    24.969982\n",
       "min        0.000000    0.000000  5.563690e+05  1950.000000\n",
       "25%    21071.000000    0.010953  1.087770e+06  1971.250000\n",
       "50%    25414.500000    0.015066  1.672406e+06  1992.500000\n",
       "75%    38137.750000    0.018015  2.399014e+06  2013.750000\n",
       "max    58885.000000    0.073346  2.957471e+06  2035.000000"
      ]
     },
     "execution_count": 31,
     "metadata": {},
     "output_type": "execute_result"
    }
   ],
   "source": [
    "df_population.describe()"
   ]
  },
  {
   "cell_type": "code",
   "execution_count": 32,
   "id": "0eeb9b00",
   "metadata": {},
   "outputs": [
    {
     "name": "stdout",
     "output_type": "stream",
     "text": [
      "<class 'pandas.core.frame.DataFrame'>\n",
      "RangeIndex: 86 entries, 0 to 85\n",
      "Data columns (total 4 columns):\n",
      " #   Column      Non-Null Count  Dtype  \n",
      "---  ------      --------------  -----  \n",
      " 0   growth      86 non-null     int64  \n",
      " 1   growthRate  86 non-null     float64\n",
      " 2   population  86 non-null     int64  \n",
      " 3   year        86 non-null     int64  \n",
      "dtypes: float64(1), int64(3)\n",
      "memory usage: 2.8 KB\n"
     ]
    }
   ],
   "source": [
    "df_population.info()"
   ]
  },
  {
   "cell_type": "markdown",
   "id": "065adc4f",
   "metadata": {},
   "source": [
    "<span style=\"font-size: 16px;color:blue\">Canada's holiday dataframe</span>"
   ]
  },
  {
   "cell_type": "code",
   "execution_count": 33,
   "id": "616d9ceb",
   "metadata": {},
   "outputs": [
    {
     "data": {
      "text/html": [
       "<div>\n",
       "<style scoped>\n",
       "    .dataframe tbody tr th:only-of-type {\n",
       "        vertical-align: middle;\n",
       "    }\n",
       "\n",
       "    .dataframe tbody tr th {\n",
       "        vertical-align: top;\n",
       "    }\n",
       "\n",
       "    .dataframe thead th {\n",
       "        text-align: right;\n",
       "    }\n",
       "</style>\n",
       "<table border=\"1\" class=\"dataframe\">\n",
       "  <thead>\n",
       "    <tr style=\"text-align: right;\">\n",
       "      <th></th>\n",
       "      <th>date</th>\n",
       "      <th>just_date</th>\n",
       "      <th>is_holiday</th>\n",
       "    </tr>\n",
       "  </thead>\n",
       "  <tbody>\n",
       "    <tr>\n",
       "      <th>0</th>\n",
       "      <td>2003-01-01</td>\n",
       "      <td>2003-01-01</td>\n",
       "      <td>1</td>\n",
       "    </tr>\n",
       "    <tr>\n",
       "      <th>1</th>\n",
       "      <td>2003-01-02</td>\n",
       "      <td>2003-01-02</td>\n",
       "      <td>0</td>\n",
       "    </tr>\n",
       "    <tr>\n",
       "      <th>2</th>\n",
       "      <td>2003-01-03</td>\n",
       "      <td>2003-01-03</td>\n",
       "      <td>0</td>\n",
       "    </tr>\n",
       "    <tr>\n",
       "      <th>3</th>\n",
       "      <td>2003-01-04</td>\n",
       "      <td>2003-01-04</td>\n",
       "      <td>0</td>\n",
       "    </tr>\n",
       "    <tr>\n",
       "      <th>4</th>\n",
       "      <td>2003-01-05</td>\n",
       "      <td>2003-01-05</td>\n",
       "      <td>0</td>\n",
       "    </tr>\n",
       "  </tbody>\n",
       "</table>\n",
       "</div>"
      ],
      "text/plain": [
       "        date  just_date  is_holiday\n",
       "0 2003-01-01 2003-01-01           1\n",
       "1 2003-01-02 2003-01-02           0\n",
       "2 2003-01-03 2003-01-03           0\n",
       "3 2003-01-04 2003-01-04           0\n",
       "4 2003-01-05 2003-01-05           0"
      ]
     },
     "execution_count": 33,
     "metadata": {},
     "output_type": "execute_result"
    }
   ],
   "source": [
    "df_holiday.head()"
   ]
  },
  {
   "cell_type": "code",
   "execution_count": 34,
   "id": "d3db99b4",
   "metadata": {},
   "outputs": [
    {
     "data": {
      "text/plain": [
       "(8035, 3)"
      ]
     },
     "execution_count": 34,
     "metadata": {},
     "output_type": "execute_result"
    }
   ],
   "source": [
    "df_holiday.shape"
   ]
  },
  {
   "cell_type": "code",
   "execution_count": 35,
   "id": "58c2df21",
   "metadata": {},
   "outputs": [
    {
     "data": {
      "text/html": [
       "<div>\n",
       "<style scoped>\n",
       "    .dataframe tbody tr th:only-of-type {\n",
       "        vertical-align: middle;\n",
       "    }\n",
       "\n",
       "    .dataframe tbody tr th {\n",
       "        vertical-align: top;\n",
       "    }\n",
       "\n",
       "    .dataframe thead th {\n",
       "        text-align: right;\n",
       "    }\n",
       "</style>\n",
       "<table border=\"1\" class=\"dataframe\">\n",
       "  <thead>\n",
       "    <tr style=\"text-align: right;\">\n",
       "      <th></th>\n",
       "      <th>is_holiday</th>\n",
       "    </tr>\n",
       "  </thead>\n",
       "  <tbody>\n",
       "    <tr>\n",
       "      <th>count</th>\n",
       "      <td>8035.000000</td>\n",
       "    </tr>\n",
       "    <tr>\n",
       "      <th>mean</th>\n",
       "      <td>0.032732</td>\n",
       "    </tr>\n",
       "    <tr>\n",
       "      <th>std</th>\n",
       "      <td>0.177945</td>\n",
       "    </tr>\n",
       "    <tr>\n",
       "      <th>min</th>\n",
       "      <td>0.000000</td>\n",
       "    </tr>\n",
       "    <tr>\n",
       "      <th>25%</th>\n",
       "      <td>0.000000</td>\n",
       "    </tr>\n",
       "    <tr>\n",
       "      <th>50%</th>\n",
       "      <td>0.000000</td>\n",
       "    </tr>\n",
       "    <tr>\n",
       "      <th>75%</th>\n",
       "      <td>0.000000</td>\n",
       "    </tr>\n",
       "    <tr>\n",
       "      <th>max</th>\n",
       "      <td>1.000000</td>\n",
       "    </tr>\n",
       "  </tbody>\n",
       "</table>\n",
       "</div>"
      ],
      "text/plain": [
       "        is_holiday\n",
       "count  8035.000000\n",
       "mean      0.032732\n",
       "std       0.177945\n",
       "min       0.000000\n",
       "25%       0.000000\n",
       "50%       0.000000\n",
       "75%       0.000000\n",
       "max       1.000000"
      ]
     },
     "execution_count": 35,
     "metadata": {},
     "output_type": "execute_result"
    }
   ],
   "source": [
    "df_holiday.describe()"
   ]
  },
  {
   "cell_type": "code",
   "execution_count": 36,
   "id": "56e99d2f",
   "metadata": {},
   "outputs": [
    {
     "name": "stdout",
     "output_type": "stream",
     "text": [
      "<class 'pandas.core.frame.DataFrame'>\n",
      "RangeIndex: 8035 entries, 0 to 8034\n",
      "Data columns (total 3 columns):\n",
      " #   Column      Non-Null Count  Dtype         \n",
      "---  ------      --------------  -----         \n",
      " 0   date        8035 non-null   datetime64[ns]\n",
      " 1   just_date   8035 non-null   datetime64[ns]\n",
      " 2   is_holiday  8035 non-null   int64         \n",
      "dtypes: datetime64[ns](2), int64(1)\n",
      "memory usage: 188.4 KB\n"
     ]
    }
   ],
   "source": [
    "df_holiday.info()"
   ]
  },
  {
   "cell_type": "markdown",
   "id": "e409f051",
   "metadata": {},
   "source": [
    "<span style=\"font-size: 16px;color:blue\">Vancouver's crime dataframe</span>"
   ]
  },
  {
   "cell_type": "code",
   "execution_count": 37,
   "id": "9ce0a667",
   "metadata": {},
   "outputs": [
    {
     "data": {
      "text/html": [
       "<div>\n",
       "<style scoped>\n",
       "    .dataframe tbody tr th:only-of-type {\n",
       "        vertical-align: middle;\n",
       "    }\n",
       "\n",
       "    .dataframe tbody tr th {\n",
       "        vertical-align: top;\n",
       "    }\n",
       "\n",
       "    .dataframe thead th {\n",
       "        text-align: right;\n",
       "    }\n",
       "</style>\n",
       "<table border=\"1\" class=\"dataframe\">\n",
       "  <thead>\n",
       "    <tr style=\"text-align: right;\">\n",
       "      <th></th>\n",
       "      <th>TYPE</th>\n",
       "      <th>YEAR</th>\n",
       "      <th>MONTH</th>\n",
       "      <th>DAY</th>\n",
       "      <th>HOUR</th>\n",
       "      <th>MINUTE</th>\n",
       "      <th>HUNDRED_BLOCK</th>\n",
       "      <th>NEIGHBOURHOOD</th>\n",
       "      <th>X</th>\n",
       "      <th>Y</th>\n",
       "    </tr>\n",
       "  </thead>\n",
       "  <tbody>\n",
       "    <tr>\n",
       "      <th>0</th>\n",
       "      <td>Break and Enter Commercial</td>\n",
       "      <td>2012</td>\n",
       "      <td>12</td>\n",
       "      <td>14</td>\n",
       "      <td>8</td>\n",
       "      <td>52</td>\n",
       "      <td>NaN</td>\n",
       "      <td>Oakridge</td>\n",
       "      <td>491285.0000</td>\n",
       "      <td>5.453433e+06</td>\n",
       "    </tr>\n",
       "    <tr>\n",
       "      <th>1</th>\n",
       "      <td>Break and Enter Commercial</td>\n",
       "      <td>2019</td>\n",
       "      <td>3</td>\n",
       "      <td>7</td>\n",
       "      <td>2</td>\n",
       "      <td>6</td>\n",
       "      <td>10XX SITKA SQ</td>\n",
       "      <td>Fairview</td>\n",
       "      <td>490612.9648</td>\n",
       "      <td>5.457110e+06</td>\n",
       "    </tr>\n",
       "    <tr>\n",
       "      <th>2</th>\n",
       "      <td>Break and Enter Commercial</td>\n",
       "      <td>2019</td>\n",
       "      <td>8</td>\n",
       "      <td>27</td>\n",
       "      <td>4</td>\n",
       "      <td>12</td>\n",
       "      <td>10XX ALBERNI ST</td>\n",
       "      <td>West End</td>\n",
       "      <td>491007.7798</td>\n",
       "      <td>5.459174e+06</td>\n",
       "    </tr>\n",
       "    <tr>\n",
       "      <th>3</th>\n",
       "      <td>Break and Enter Commercial</td>\n",
       "      <td>2021</td>\n",
       "      <td>4</td>\n",
       "      <td>26</td>\n",
       "      <td>4</td>\n",
       "      <td>44</td>\n",
       "      <td>10XX ALBERNI ST</td>\n",
       "      <td>West End</td>\n",
       "      <td>491007.7798</td>\n",
       "      <td>5.459174e+06</td>\n",
       "    </tr>\n",
       "    <tr>\n",
       "      <th>4</th>\n",
       "      <td>Break and Enter Commercial</td>\n",
       "      <td>2014</td>\n",
       "      <td>8</td>\n",
       "      <td>8</td>\n",
       "      <td>5</td>\n",
       "      <td>13</td>\n",
       "      <td>10XX ALBERNI ST</td>\n",
       "      <td>West End</td>\n",
       "      <td>491015.9434</td>\n",
       "      <td>5.459166e+06</td>\n",
       "    </tr>\n",
       "  </tbody>\n",
       "</table>\n",
       "</div>"
      ],
      "text/plain": [
       "                         TYPE  YEAR  MONTH  DAY  HOUR  MINUTE  \\\n",
       "0  Break and Enter Commercial  2012     12   14     8      52   \n",
       "1  Break and Enter Commercial  2019      3    7     2       6   \n",
       "2  Break and Enter Commercial  2019      8   27     4      12   \n",
       "3  Break and Enter Commercial  2021      4   26     4      44   \n",
       "4  Break and Enter Commercial  2014      8    8     5      13   \n",
       "\n",
       "     HUNDRED_BLOCK NEIGHBOURHOOD            X             Y  \n",
       "0              NaN      Oakridge  491285.0000  5.453433e+06  \n",
       "1    10XX SITKA SQ      Fairview  490612.9648  5.457110e+06  \n",
       "2  10XX ALBERNI ST      West End  491007.7798  5.459174e+06  \n",
       "3  10XX ALBERNI ST      West End  491007.7798  5.459174e+06  \n",
       "4  10XX ALBERNI ST      West End  491015.9434  5.459166e+06  "
      ]
     },
     "execution_count": 37,
     "metadata": {},
     "output_type": "execute_result"
    }
   ],
   "source": [
    "df_crime.head()"
   ]
  },
  {
   "cell_type": "code",
   "execution_count": 38,
   "id": "c45c9820",
   "metadata": {},
   "outputs": [
    {
     "data": {
      "text/plain": [
       "(869587, 10)"
      ]
     },
     "execution_count": 38,
     "metadata": {},
     "output_type": "execute_result"
    }
   ],
   "source": [
    "df_crime.shape"
   ]
  },
  {
   "cell_type": "code",
   "execution_count": 39,
   "id": "6e22e115",
   "metadata": {},
   "outputs": [
    {
     "data": {
      "text/html": [
       "<div>\n",
       "<style scoped>\n",
       "    .dataframe tbody tr th:only-of-type {\n",
       "        vertical-align: middle;\n",
       "    }\n",
       "\n",
       "    .dataframe tbody tr th {\n",
       "        vertical-align: top;\n",
       "    }\n",
       "\n",
       "    .dataframe thead th {\n",
       "        text-align: right;\n",
       "    }\n",
       "</style>\n",
       "<table border=\"1\" class=\"dataframe\">\n",
       "  <thead>\n",
       "    <tr style=\"text-align: right;\">\n",
       "      <th></th>\n",
       "      <th>YEAR</th>\n",
       "      <th>MONTH</th>\n",
       "      <th>DAY</th>\n",
       "      <th>HOUR</th>\n",
       "      <th>MINUTE</th>\n",
       "      <th>X</th>\n",
       "      <th>Y</th>\n",
       "    </tr>\n",
       "  </thead>\n",
       "  <tbody>\n",
       "    <tr>\n",
       "      <th>count</th>\n",
       "      <td>869587.000000</td>\n",
       "      <td>869587.000000</td>\n",
       "      <td>869587.000000</td>\n",
       "      <td>869587.000000</td>\n",
       "      <td>869587.000000</td>\n",
       "      <td>869514.000000</td>\n",
       "      <td>8.695140e+05</td>\n",
       "    </tr>\n",
       "    <tr>\n",
       "      <th>mean</th>\n",
       "      <td>2012.138207</td>\n",
       "      <td>6.487269</td>\n",
       "      <td>15.389062</td>\n",
       "      <td>12.320931</td>\n",
       "      <td>15.837592</td>\n",
       "      <td>449144.535074</td>\n",
       "      <td>4.979392e+06</td>\n",
       "    </tr>\n",
       "    <tr>\n",
       "      <th>std</th>\n",
       "      <td>6.108514</td>\n",
       "      <td>3.398929</td>\n",
       "      <td>8.758332</td>\n",
       "      <td>7.462616</td>\n",
       "      <td>18.351731</td>\n",
       "      <td>139101.184542</td>\n",
       "      <td>1.541880e+06</td>\n",
       "    </tr>\n",
       "    <tr>\n",
       "      <th>min</th>\n",
       "      <td>2003.000000</td>\n",
       "      <td>1.000000</td>\n",
       "      <td>1.000000</td>\n",
       "      <td>0.000000</td>\n",
       "      <td>0.000000</td>\n",
       "      <td>0.000000</td>\n",
       "      <td>0.000000e+00</td>\n",
       "    </tr>\n",
       "    <tr>\n",
       "      <th>25%</th>\n",
       "      <td>2006.000000</td>\n",
       "      <td>4.000000</td>\n",
       "      <td>8.000000</td>\n",
       "      <td>7.000000</td>\n",
       "      <td>0.000000</td>\n",
       "      <td>490186.834000</td>\n",
       "      <td>5.454211e+06</td>\n",
       "    </tr>\n",
       "    <tr>\n",
       "      <th>50%</th>\n",
       "      <td>2012.000000</td>\n",
       "      <td>7.000000</td>\n",
       "      <td>15.000000</td>\n",
       "      <td>14.000000</td>\n",
       "      <td>5.000000</td>\n",
       "      <td>491568.089700</td>\n",
       "      <td>5.457165e+06</td>\n",
       "    </tr>\n",
       "    <tr>\n",
       "      <th>75%</th>\n",
       "      <td>2018.000000</td>\n",
       "      <td>9.000000</td>\n",
       "      <td>23.000000</td>\n",
       "      <td>18.000000</td>\n",
       "      <td>30.000000</td>\n",
       "      <td>493380.622350</td>\n",
       "      <td>5.458718e+06</td>\n",
       "    </tr>\n",
       "    <tr>\n",
       "      <th>max</th>\n",
       "      <td>2023.000000</td>\n",
       "      <td>12.000000</td>\n",
       "      <td>31.000000</td>\n",
       "      <td>23.000000</td>\n",
       "      <td>59.000000</td>\n",
       "      <td>511303.000000</td>\n",
       "      <td>5.512579e+06</td>\n",
       "    </tr>\n",
       "  </tbody>\n",
       "</table>\n",
       "</div>"
      ],
      "text/plain": [
       "                YEAR          MONTH            DAY           HOUR  \\\n",
       "count  869587.000000  869587.000000  869587.000000  869587.000000   \n",
       "mean     2012.138207       6.487269      15.389062      12.320931   \n",
       "std         6.108514       3.398929       8.758332       7.462616   \n",
       "min      2003.000000       1.000000       1.000000       0.000000   \n",
       "25%      2006.000000       4.000000       8.000000       7.000000   \n",
       "50%      2012.000000       7.000000      15.000000      14.000000   \n",
       "75%      2018.000000       9.000000      23.000000      18.000000   \n",
       "max      2023.000000      12.000000      31.000000      23.000000   \n",
       "\n",
       "              MINUTE              X             Y  \n",
       "count  869587.000000  869514.000000  8.695140e+05  \n",
       "mean       15.837592  449144.535074  4.979392e+06  \n",
       "std        18.351731  139101.184542  1.541880e+06  \n",
       "min         0.000000       0.000000  0.000000e+00  \n",
       "25%         0.000000  490186.834000  5.454211e+06  \n",
       "50%         5.000000  491568.089700  5.457165e+06  \n",
       "75%        30.000000  493380.622350  5.458718e+06  \n",
       "max        59.000000  511303.000000  5.512579e+06  "
      ]
     },
     "execution_count": 39,
     "metadata": {},
     "output_type": "execute_result"
    }
   ],
   "source": [
    "df_crime.describe()"
   ]
  },
  {
   "cell_type": "code",
   "execution_count": 40,
   "id": "76c07553",
   "metadata": {},
   "outputs": [
    {
     "name": "stdout",
     "output_type": "stream",
     "text": [
      "<class 'pandas.core.frame.DataFrame'>\n",
      "RangeIndex: 869587 entries, 0 to 869586\n",
      "Data columns (total 10 columns):\n",
      " #   Column         Non-Null Count   Dtype  \n",
      "---  ------         --------------   -----  \n",
      " 0   TYPE           869587 non-null  object \n",
      " 1   YEAR           869587 non-null  int64  \n",
      " 2   MONTH          869587 non-null  int64  \n",
      " 3   DAY            869587 non-null  int64  \n",
      " 4   HOUR           869587 non-null  int64  \n",
      " 5   MINUTE         869587 non-null  int64  \n",
      " 6   HUNDRED_BLOCK  869575 non-null  object \n",
      " 7   NEIGHBOURHOOD  869447 non-null  object \n",
      " 8   X              869514 non-null  float64\n",
      " 9   Y              869514 non-null  float64\n",
      "dtypes: float64(2), int64(5), object(3)\n",
      "memory usage: 66.3+ MB\n"
     ]
    }
   ],
   "source": [
    "df_crime.info()"
   ]
  },
  {
   "cell_type": "markdown",
   "id": "44a63b8c",
   "metadata": {},
   "source": [
    "<span style=\"font-size: 12px;color:blue\">Change data type </span>"
   ]
  },
  {
   "cell_type": "code",
   "execution_count": null,
   "id": "19cc3d10",
   "metadata": {},
   "outputs": [],
   "source": [
    "###### ?????df['column'] = df['column'].astype('|S80') #where the max length is set at 80 bytes,\n"
   ]
  },
  {
   "cell_type": "markdown",
   "id": "2b209373",
   "metadata": {},
   "source": [
    "<span style=\"font-size: 22px;color:blue\">4.Data cleaning </span>"
   ]
  },
  {
   "cell_type": "markdown",
   "id": "0cff76fc",
   "metadata": {},
   "source": [
    " <span style=\"font-size: 22px;color:blue\">-Finding missing data  </span> \n",
    "<br> <span style=\"font-size: 22px;color:blue\">-Dealing with missing data  </span> "
   ]
  },
  {
   "cell_type": "markdown",
   "id": "af4a4dd6",
   "metadata": {},
   "source": [
    "<span style=\"font-size: 16px;color:blue\">Vancouver's crime dataframe - Check missing data (null values) </span>\n"
   ]
  },
  {
   "cell_type": "code",
   "execution_count": 58,
   "id": "39110846",
   "metadata": {},
   "outputs": [
    {
     "data": {
      "text/plain": [
       "TYPE             0\n",
       "YEAR             0\n",
       "MONTH            0\n",
       "DAY              0\n",
       "HOUR             0\n",
       "MINUTE           0\n",
       "HUNDRED_BLOCK    0\n",
       "NEIGHBOURHOOD    0\n",
       "X                0\n",
       "Y                0\n",
       "dtype: int64"
      ]
     },
     "execution_count": 58,
     "metadata": {},
     "output_type": "execute_result"
    }
   ],
   "source": [
    "df_crime.isna().sum()"
   ]
  },
  {
   "cell_type": "code",
   "execution_count": 42,
   "id": "a445ec2d",
   "metadata": {},
   "outputs": [
    {
     "data": {
      "text/plain": [
       "Theft from Vehicle                                        241178\n",
       "Other Theft                                               216264\n",
       "Mischief                                                  105469\n",
       "Offence Against a Person                                   75763\n",
       "Break and Enter Residential/Other                          72223\n",
       "Break and Enter Commercial                                 47360\n",
       "Theft of Vehicle                                           44735\n",
       "Theft of Bicycle                                           36951\n",
       "Vehicle Collision or Pedestrian Struck (with Injury)       28980\n",
       "Vehicle Collision or Pedestrian Struck (with Fatality)       352\n",
       "Homicide                                                     312\n",
       "Name: TYPE, dtype: int64"
      ]
     },
     "execution_count": 42,
     "metadata": {},
     "output_type": "execute_result"
    }
   ],
   "source": [
    "df_crime.TYPE.value_counts(dropna=False)"
   ]
  },
  {
   "cell_type": "code",
   "execution_count": 43,
   "id": "ea4cee96",
   "metadata": {},
   "outputs": [
    {
     "data": {
      "text/plain": [
       "Central Business District    233815\n",
       "West End                      78131\n",
       "Strathcona                    55862\n",
       "Mount Pleasant                54791\n",
       "Fairview                      53393\n",
       "Grandview-Woodland            48833\n",
       "Renfrew-Collingwood           46547\n",
       "Kitsilano                     42517\n",
       "Kensington-Cedar Cottage      41138\n",
       "Hastings-Sunrise              30013\n",
       "Sunset                        29147\n",
       "Marpole                       21790\n",
       "Riley Park                    20835\n",
       "Victoria-Fraserview           17438\n",
       "Killarney                     16457\n",
       "Oakridge                      13090\n",
       "Kerrisdale                    11375\n",
       "Dunbar-Southlands             11344\n",
       "West Point Grey                9529\n",
       "Arbutus Ridge                  9337\n",
       "South Cambie                   8844\n",
       "Shaughnessy                    8613\n",
       "Stanley Park                   5606\n",
       "Musqueam                       1002\n",
       "NaN                             140\n",
       "Name: NEIGHBOURHOOD, dtype: int64"
      ]
     },
     "execution_count": 43,
     "metadata": {},
     "output_type": "execute_result"
    }
   ],
   "source": [
    "df_crime.NEIGHBOURHOOD.value_counts(dropna=False)"
   ]
  },
  {
   "cell_type": "code",
   "execution_count": 44,
   "id": "28403735",
   "metadata": {},
   "outputs": [
    {
     "data": {
      "text/html": [
       "<div>\n",
       "<style scoped>\n",
       "    .dataframe tbody tr th:only-of-type {\n",
       "        vertical-align: middle;\n",
       "    }\n",
       "\n",
       "    .dataframe tbody tr th {\n",
       "        vertical-align: top;\n",
       "    }\n",
       "\n",
       "    .dataframe thead th {\n",
       "        text-align: right;\n",
       "    }\n",
       "</style>\n",
       "<table border=\"1\" class=\"dataframe\">\n",
       "  <thead>\n",
       "    <tr style=\"text-align: right;\">\n",
       "      <th></th>\n",
       "      <th>TYPE</th>\n",
       "      <th>YEAR</th>\n",
       "      <th>MONTH</th>\n",
       "      <th>DAY</th>\n",
       "      <th>HOUR</th>\n",
       "      <th>MINUTE</th>\n",
       "      <th>HUNDRED_BLOCK</th>\n",
       "      <th>NEIGHBOURHOOD</th>\n",
       "      <th>X</th>\n",
       "      <th>Y</th>\n",
       "    </tr>\n",
       "  </thead>\n",
       "  <tbody>\n",
       "    <tr>\n",
       "      <th>0</th>\n",
       "      <td>Break and Enter Commercial</td>\n",
       "      <td>2012</td>\n",
       "      <td>12</td>\n",
       "      <td>14</td>\n",
       "      <td>8</td>\n",
       "      <td>52</td>\n",
       "      <td>NaN</td>\n",
       "      <td>Oakridge</td>\n",
       "      <td>491285.0</td>\n",
       "      <td>5453433.0</td>\n",
       "    </tr>\n",
       "    <tr>\n",
       "      <th>47360</th>\n",
       "      <td>Break and Enter Residential/Other</td>\n",
       "      <td>2004</td>\n",
       "      <td>5</td>\n",
       "      <td>13</td>\n",
       "      <td>9</td>\n",
       "      <td>0</td>\n",
       "      <td>NaN</td>\n",
       "      <td>Mount Pleasant</td>\n",
       "      <td>492807.0</td>\n",
       "      <td>5457236.0</td>\n",
       "    </tr>\n",
       "    <tr>\n",
       "      <th>47361</th>\n",
       "      <td>Break and Enter Residential/Other</td>\n",
       "      <td>2006</td>\n",
       "      <td>6</td>\n",
       "      <td>21</td>\n",
       "      <td>4</td>\n",
       "      <td>0</td>\n",
       "      <td>NaN</td>\n",
       "      <td>Oakridge</td>\n",
       "      <td>491854.0</td>\n",
       "      <td>5452682.0</td>\n",
       "    </tr>\n",
       "    <tr>\n",
       "      <th>119629</th>\n",
       "      <td>Homicide</td>\n",
       "      <td>2016</td>\n",
       "      <td>11</td>\n",
       "      <td>1</td>\n",
       "      <td>0</td>\n",
       "      <td>0</td>\n",
       "      <td>OFFSET TO PROTECT PRIVACY</td>\n",
       "      <td>NaN</td>\n",
       "      <td>0.0</td>\n",
       "      <td>0.0</td>\n",
       "    </tr>\n",
       "    <tr>\n",
       "      <th>119894</th>\n",
       "      <td>Homicide</td>\n",
       "      <td>2016</td>\n",
       "      <td>3</td>\n",
       "      <td>10</td>\n",
       "      <td>0</td>\n",
       "      <td>0</td>\n",
       "      <td>OFFSET TO PROTECT PRIVACY</td>\n",
       "      <td>NaN</td>\n",
       "      <td>0.0</td>\n",
       "      <td>0.0</td>\n",
       "    </tr>\n",
       "    <tr>\n",
       "      <th>...</th>\n",
       "      <td>...</td>\n",
       "      <td>...</td>\n",
       "      <td>...</td>\n",
       "      <td>...</td>\n",
       "      <td>...</td>\n",
       "      <td>...</td>\n",
       "      <td>...</td>\n",
       "      <td>...</td>\n",
       "      <td>...</td>\n",
       "      <td>...</td>\n",
       "    </tr>\n",
       "    <tr>\n",
       "      <th>864514</th>\n",
       "      <td>Vehicle Collision or Pedestrian Struck (with I...</td>\n",
       "      <td>2006</td>\n",
       "      <td>1</td>\n",
       "      <td>24</td>\n",
       "      <td>8</td>\n",
       "      <td>4</td>\n",
       "      <td>TERMINAL AVE / QUEBEC ST</td>\n",
       "      <td>NaN</td>\n",
       "      <td>NaN</td>\n",
       "      <td>NaN</td>\n",
       "    </tr>\n",
       "    <tr>\n",
       "      <th>864669</th>\n",
       "      <td>Vehicle Collision or Pedestrian Struck (with I...</td>\n",
       "      <td>2004</td>\n",
       "      <td>11</td>\n",
       "      <td>7</td>\n",
       "      <td>3</td>\n",
       "      <td>18</td>\n",
       "      <td>TRANS CANADA HWY / E 1ST AV</td>\n",
       "      <td>NaN</td>\n",
       "      <td>NaN</td>\n",
       "      <td>NaN</td>\n",
       "    </tr>\n",
       "    <tr>\n",
       "      <th>864728</th>\n",
       "      <td>Vehicle Collision or Pedestrian Struck (with I...</td>\n",
       "      <td>2006</td>\n",
       "      <td>2</td>\n",
       "      <td>23</td>\n",
       "      <td>16</td>\n",
       "      <td>17</td>\n",
       "      <td>TURNER ST / KAMLOOPS ST</td>\n",
       "      <td>NaN</td>\n",
       "      <td>NaN</td>\n",
       "      <td>NaN</td>\n",
       "    </tr>\n",
       "    <tr>\n",
       "      <th>865209</th>\n",
       "      <td>Vehicle Collision or Pedestrian Struck (with I...</td>\n",
       "      <td>2003</td>\n",
       "      <td>10</td>\n",
       "      <td>22</td>\n",
       "      <td>14</td>\n",
       "      <td>50</td>\n",
       "      <td>VICTORIA DR / FINDLAY ST</td>\n",
       "      <td>NaN</td>\n",
       "      <td>NaN</td>\n",
       "      <td>NaN</td>\n",
       "    </tr>\n",
       "    <tr>\n",
       "      <th>869064</th>\n",
       "      <td>Vehicle Collision or Pedestrian Struck (with I...</td>\n",
       "      <td>2003</td>\n",
       "      <td>6</td>\n",
       "      <td>2</td>\n",
       "      <td>17</td>\n",
       "      <td>0</td>\n",
       "      <td>WESTVIEW OVERPASS AT #1 HWY EASTBOUND</td>\n",
       "      <td>NaN</td>\n",
       "      <td>NaN</td>\n",
       "      <td>NaN</td>\n",
       "    </tr>\n",
       "  </tbody>\n",
       "</table>\n",
       "<p>152 rows × 10 columns</p>\n",
       "</div>"
      ],
      "text/plain": [
       "                                                     TYPE  YEAR  MONTH  DAY  \\\n",
       "0                              Break and Enter Commercial  2012     12   14   \n",
       "47360                   Break and Enter Residential/Other  2004      5   13   \n",
       "47361                   Break and Enter Residential/Other  2006      6   21   \n",
       "119629                                           Homicide  2016     11    1   \n",
       "119894                                           Homicide  2016      3   10   \n",
       "...                                                   ...   ...    ...  ...   \n",
       "864514  Vehicle Collision or Pedestrian Struck (with I...  2006      1   24   \n",
       "864669  Vehicle Collision or Pedestrian Struck (with I...  2004     11    7   \n",
       "864728  Vehicle Collision or Pedestrian Struck (with I...  2006      2   23   \n",
       "865209  Vehicle Collision or Pedestrian Struck (with I...  2003     10   22   \n",
       "869064  Vehicle Collision or Pedestrian Struck (with I...  2003      6    2   \n",
       "\n",
       "        HOUR  MINUTE                          HUNDRED_BLOCK   NEIGHBOURHOOD  \\\n",
       "0          8      52                                    NaN        Oakridge   \n",
       "47360      9       0                                    NaN  Mount Pleasant   \n",
       "47361      4       0                                    NaN        Oakridge   \n",
       "119629     0       0              OFFSET TO PROTECT PRIVACY             NaN   \n",
       "119894     0       0              OFFSET TO PROTECT PRIVACY             NaN   \n",
       "...      ...     ...                                    ...             ...   \n",
       "864514     8       4               TERMINAL AVE / QUEBEC ST             NaN   \n",
       "864669     3      18            TRANS CANADA HWY / E 1ST AV             NaN   \n",
       "864728    16      17                TURNER ST / KAMLOOPS ST             NaN   \n",
       "865209    14      50               VICTORIA DR / FINDLAY ST             NaN   \n",
       "869064    17       0  WESTVIEW OVERPASS AT #1 HWY EASTBOUND             NaN   \n",
       "\n",
       "               X          Y  \n",
       "0       491285.0  5453433.0  \n",
       "47360   492807.0  5457236.0  \n",
       "47361   491854.0  5452682.0  \n",
       "119629       0.0        0.0  \n",
       "119894       0.0        0.0  \n",
       "...          ...        ...  \n",
       "864514       NaN        NaN  \n",
       "864669       NaN        NaN  \n",
       "864728       NaN        NaN  \n",
       "865209       NaN        NaN  \n",
       "869064       NaN        NaN  \n",
       "\n",
       "[152 rows x 10 columns]"
      ]
     },
     "execution_count": 44,
     "metadata": {},
     "output_type": "execute_result"
    }
   ],
   "source": [
    "#df_crime[df_crime.isna().any(axis=1)]\n",
    "df_crime[df_crime.isna().any(axis=1)]"
   ]
  },
  {
   "cell_type": "code",
   "execution_count": 3,
   "id": "77fac81f",
   "metadata": {},
   "outputs": [],
   "source": [
    "#df_crime[df_crime[\"NEIGHBOURHOOD\"].isna() &  df_crime[\"HUNDRED_BLOCK\"].isna()]\n",
    "df_crime.dropna(subset = [ \"NEIGHBOURHOOD\" , \"HUNDRED_BLOCK\"], inplace=True)\n",
    "## Records in which both fielsd are Null \n",
    "## df_crime[df_crime[\"NEIGHBOURHOOD\"].isna() &  df_crime[\"HUNDRED_BLOCK\"].isna()]"
   ]
  },
  {
   "cell_type": "code",
   "execution_count": 4,
   "id": "444e5972",
   "metadata": {},
   "outputs": [
    {
     "data": {
      "text/html": [
       "<div>\n",
       "<style scoped>\n",
       "    .dataframe tbody tr th:only-of-type {\n",
       "        vertical-align: middle;\n",
       "    }\n",
       "\n",
       "    .dataframe tbody tr th {\n",
       "        vertical-align: top;\n",
       "    }\n",
       "\n",
       "    .dataframe thead th {\n",
       "        text-align: right;\n",
       "    }\n",
       "</style>\n",
       "<table border=\"1\" class=\"dataframe\">\n",
       "  <thead>\n",
       "    <tr style=\"text-align: right;\">\n",
       "      <th></th>\n",
       "      <th>TYPE</th>\n",
       "      <th>YEAR</th>\n",
       "      <th>MONTH</th>\n",
       "      <th>DAY</th>\n",
       "      <th>HOUR</th>\n",
       "      <th>MINUTE</th>\n",
       "      <th>HUNDRED_BLOCK</th>\n",
       "      <th>NEIGHBOURHOOD</th>\n",
       "      <th>X</th>\n",
       "      <th>Y</th>\n",
       "    </tr>\n",
       "  </thead>\n",
       "  <tbody>\n",
       "  </tbody>\n",
       "</table>\n",
       "</div>"
      ],
      "text/plain": [
       "Empty DataFrame\n",
       "Columns: [TYPE, YEAR, MONTH, DAY, HOUR, MINUTE, HUNDRED_BLOCK, NEIGHBOURHOOD, X, Y]\n",
       "Index: []"
      ]
     },
     "execution_count": 4,
     "metadata": {},
     "output_type": "execute_result"
    }
   ],
   "source": [
    "df_crime[df_crime.isna().any(axis=1)]"
   ]
  },
  {
   "cell_type": "code",
   "execution_count": 5,
   "id": "230eb818",
   "metadata": {},
   "outputs": [
    {
     "data": {
      "text/plain": [
       "Central Business District    233814\n",
       "West End                      78131\n",
       "Strathcona                    55860\n",
       "Mount Pleasant                54789\n",
       "Fairview                      53392\n",
       "Grandview-Woodland            48833\n",
       "Renfrew-Collingwood           46547\n",
       "Kitsilano                     42516\n",
       "Kensington-Cedar Cottage      41138\n",
       "Hastings-Sunrise              30013\n",
       "Sunset                        29147\n",
       "Marpole                       21790\n",
       "Riley Park                    20835\n",
       "Victoria-Fraserview           17437\n",
       "Killarney                     16457\n",
       "Oakridge                      13088\n",
       "Kerrisdale                    11375\n",
       "Dunbar-Southlands             11344\n",
       "West Point Grey                9528\n",
       "Arbutus Ridge                  9336\n",
       "South Cambie                   8844\n",
       "Shaughnessy                    8613\n",
       "Stanley Park                   5606\n",
       "Musqueam                       1002\n",
       "Name: NEIGHBOURHOOD, dtype: int64"
      ]
     },
     "execution_count": 5,
     "metadata": {},
     "output_type": "execute_result"
    }
   ],
   "source": [
    "df_crime.NEIGHBOURHOOD.value_counts(dropna=False)"
   ]
  },
  {
   "cell_type": "markdown",
   "id": "9d0efc84",
   "metadata": {},
   "source": [
    " <span style=\"font-size: 22px;color:blue\">-Finding Inconsistant texts and typos </span>\n",
    " <span style=\"font-size: 22px;color:blue\">-Fixing Inconsistant texts and typos </span>"
   ]
  },
  {
   "cell_type": "code",
   "execution_count": 82,
   "id": "bdf010db",
   "metadata": {},
   "outputs": [
    {
     "data": {
      "text/plain": [
       "count    869435.000000\n",
       "mean       2012.138707\n",
       "std           6.108308\n",
       "min        2003.000000\n",
       "25%        2006.000000\n",
       "50%        2012.000000\n",
       "75%        2018.000000\n",
       "max        2023.000000\n",
       "Name: YEAR, dtype: float64"
      ]
     },
     "execution_count": 82,
     "metadata": {},
     "output_type": "execute_result"
    }
   ],
   "source": [
    " df_crime.YEAR.describe()\n",
    " # The same way check for all numeric columns - No inconsistencies \n",
    "  "
   ]
  },
  {
   "cell_type": "code",
   "execution_count": 83,
   "id": "47649ab6",
   "metadata": {},
   "outputs": [
    {
     "data": {
      "text/plain": [
       "Theft from Vehicle                                        241176\n",
       "Other Theft                                               216258\n",
       "Mischief                                                  105469\n",
       "Offence Against a Person                                   75721\n",
       "Break and Enter Residential/Other                          72221\n",
       "Break and Enter Commercial                                 47359\n",
       "Theft of Vehicle                                           44734\n",
       "Theft of Bicycle                                           36951\n",
       "Vehicle Collision or Pedestrian Struck (with Injury)       28886\n",
       "Vehicle Collision or Pedestrian Struck (with Fatality)       350\n",
       "Homicide                                                     310\n",
       "Name: TYPE, dtype: int64"
      ]
     },
     "execution_count": 83,
     "metadata": {},
     "output_type": "execute_result"
    }
   ],
   "source": [
    " df_crime.TYPE.value_counts()\n",
    " # The same way check for all categorical columns - No inconsistencies "
   ]
  },
  {
   "cell_type": "markdown",
   "id": "8d8ff9a4",
   "metadata": {},
   "source": [
    " <span style=\"font-size: 22px;color:blue\">-Finding Duplicates </span>\n",
    " <span style=\"font-size: 22px;color:blue\">-Removing Duplicates  </span>"
   ]
  },
  {
   "cell_type": "code",
   "execution_count": 85,
   "id": "08ccb97f",
   "metadata": {},
   "outputs": [
    {
     "data": {
      "text/html": [
       "<div>\n",
       "<style scoped>\n",
       "    .dataframe tbody tr th:only-of-type {\n",
       "        vertical-align: middle;\n",
       "    }\n",
       "\n",
       "    .dataframe tbody tr th {\n",
       "        vertical-align: top;\n",
       "    }\n",
       "\n",
       "    .dataframe thead th {\n",
       "        text-align: right;\n",
       "    }\n",
       "</style>\n",
       "<table border=\"1\" class=\"dataframe\">\n",
       "  <thead>\n",
       "    <tr style=\"text-align: right;\">\n",
       "      <th></th>\n",
       "      <th>TYPE</th>\n",
       "      <th>YEAR</th>\n",
       "      <th>MONTH</th>\n",
       "      <th>DAY</th>\n",
       "      <th>HOUR</th>\n",
       "      <th>MINUTE</th>\n",
       "      <th>HUNDRED_BLOCK</th>\n",
       "      <th>NEIGHBOURHOOD</th>\n",
       "      <th>X</th>\n",
       "      <th>Y</th>\n",
       "    </tr>\n",
       "  </thead>\n",
       "  <tbody>\n",
       "    <tr>\n",
       "      <th>225410</th>\n",
       "      <td>Offence Against a Person</td>\n",
       "      <td>2006</td>\n",
       "      <td>6</td>\n",
       "      <td>6</td>\n",
       "      <td>0</td>\n",
       "      <td>0</td>\n",
       "      <td>OFFSET TO PROTECT PRIVACY</td>\n",
       "      <td>Stanley Park</td>\n",
       "      <td>0.0000</td>\n",
       "      <td>0.000000e+00</td>\n",
       "    </tr>\n",
       "    <tr>\n",
       "      <th>225428</th>\n",
       "      <td>Offence Against a Person</td>\n",
       "      <td>2004</td>\n",
       "      <td>11</td>\n",
       "      <td>3</td>\n",
       "      <td>0</td>\n",
       "      <td>0</td>\n",
       "      <td>OFFSET TO PROTECT PRIVACY</td>\n",
       "      <td>Stanley Park</td>\n",
       "      <td>0.0000</td>\n",
       "      <td>0.000000e+00</td>\n",
       "    </tr>\n",
       "    <tr>\n",
       "      <th>225477</th>\n",
       "      <td>Offence Against a Person</td>\n",
       "      <td>2009</td>\n",
       "      <td>9</td>\n",
       "      <td>27</td>\n",
       "      <td>0</td>\n",
       "      <td>0</td>\n",
       "      <td>OFFSET TO PROTECT PRIVACY</td>\n",
       "      <td>Stanley Park</td>\n",
       "      <td>0.0000</td>\n",
       "      <td>0.000000e+00</td>\n",
       "    </tr>\n",
       "    <tr>\n",
       "      <th>225481</th>\n",
       "      <td>Offence Against a Person</td>\n",
       "      <td>2008</td>\n",
       "      <td>9</td>\n",
       "      <td>25</td>\n",
       "      <td>0</td>\n",
       "      <td>0</td>\n",
       "      <td>OFFSET TO PROTECT PRIVACY</td>\n",
       "      <td>Stanley Park</td>\n",
       "      <td>0.0000</td>\n",
       "      <td>0.000000e+00</td>\n",
       "    </tr>\n",
       "    <tr>\n",
       "      <th>225603</th>\n",
       "      <td>Offence Against a Person</td>\n",
       "      <td>2006</td>\n",
       "      <td>1</td>\n",
       "      <td>8</td>\n",
       "      <td>0</td>\n",
       "      <td>0</td>\n",
       "      <td>OFFSET TO PROTECT PRIVACY</td>\n",
       "      <td>West End</td>\n",
       "      <td>0.0000</td>\n",
       "      <td>0.000000e+00</td>\n",
       "    </tr>\n",
       "    <tr>\n",
       "      <th>...</th>\n",
       "      <td>...</td>\n",
       "      <td>...</td>\n",
       "      <td>...</td>\n",
       "      <td>...</td>\n",
       "      <td>...</td>\n",
       "      <td>...</td>\n",
       "      <td>...</td>\n",
       "      <td>...</td>\n",
       "      <td>...</td>\n",
       "      <td>...</td>\n",
       "    </tr>\n",
       "    <tr>\n",
       "      <th>301125</th>\n",
       "      <td>Offence Against a Person</td>\n",
       "      <td>2023</td>\n",
       "      <td>6</td>\n",
       "      <td>14</td>\n",
       "      <td>0</td>\n",
       "      <td>0</td>\n",
       "      <td>OFFSET TO PROTECT PRIVACY</td>\n",
       "      <td>Strathcona</td>\n",
       "      <td>0.0000</td>\n",
       "      <td>0.000000e+00</td>\n",
       "    </tr>\n",
       "    <tr>\n",
       "      <th>301126</th>\n",
       "      <td>Offence Against a Person</td>\n",
       "      <td>2023</td>\n",
       "      <td>7</td>\n",
       "      <td>10</td>\n",
       "      <td>0</td>\n",
       "      <td>0</td>\n",
       "      <td>OFFSET TO PROTECT PRIVACY</td>\n",
       "      <td>Strathcona</td>\n",
       "      <td>0.0000</td>\n",
       "      <td>0.000000e+00</td>\n",
       "    </tr>\n",
       "    <tr>\n",
       "      <th>304288</th>\n",
       "      <td>Other Theft</td>\n",
       "      <td>2017</td>\n",
       "      <td>6</td>\n",
       "      <td>13</td>\n",
       "      <td>23</td>\n",
       "      <td>30</td>\n",
       "      <td>10XX DAVIE ST</td>\n",
       "      <td>West End</td>\n",
       "      <td>490565.3884</td>\n",
       "      <td>5.458520e+06</td>\n",
       "    </tr>\n",
       "    <tr>\n",
       "      <th>304289</th>\n",
       "      <td>Other Theft</td>\n",
       "      <td>2017</td>\n",
       "      <td>6</td>\n",
       "      <td>14</td>\n",
       "      <td>0</td>\n",
       "      <td>0</td>\n",
       "      <td>10XX DAVIE ST</td>\n",
       "      <td>West End</td>\n",
       "      <td>490565.3884</td>\n",
       "      <td>5.458520e+06</td>\n",
       "    </tr>\n",
       "    <tr>\n",
       "      <th>463722</th>\n",
       "      <td>Other Theft</td>\n",
       "      <td>2022</td>\n",
       "      <td>7</td>\n",
       "      <td>22</td>\n",
       "      <td>12</td>\n",
       "      <td>20</td>\n",
       "      <td>7XX DUNSMUIR ST</td>\n",
       "      <td>Central Business District</td>\n",
       "      <td>491512.5072</td>\n",
       "      <td>5.459023e+06</td>\n",
       "    </tr>\n",
       "  </tbody>\n",
       "</table>\n",
       "<p>31458 rows × 10 columns</p>\n",
       "</div>"
      ],
      "text/plain": [
       "                            TYPE  YEAR  MONTH  DAY  HOUR  MINUTE  \\\n",
       "225410  Offence Against a Person  2006      6    6     0       0   \n",
       "225428  Offence Against a Person  2004     11    3     0       0   \n",
       "225477  Offence Against a Person  2009      9   27     0       0   \n",
       "225481  Offence Against a Person  2008      9   25     0       0   \n",
       "225603  Offence Against a Person  2006      1    8     0       0   \n",
       "...                          ...   ...    ...  ...   ...     ...   \n",
       "301125  Offence Against a Person  2023      6   14     0       0   \n",
       "301126  Offence Against a Person  2023      7   10     0       0   \n",
       "304288               Other Theft  2017      6   13    23      30   \n",
       "304289               Other Theft  2017      6   14     0       0   \n",
       "463722               Other Theft  2022      7   22    12      20   \n",
       "\n",
       "                    HUNDRED_BLOCK              NEIGHBOURHOOD            X  \\\n",
       "225410  OFFSET TO PROTECT PRIVACY               Stanley Park       0.0000   \n",
       "225428  OFFSET TO PROTECT PRIVACY               Stanley Park       0.0000   \n",
       "225477  OFFSET TO PROTECT PRIVACY               Stanley Park       0.0000   \n",
       "225481  OFFSET TO PROTECT PRIVACY               Stanley Park       0.0000   \n",
       "225603  OFFSET TO PROTECT PRIVACY                   West End       0.0000   \n",
       "...                           ...                        ...          ...   \n",
       "301125  OFFSET TO PROTECT PRIVACY                 Strathcona       0.0000   \n",
       "301126  OFFSET TO PROTECT PRIVACY                 Strathcona       0.0000   \n",
       "304288              10XX DAVIE ST                   West End  490565.3884   \n",
       "304289              10XX DAVIE ST                   West End  490565.3884   \n",
       "463722            7XX DUNSMUIR ST  Central Business District  491512.5072   \n",
       "\n",
       "                   Y  \n",
       "225410  0.000000e+00  \n",
       "225428  0.000000e+00  \n",
       "225477  0.000000e+00  \n",
       "225481  0.000000e+00  \n",
       "225603  0.000000e+00  \n",
       "...              ...  \n",
       "301125  0.000000e+00  \n",
       "301126  0.000000e+00  \n",
       "304288  5.458520e+06  \n",
       "304289  5.458520e+06  \n",
       "463722  5.459023e+06  \n",
       "\n",
       "[31458 rows x 10 columns]"
      ]
     },
     "execution_count": 85,
     "metadata": {},
     "output_type": "execute_result"
    }
   ],
   "source": [
    "df_crime[df_crime.duplicated()]\n",
    "## Duplicate records here might be because of different Aspects of the Same Incident: \n",
    "## Sometimes, a single incident might involve multiple offenses or different types of crimes. \n",
    "## This could lead to multiple entries with slight variations in other details\n",
    "## In this specific project, furthur investgation is nor possible, so I assumed that the duplicates\n",
    "## are because of data entrye error and removed them."
   ]
  },
  {
   "cell_type": "code",
   "execution_count": 6,
   "id": "8ffbf7ed",
   "metadata": {},
   "outputs": [],
   "source": [
    "df_crime.drop_duplicates(inplace=True)"
   ]
  },
  {
   "cell_type": "code",
   "execution_count": 7,
   "id": "83d48c77",
   "metadata": {},
   "outputs": [
    {
     "data": {
      "text/plain": [
       "0"
      ]
     },
     "execution_count": 7,
     "metadata": {},
     "output_type": "execute_result"
    }
   ],
   "source": [
    "df_crime.duplicated().sum()"
   ]
  },
  {
   "cell_type": "markdown",
   "id": "e73377ea",
   "metadata": {},
   "source": [
    " <span style=\"font-size: 22px;color:blue\">-Finding  outliers </span> \n",
    "<br> <span style=\"font-size: 22px;color:blue\">-Dealing with outliers  </span> "
   ]
  },
  {
   "cell_type": "code",
   "execution_count": 9,
   "id": "c720f25e",
   "metadata": {},
   "outputs": [
    {
     "data": {
      "image/png": "[encoded data removed]",
      "text/plain": [
       "<Figure size 600x800 with 9 Axes>"
      ]
     },
     "metadata": {},
     "output_type": "display_data"
    }
   ],
   "source": [
    "df_crime.hist(figsize=(6,8));"
   ]
  },
  {
   "cell_type": "code",
   "execution_count": 10,
   "id": "5710d0cd",
   "metadata": {},
   "outputs": [
    {
     "data": {
      "image/png": "[encoded data removed]",
      "text/plain": [
       "<Figure size 640x480 with 1 Axes>"
      ]
     },
     "metadata": {},
     "output_type": "display_data"
    }
   ],
   "source": [
    "sns.histplot(df_crime.HOUR);"
   ]
  },
  {
   "cell_type": "code",
   "execution_count": 14,
   "id": "24e5b636",
   "metadata": {},
   "outputs": [],
   "source": [
    "q25,q50,q75 = np.percentile(df_crime.HOUR,(25,50,75))"
   ]
  },
  {
   "cell_type": "code",
   "execution_count": 15,
   "id": "cdab0cfe",
   "metadata": {},
   "outputs": [
    {
     "data": {
      "text/plain": [
       "(8.0, 14.0, 19.0)"
      ]
     },
     "execution_count": 15,
     "metadata": {},
     "output_type": "execute_result"
    }
   ],
   "source": [
    "q25,q50,q75"
   ]
  },
  {
   "cell_type": "code",
   "execution_count": 16,
   "id": "9a1b9b49",
   "metadata": {},
   "outputs": [],
   "source": [
    "iqr = q75 -q25"
   ]
  },
  {
   "cell_type": "code",
   "execution_count": 20,
   "id": "24b0956b",
   "metadata": {},
   "outputs": [
    {
     "data": {
      "text/plain": [
       "[]"
      ]
     },
     "execution_count": 20,
     "metadata": {},
     "output_type": "execute_result"
    }
   ],
   "source": [
    "[hour for HOUR in df_crime.HOUR if (HOUR < q25- 1.5*iqr ) or (HOUR > q75 +1.5 *iqr)]\n"
   ]
  },
  {
   "cell_type": "code",
   "execution_count": null,
   "id": "2a3028b3",
   "metadata": {},
   "outputs": [],
   "source": []
  }
 ],
 "metadata": {
  "kernelspec": {
   "display_name": "Python 3 (ipykernel)",
   "language": "python",
   "name": "python3"
  },
  "language_info": {
   "codemirror_mode": {
    "name": "ipython",
    "version": 3
   },
   "file_extension": ".py",
   "mimetype": "text/x-python",
   "name": "python",
   "nbconvert_exporter": "python",
   "pygments_lexer": "ipython3",
   "version": "3.9.13"
  }
 },
 "nbformat": 4,
 "nbformat_minor": 5
}
