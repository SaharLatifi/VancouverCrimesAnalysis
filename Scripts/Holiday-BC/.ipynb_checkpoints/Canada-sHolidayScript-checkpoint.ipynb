{
 "cells": [
  {
   "cell_type": "code",
   "execution_count": null,
   "id": "1946dbd9",
   "metadata": {},
   "outputs": [],
   "source": [
    "# This script extracts and identifies Canadian holidays within the date range\n",
    "# from 2003-01-01 to 2024-12-30. It creates a DataFrame containing each date\n",
    "# in the range, checks whether each date is a Canadian holiday using the 'holidays' library,\n",
    "# and adds a corresponding 'is_holiday' flag. The resulting DataFrame is exported to an\n",
    "# Excel file named 'CanadaHolidays.xlsx'.\n",
    "\n",
    "# Data Sources and Attribution:\n",
    "# - Canadian holidays data: Original data extracted from Wikipedia. Attribution and licensing information can be found on the Wikipedia page.\n",
    "# - PyPI holidays Library: This script uses the 'holidays' library available on PyPI to identify holidays. The original source of holiday data and licensing information can be found within the library documentation.\n"
   ]
  },
  {
   "cell_type": "code",
   "execution_count": 5,
   "id": "3c27fb7b",
   "metadata": {},
   "outputs": [],
   "source": [
    "import pandas as pd\n",
    "import datetime\n",
    "from datetime import date\n",
    "import holidays"
   ]
  },
  {
   "cell_type": "code",
   "execution_count": 9,
   "id": "9ec21cbf",
   "metadata": {},
   "outputs": [],
   "source": [
    "\n",
    "# Create a list of dates using date_range\n",
    "start_date = datetime.date(2003, 1, 1)\n",
    "end_date = datetime.date(2024, 12, 30)\n",
    "date_range = pd.date_range(start=start_date, end=end_date, freq='D')\n",
    "## is_holiday = [0 for i in range(len(date_range))] \n",
    "\n",
    "# Create a DataFrame with the dates\n",
    "date_df = pd.DataFrame({\"date\" : date_range })\n",
    "# Extract the date component and add it as a new column\n",
    "date_df['just_date']= date_df['date'].dt.date\n",
    "# Initialize a new column 'is_holiday' with default value 0\n",
    "date_df['is_holiday'] = 0 \n",
    "date_df['holiday'] = ''\n",
    "# Get the list of Canadian holidays using the 'holidays' library\n",
    "ca_holidays = holidays.country_holidays('Canada', subdiv='BC')\n",
    "             \n",
    "\n",
    "# Loop through each row in the DataFrame\n",
    "for ind in date_df.index:\n",
    "    # Check if the date is a Canadian holiday\n",
    "    if date_df['just_date'][ind]in ca_holidays:  #  date(2015, 1, 1) in ca_holidays:\n",
    "            #   date_df1.loc[date_df1['is_holiday']] = date_df1['date'][ind].date() in ca_holidays\n",
    "        date_df.loc[ind,'is_holiday'] = 1 ##date_df['just_date'][ind].date() in ca_holidays\n",
    "        date_df.loc[ind,'holiday']= ca_holidays.get(date_df['just_date'][ind])\n",
    "# Export the DataFrame to an Excel file\n",
    "output_file = 'BCHolidays.xlsx'\n",
    "date_df.to_excel(output_file, index=False)"
   ]
  },
  {
   "cell_type": "code",
   "execution_count": 12,
   "id": "397d9c10",
   "metadata": {},
   "outputs": [
    {
     "name": "stdout",
     "output_type": "stream",
     "text": [
      "{datetime.date(2015, 7, 1): 'Canada Day', datetime.date(2015, 2, 16): 'Family Day', datetime.date(2015, 5, 18): 'Victoria Day', datetime.date(2015, 8, 3): 'Civic Holiday', datetime.date(2015, 10, 12): 'Thanksgiving', datetime.date(2015, 1, 1): \"New Year's Day\", datetime.date(2015, 4, 3): 'Good Friday', datetime.date(2015, 4, 6): 'Easter Monday', datetime.date(2015, 9, 7): 'Labour Day', datetime.date(2015, 12, 25): 'Christmas Day', datetime.date(2015, 12, 26): 'Boxing Day', datetime.date(2015, 12, 28): 'Boxing Day (Observed)', datetime.date(2014, 7, 1): 'Canada Day', datetime.date(2014, 2, 17): 'Family Day', datetime.date(2014, 5, 19): 'Victoria Day', datetime.date(2014, 8, 4): 'Civic Holiday', datetime.date(2014, 10, 13): 'Thanksgiving', datetime.date(2014, 1, 1): \"New Year's Day\", datetime.date(2014, 4, 18): 'Good Friday', datetime.date(2014, 4, 21): 'Easter Monday', datetime.date(2014, 9, 1): 'Labour Day', datetime.date(2014, 12, 25): 'Christmas Day', datetime.date(2014, 12, 26): 'Boxing Day'}\n"
     ]
    }
   ],
   "source": [
    "print(us_holidays)"
   ]
  },
  {
   "cell_type": "code",
   "execution_count": 28,
   "id": "22082d53",
   "metadata": {},
   "outputs": [
    {
     "data": {
      "text/html": [
       "<div>\n",
       "<style scoped>\n",
       "    .dataframe tbody tr th:only-of-type {\n",
       "        vertical-align: middle;\n",
       "    }\n",
       "\n",
       "    .dataframe tbody tr th {\n",
       "        vertical-align: top;\n",
       "    }\n",
       "\n",
       "    .dataframe thead th {\n",
       "        text-align: right;\n",
       "    }\n",
       "</style>\n",
       "<table border=\"1\" class=\"dataframe\">\n",
       "  <thead>\n",
       "    <tr style=\"text-align: right;\">\n",
       "      <th></th>\n",
       "      <th>date</th>\n",
       "      <th>is_holiday</th>\n",
       "    </tr>\n",
       "  </thead>\n",
       "  <tbody>\n",
       "    <tr>\n",
       "      <th>0</th>\n",
       "      <td>True</td>\n",
       "      <td>True</td>\n",
       "    </tr>\n",
       "    <tr>\n",
       "      <th>1</th>\n",
       "      <td>True</td>\n",
       "      <td>True</td>\n",
       "    </tr>\n",
       "    <tr>\n",
       "      <th>2</th>\n",
       "      <td>2003-01-03 00:00:00</td>\n",
       "      <td>0</td>\n",
       "    </tr>\n",
       "    <tr>\n",
       "      <th>3</th>\n",
       "      <td>2003-01-04 00:00:00</td>\n",
       "      <td>0</td>\n",
       "    </tr>\n",
       "    <tr>\n",
       "      <th>4</th>\n",
       "      <td>2003-01-05 00:00:00</td>\n",
       "      <td>0</td>\n",
       "    </tr>\n",
       "    <tr>\n",
       "      <th>...</th>\n",
       "      <td>...</td>\n",
       "      <td>...</td>\n",
       "    </tr>\n",
       "    <tr>\n",
       "      <th>8760</th>\n",
       "      <td>2026-12-26 00:00:00</td>\n",
       "      <td>0</td>\n",
       "    </tr>\n",
       "    <tr>\n",
       "      <th>8761</th>\n",
       "      <td>2026-12-27 00:00:00</td>\n",
       "      <td>0</td>\n",
       "    </tr>\n",
       "    <tr>\n",
       "      <th>8762</th>\n",
       "      <td>2026-12-28 00:00:00</td>\n",
       "      <td>0</td>\n",
       "    </tr>\n",
       "    <tr>\n",
       "      <th>8763</th>\n",
       "      <td>2026-12-29 00:00:00</td>\n",
       "      <td>0</td>\n",
       "    </tr>\n",
       "    <tr>\n",
       "      <th>8764</th>\n",
       "      <td>2026-12-30 00:00:00</td>\n",
       "      <td>0</td>\n",
       "    </tr>\n",
       "  </tbody>\n",
       "</table>\n",
       "<p>8765 rows × 2 columns</p>\n",
       "</div>"
      ],
      "text/plain": [
       "                     date is_holiday\n",
       "0                    True       True\n",
       "1                    True       True\n",
       "2     2003-01-03 00:00:00          0\n",
       "3     2003-01-04 00:00:00          0\n",
       "4     2003-01-05 00:00:00          0\n",
       "...                   ...        ...\n",
       "8760  2026-12-26 00:00:00          0\n",
       "8761  2026-12-27 00:00:00          0\n",
       "8762  2026-12-28 00:00:00          0\n",
       "8763  2026-12-29 00:00:00          0\n",
       "8764  2026-12-30 00:00:00          0\n",
       "\n",
       "[8765 rows x 2 columns]"
      ]
     },
     "execution_count": 28,
     "metadata": {},
     "output_type": "execute_result"
    }
   ],
   "source": [
    "date_df\n"
   ]
  },
  {
   "cell_type": "code",
   "execution_count": null,
   "id": "c917d578",
   "metadata": {},
   "outputs": [],
   "source": []
  }
 ],
 "metadata": {
  "kernelspec": {
   "display_name": "Python 3 (ipykernel)",
   "language": "python",
   "name": "python3"
  },
  "language_info": {
   "codemirror_mode": {
    "name": "ipython",
    "version": 3
   },
   "file_extension": ".py",
   "mimetype": "text/x-python",
   "name": "python",
   "nbconvert_exporter": "python",
   "pygments_lexer": "ipython3",
   "version": "3.9.13"
  }
 },
 "nbformat": 4,
 "nbformat_minor": 5
}
