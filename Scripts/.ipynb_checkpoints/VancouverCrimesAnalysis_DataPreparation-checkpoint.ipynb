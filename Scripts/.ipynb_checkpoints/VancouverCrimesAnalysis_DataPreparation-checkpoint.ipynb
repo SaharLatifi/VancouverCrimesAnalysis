{
 "cells": [
  {
   "cell_type": "markdown",
   "id": "7741ecc9",
   "metadata": {},
   "source": [
    "<span style=\"font-size: 14px;color:blue\"><b>*This project*</b></span> designed to uncover and analyze crime patterns in Vancouver by utilizing data updated weekly by the Vancouver Police Department. The objective is to reveal trends, pinpoint crime hotspots, and understand the dynamics of citywide crime over time. Employing Python for meticulous data preparation and Power BI for engaging visualizations, the aim is to offer insights that that can inform effective community safety measures and law enforcement strategies\n",
    "\n",
    "\n",
    "**This script performs data cleaning, and outlier detection on the raw crime dataset. It handles missing values, removes duplicates, and identifies potential outliers using appropriate techniques. Additionally, new columns or features are added to the dataset to enrich the information and aid in a more accurate analysis. The cleaned data is then saved as a pickle file for subsequent analysis and exploratory data analysis (EDA).**"
   ]
  },
  {
   "cell_type": "markdown",
   "id": "04e281c3",
   "metadata": {},
   "source": [
    "<span style=\"font-size: 22px;color:blue\">1.Import Libraries</span>"
   ]
  },
  {
   "cell_type": "code",
   "execution_count": 2,
   "id": "756ed203",
   "metadata": {},
   "outputs": [],
   "source": [
    "import pandas as pd\n",
    "import seaborn as sns\n",
    "import numpy as np\n",
    "import matplotlib.pyplot as plt\n",
    "import holidays\n",
    "from pyproj import Proj, transform\n",
    "from datetime import datetime\n"
   ]
  },
  {
   "cell_type": "markdown",
   "id": "e5725573",
   "metadata": {},
   "source": [
    "<span style=\"font-size: 22px;color:blue\">2.Read datasets</span>"
   ]
  },
  {
   "cell_type": "code",
   "execution_count": 3,
   "id": "1a60fa11",
   "metadata": {},
   "outputs": [],
   "source": [
    "pop = pd.read_csv('../Dataset/Original Data/VancouverPopulation.csv')\n",
    "crime= pd.read_csv('../Dataset/Original Data/crimedata_csv_AllNeighbourhoods_AllYears.csv')\n",
    "holiday= pd.read_excel('../Dataset/Original Data/BCHolidays.xlsx')\n",
    "cpi = pd.read_csv(\"../Dataset/Original Data/cpi_annual_averages_Vancouver.csv\")"
   ]
  },
  {
   "cell_type": "markdown",
   "id": "75b0ef1f",
   "metadata": {},
   "source": [
    "<span style=\"font-size: 22px;color:blue\">3.Quickly explore the data  </span>"
   ]
  },
  {
   "cell_type": "markdown",
   "id": "e0600046",
   "metadata": {},
   "source": [
    "<span style=\"font-size: 16px;color:blue\">Vancouver's Population dataframe</span>"
   ]
  },
  {
   "cell_type": "code",
   "execution_count": 4,
   "id": "03e83441",
   "metadata": {},
   "outputs": [
    {
     "data": {
      "text/html": [
       "<div>\n",
       "<style scoped>\n",
       "    .dataframe tbody tr th:only-of-type {\n",
       "        vertical-align: middle;\n",
       "    }\n",
       "\n",
       "    .dataframe tbody tr th {\n",
       "        vertical-align: top;\n",
       "    }\n",
       "\n",
       "    .dataframe thead th {\n",
       "        text-align: right;\n",
       "    }\n",
       "</style>\n",
       "<table border=\"1\" class=\"dataframe\">\n",
       "  <thead>\n",
       "    <tr style=\"text-align: right;\">\n",
       "      <th></th>\n",
       "      <th>growth</th>\n",
       "      <th>growthRate</th>\n",
       "      <th>population</th>\n",
       "      <th>year</th>\n",
       "    </tr>\n",
       "  </thead>\n",
       "  <tbody>\n",
       "    <tr>\n",
       "      <th>0</th>\n",
       "      <td>24300</td>\n",
       "      <td>0.008285</td>\n",
       "      <td>2957471</td>\n",
       "      <td>2035</td>\n",
       "    </tr>\n",
       "    <tr>\n",
       "      <th>1</th>\n",
       "      <td>24431</td>\n",
       "      <td>0.008399</td>\n",
       "      <td>2933171</td>\n",
       "      <td>2034</td>\n",
       "    </tr>\n",
       "    <tr>\n",
       "      <th>2</th>\n",
       "      <td>24582</td>\n",
       "      <td>0.008523</td>\n",
       "      <td>2908740</td>\n",
       "      <td>2033</td>\n",
       "    </tr>\n",
       "    <tr>\n",
       "      <th>3</th>\n",
       "      <td>24751</td>\n",
       "      <td>0.008656</td>\n",
       "      <td>2884158</td>\n",
       "      <td>2032</td>\n",
       "    </tr>\n",
       "    <tr>\n",
       "      <th>4</th>\n",
       "      <td>24929</td>\n",
       "      <td>0.008795</td>\n",
       "      <td>2859407</td>\n",
       "      <td>2031</td>\n",
       "    </tr>\n",
       "  </tbody>\n",
       "</table>\n",
       "</div>"
      ],
      "text/plain": [
       "   growth  growthRate  population  year\n",
       "0   24300    0.008285     2957471  2035\n",
       "1   24431    0.008399     2933171  2034\n",
       "2   24582    0.008523     2908740  2033\n",
       "3   24751    0.008656     2884158  2032\n",
       "4   24929    0.008795     2859407  2031"
      ]
     },
     "execution_count": 4,
     "metadata": {},
     "output_type": "execute_result"
    }
   ],
   "source": [
    "pop.head()"
   ]
  },
  {
   "cell_type": "code",
   "execution_count": 5,
   "id": "d60dcfa9",
   "metadata": {},
   "outputs": [
    {
     "data": {
      "text/plain": [
       "(86, 4)"
      ]
     },
     "execution_count": 5,
     "metadata": {},
     "output_type": "execute_result"
    }
   ],
   "source": [
    "pop.shape"
   ]
  },
  {
   "cell_type": "code",
   "execution_count": 6,
   "id": "fef18a0f",
   "metadata": {},
   "outputs": [
    {
     "data": {
      "text/html": [
       "<div>\n",
       "<style scoped>\n",
       "    .dataframe tbody tr th:only-of-type {\n",
       "        vertical-align: middle;\n",
       "    }\n",
       "\n",
       "    .dataframe tbody tr th {\n",
       "        vertical-align: top;\n",
       "    }\n",
       "\n",
       "    .dataframe thead th {\n",
       "        text-align: right;\n",
       "    }\n",
       "</style>\n",
       "<table border=\"1\" class=\"dataframe\">\n",
       "  <thead>\n",
       "    <tr style=\"text-align: right;\">\n",
       "      <th></th>\n",
       "      <th>growth</th>\n",
       "      <th>growthRate</th>\n",
       "      <th>population</th>\n",
       "      <th>year</th>\n",
       "    </tr>\n",
       "  </thead>\n",
       "  <tbody>\n",
       "    <tr>\n",
       "      <th>count</th>\n",
       "      <td>86.000000</td>\n",
       "      <td>86.000000</td>\n",
       "      <td>8.600000e+01</td>\n",
       "      <td>86.000000</td>\n",
       "    </tr>\n",
       "    <tr>\n",
       "      <th>mean</th>\n",
       "      <td>27919.790698</td>\n",
       "      <td>0.019731</td>\n",
       "      <td>1.696841e+06</td>\n",
       "      <td>1992.500000</td>\n",
       "    </tr>\n",
       "    <tr>\n",
       "      <th>std</th>\n",
       "      <td>13023.268445</td>\n",
       "      <td>0.015569</td>\n",
       "      <td>7.713317e+05</td>\n",
       "      <td>24.969982</td>\n",
       "    </tr>\n",
       "    <tr>\n",
       "      <th>min</th>\n",
       "      <td>0.000000</td>\n",
       "      <td>0.000000</td>\n",
       "      <td>5.563690e+05</td>\n",
       "      <td>1950.000000</td>\n",
       "    </tr>\n",
       "    <tr>\n",
       "      <th>25%</th>\n",
       "      <td>21071.000000</td>\n",
       "      <td>0.010953</td>\n",
       "      <td>1.087770e+06</td>\n",
       "      <td>1971.250000</td>\n",
       "    </tr>\n",
       "    <tr>\n",
       "      <th>50%</th>\n",
       "      <td>25414.500000</td>\n",
       "      <td>0.015066</td>\n",
       "      <td>1.672406e+06</td>\n",
       "      <td>1992.500000</td>\n",
       "    </tr>\n",
       "    <tr>\n",
       "      <th>75%</th>\n",
       "      <td>38137.750000</td>\n",
       "      <td>0.018015</td>\n",
       "      <td>2.399014e+06</td>\n",
       "      <td>2013.750000</td>\n",
       "    </tr>\n",
       "    <tr>\n",
       "      <th>max</th>\n",
       "      <td>58885.000000</td>\n",
       "      <td>0.073346</td>\n",
       "      <td>2.957471e+06</td>\n",
       "      <td>2035.000000</td>\n",
       "    </tr>\n",
       "  </tbody>\n",
       "</table>\n",
       "</div>"
      ],
      "text/plain": [
       "             growth  growthRate    population         year\n",
       "count     86.000000   86.000000  8.600000e+01    86.000000\n",
       "mean   27919.790698    0.019731  1.696841e+06  1992.500000\n",
       "std    13023.268445    0.015569  7.713317e+05    24.969982\n",
       "min        0.000000    0.000000  5.563690e+05  1950.000000\n",
       "25%    21071.000000    0.010953  1.087770e+06  1971.250000\n",
       "50%    25414.500000    0.015066  1.672406e+06  1992.500000\n",
       "75%    38137.750000    0.018015  2.399014e+06  2013.750000\n",
       "max    58885.000000    0.073346  2.957471e+06  2035.000000"
      ]
     },
     "execution_count": 6,
     "metadata": {},
     "output_type": "execute_result"
    }
   ],
   "source": [
    "pop.describe()"
   ]
  },
  {
   "cell_type": "code",
   "execution_count": 7,
   "id": "0eeb9b00",
   "metadata": {},
   "outputs": [
    {
     "name": "stdout",
     "output_type": "stream",
     "text": [
      "<class 'pandas.core.frame.DataFrame'>\n",
      "RangeIndex: 86 entries, 0 to 85\n",
      "Data columns (total 4 columns):\n",
      " #   Column      Non-Null Count  Dtype  \n",
      "---  ------      --------------  -----  \n",
      " 0   growth      86 non-null     int64  \n",
      " 1   growthRate  86 non-null     float64\n",
      " 2   population  86 non-null     int64  \n",
      " 3   year        86 non-null     int64  \n",
      "dtypes: float64(1), int64(3)\n",
      "memory usage: 2.8 KB\n"
     ]
    }
   ],
   "source": [
    "pop.info()"
   ]
  },
  {
   "cell_type": "code",
   "execution_count": 8,
   "id": "a74b0a2d",
   "metadata": {},
   "outputs": [
    {
     "data": {
      "image/png": "[encoded data removed]",
      "text/plain": [
       "<Figure size 600x400 with 1 Axes>"
      ]
     },
     "metadata": {},
     "output_type": "display_data"
    },
    {
     "name": "stdout",
     "output_type": "stream",
     "text": [
      " There is a positive trend in Vancouver's population growth.Given this significant increase, I will investigate to see if there is a relationship between the population growth andthe crime rate in EDA.\n"
     ]
    }
   ],
   "source": [
    "plt.figure(figsize = (6,4))\n",
    "plt.plot(pop['year'] , pop['population'])\n",
    "plt.xlabel(\"Year\")\n",
    "plt.ylabel(\"population\")\n",
    "plt.grid(True)\n",
    "plt.show()\n",
    "print(\" There is a positive trend in Vancouver's population growth.\\\n",
    "Given this significant increase, I will investigate to see if there is a relationship between the population growth and\\\n",
    "the crime rate in EDA.\")"
   ]
  },
  {
   "cell_type": "markdown",
   "id": "9895fc2e",
   "metadata": {},
   "source": [
    "<span style=\"font-size: 16px;color:blue\">Vancouver's crime dataframe</span>"
   ]
  },
  {
   "cell_type": "code",
   "execution_count": 9,
   "id": "9ce0a667",
   "metadata": {},
   "outputs": [
    {
     "data": {
      "text/html": [
       "<div>\n",
       "<style scoped>\n",
       "    .dataframe tbody tr th:only-of-type {\n",
       "        vertical-align: middle;\n",
       "    }\n",
       "\n",
       "    .dataframe tbody tr th {\n",
       "        vertical-align: top;\n",
       "    }\n",
       "\n",
       "    .dataframe thead th {\n",
       "        text-align: right;\n",
       "    }\n",
       "</style>\n",
       "<table border=\"1\" class=\"dataframe\">\n",
       "  <thead>\n",
       "    <tr style=\"text-align: right;\">\n",
       "      <th></th>\n",
       "      <th>TYPE</th>\n",
       "      <th>YEAR</th>\n",
       "      <th>MONTH</th>\n",
       "      <th>DAY</th>\n",
       "      <th>HOUR</th>\n",
       "      <th>MINUTE</th>\n",
       "      <th>HUNDRED_BLOCK</th>\n",
       "      <th>NEIGHBOURHOOD</th>\n",
       "      <th>X</th>\n",
       "      <th>Y</th>\n",
       "    </tr>\n",
       "  </thead>\n",
       "  <tbody>\n",
       "    <tr>\n",
       "      <th>0</th>\n",
       "      <td>Break and Enter Commercial</td>\n",
       "      <td>2012</td>\n",
       "      <td>12</td>\n",
       "      <td>14</td>\n",
       "      <td>8</td>\n",
       "      <td>52</td>\n",
       "      <td>NaN</td>\n",
       "      <td>Oakridge</td>\n",
       "      <td>491285.0000</td>\n",
       "      <td>5.453433e+06</td>\n",
       "    </tr>\n",
       "    <tr>\n",
       "      <th>1</th>\n",
       "      <td>Break and Enter Commercial</td>\n",
       "      <td>2019</td>\n",
       "      <td>3</td>\n",
       "      <td>7</td>\n",
       "      <td>2</td>\n",
       "      <td>6</td>\n",
       "      <td>10XX SITKA SQ</td>\n",
       "      <td>Fairview</td>\n",
       "      <td>490612.9648</td>\n",
       "      <td>5.457110e+06</td>\n",
       "    </tr>\n",
       "    <tr>\n",
       "      <th>2</th>\n",
       "      <td>Break and Enter Commercial</td>\n",
       "      <td>2019</td>\n",
       "      <td>8</td>\n",
       "      <td>27</td>\n",
       "      <td>4</td>\n",
       "      <td>12</td>\n",
       "      <td>10XX ALBERNI ST</td>\n",
       "      <td>West End</td>\n",
       "      <td>491004.8164</td>\n",
       "      <td>5.459177e+06</td>\n",
       "    </tr>\n",
       "    <tr>\n",
       "      <th>3</th>\n",
       "      <td>Break and Enter Commercial</td>\n",
       "      <td>2021</td>\n",
       "      <td>4</td>\n",
       "      <td>26</td>\n",
       "      <td>4</td>\n",
       "      <td>44</td>\n",
       "      <td>10XX ALBERNI ST</td>\n",
       "      <td>West End</td>\n",
       "      <td>491007.7798</td>\n",
       "      <td>5.459174e+06</td>\n",
       "    </tr>\n",
       "    <tr>\n",
       "      <th>4</th>\n",
       "      <td>Break and Enter Commercial</td>\n",
       "      <td>2014</td>\n",
       "      <td>8</td>\n",
       "      <td>8</td>\n",
       "      <td>5</td>\n",
       "      <td>13</td>\n",
       "      <td>10XX ALBERNI ST</td>\n",
       "      <td>West End</td>\n",
       "      <td>491015.9434</td>\n",
       "      <td>5.459166e+06</td>\n",
       "    </tr>\n",
       "  </tbody>\n",
       "</table>\n",
       "</div>"
      ],
      "text/plain": [
       "                         TYPE  YEAR  MONTH  DAY  HOUR  MINUTE  \\\n",
       "0  Break and Enter Commercial  2012     12   14     8      52   \n",
       "1  Break and Enter Commercial  2019      3    7     2       6   \n",
       "2  Break and Enter Commercial  2019      8   27     4      12   \n",
       "3  Break and Enter Commercial  2021      4   26     4      44   \n",
       "4  Break and Enter Commercial  2014      8    8     5      13   \n",
       "\n",
       "     HUNDRED_BLOCK NEIGHBOURHOOD            X             Y  \n",
       "0              NaN      Oakridge  491285.0000  5.453433e+06  \n",
       "1    10XX SITKA SQ      Fairview  490612.9648  5.457110e+06  \n",
       "2  10XX ALBERNI ST      West End  491004.8164  5.459177e+06  \n",
       "3  10XX ALBERNI ST      West End  491007.7798  5.459174e+06  \n",
       "4  10XX ALBERNI ST      West End  491015.9434  5.459166e+06  "
      ]
     },
     "execution_count": 9,
     "metadata": {},
     "output_type": "execute_result"
    }
   ],
   "source": [
    "crime.head()"
   ]
  },
  {
   "cell_type": "code",
   "execution_count": 10,
   "id": "c45c9820",
   "metadata": {},
   "outputs": [
    {
     "name": "stdout",
     "output_type": "stream",
     "text": [
      "Crime dataset includes 882519 rows and 10 columns.\n"
     ]
    }
   ],
   "source": [
    "crime_len = len(crime)\n",
    "print(\"Crime dataset includes {} rows and {} columns.\".format(crime.shape[0],crime.shape[1]))"
   ]
  },
  {
   "cell_type": "code",
   "execution_count": 11,
   "id": "6e22e115",
   "metadata": {},
   "outputs": [
    {
     "data": {
      "text/html": [
       "<div>\n",
       "<style scoped>\n",
       "    .dataframe tbody tr th:only-of-type {\n",
       "        vertical-align: middle;\n",
       "    }\n",
       "\n",
       "    .dataframe tbody tr th {\n",
       "        vertical-align: top;\n",
       "    }\n",
       "\n",
       "    .dataframe thead th {\n",
       "        text-align: right;\n",
       "    }\n",
       "</style>\n",
       "<table border=\"1\" class=\"dataframe\">\n",
       "  <thead>\n",
       "    <tr style=\"text-align: right;\">\n",
       "      <th></th>\n",
       "      <th>YEAR</th>\n",
       "      <th>MONTH</th>\n",
       "      <th>DAY</th>\n",
       "      <th>HOUR</th>\n",
       "      <th>MINUTE</th>\n",
       "      <th>X</th>\n",
       "      <th>Y</th>\n",
       "    </tr>\n",
       "  </thead>\n",
       "  <tbody>\n",
       "    <tr>\n",
       "      <th>count</th>\n",
       "      <td>882519.000000</td>\n",
       "      <td>882519.000000</td>\n",
       "      <td>882519.00000</td>\n",
       "      <td>882519.000000</td>\n",
       "      <td>882519.000000</td>\n",
       "      <td>882444.000000</td>\n",
       "      <td>8.824440e+05</td>\n",
       "    </tr>\n",
       "    <tr>\n",
       "      <th>mean</th>\n",
       "      <td>2012.297038</td>\n",
       "      <td>6.530028</td>\n",
       "      <td>15.38488</td>\n",
       "      <td>12.310522</td>\n",
       "      <td>15.867665</td>\n",
       "      <td>448943.753622</td>\n",
       "      <td>4.977139e+06</td>\n",
       "    </tr>\n",
       "    <tr>\n",
       "      <th>std</th>\n",
       "      <td>6.201978</td>\n",
       "      <td>3.396290</td>\n",
       "      <td>8.75660</td>\n",
       "      <td>7.464742</td>\n",
       "      <td>18.363265</td>\n",
       "      <td>139398.420587</td>\n",
       "      <td>1.545168e+06</td>\n",
       "    </tr>\n",
       "    <tr>\n",
       "      <th>min</th>\n",
       "      <td>2003.000000</td>\n",
       "      <td>1.000000</td>\n",
       "      <td>1.00000</td>\n",
       "      <td>0.000000</td>\n",
       "      <td>0.000000</td>\n",
       "      <td>0.000000</td>\n",
       "      <td>0.000000e+00</td>\n",
       "    </tr>\n",
       "    <tr>\n",
       "      <th>25%</th>\n",
       "      <td>2007.000000</td>\n",
       "      <td>4.000000</td>\n",
       "      <td>8.00000</td>\n",
       "      <td>7.000000</td>\n",
       "      <td>0.000000</td>\n",
       "      <td>490187.874500</td>\n",
       "      <td>5.454209e+06</td>\n",
       "    </tr>\n",
       "    <tr>\n",
       "      <th>50%</th>\n",
       "      <td>2012.000000</td>\n",
       "      <td>7.000000</td>\n",
       "      <td>15.00000</td>\n",
       "      <td>14.000000</td>\n",
       "      <td>5.000000</td>\n",
       "      <td>491570.771200</td>\n",
       "      <td>5.457170e+06</td>\n",
       "    </tr>\n",
       "    <tr>\n",
       "      <th>75%</th>\n",
       "      <td>2018.000000</td>\n",
       "      <td>9.000000</td>\n",
       "      <td>23.00000</td>\n",
       "      <td>18.000000</td>\n",
       "      <td>30.000000</td>\n",
       "      <td>493380.107600</td>\n",
       "      <td>5.458718e+06</td>\n",
       "    </tr>\n",
       "    <tr>\n",
       "      <th>max</th>\n",
       "      <td>2023.000000</td>\n",
       "      <td>12.000000</td>\n",
       "      <td>31.00000</td>\n",
       "      <td>23.000000</td>\n",
       "      <td>59.000000</td>\n",
       "      <td>511303.000000</td>\n",
       "      <td>5.512579e+06</td>\n",
       "    </tr>\n",
       "  </tbody>\n",
       "</table>\n",
       "</div>"
      ],
      "text/plain": [
       "                YEAR          MONTH           DAY           HOUR  \\\n",
       "count  882519.000000  882519.000000  882519.00000  882519.000000   \n",
       "mean     2012.297038       6.530028      15.38488      12.310522   \n",
       "std         6.201978       3.396290       8.75660       7.464742   \n",
       "min      2003.000000       1.000000       1.00000       0.000000   \n",
       "25%      2007.000000       4.000000       8.00000       7.000000   \n",
       "50%      2012.000000       7.000000      15.00000      14.000000   \n",
       "75%      2018.000000       9.000000      23.00000      18.000000   \n",
       "max      2023.000000      12.000000      31.00000      23.000000   \n",
       "\n",
       "              MINUTE              X             Y  \n",
       "count  882519.000000  882444.000000  8.824440e+05  \n",
       "mean       15.867665  448943.753622  4.977139e+06  \n",
       "std        18.363265  139398.420587  1.545168e+06  \n",
       "min         0.000000       0.000000  0.000000e+00  \n",
       "25%         0.000000  490187.874500  5.454209e+06  \n",
       "50%         5.000000  491570.771200  5.457170e+06  \n",
       "75%        30.000000  493380.107600  5.458718e+06  \n",
       "max        59.000000  511303.000000  5.512579e+06  "
      ]
     },
     "execution_count": 11,
     "metadata": {},
     "output_type": "execute_result"
    }
   ],
   "source": [
    "crime.describe()"
   ]
  },
  {
   "cell_type": "code",
   "execution_count": 12,
   "id": "76c07553",
   "metadata": {},
   "outputs": [
    {
     "name": "stdout",
     "output_type": "stream",
     "text": [
      "<class 'pandas.core.frame.DataFrame'>\n",
      "RangeIndex: 882519 entries, 0 to 882518\n",
      "Data columns (total 10 columns):\n",
      " #   Column         Non-Null Count   Dtype  \n",
      "---  ------         --------------   -----  \n",
      " 0   TYPE           882519 non-null  object \n",
      " 1   YEAR           882519 non-null  int64  \n",
      " 2   MONTH          882519 non-null  int64  \n",
      " 3   DAY            882519 non-null  int64  \n",
      " 4   HOUR           882519 non-null  int64  \n",
      " 5   MINUTE         882519 non-null  int64  \n",
      " 6   HUNDRED_BLOCK  882507 non-null  object \n",
      " 7   NEIGHBOURHOOD  882370 non-null  object \n",
      " 8   X              882444 non-null  float64\n",
      " 9   Y              882444 non-null  float64\n",
      "dtypes: float64(2), int64(5), object(3)\n",
      "memory usage: 67.3+ MB\n"
     ]
    }
   ],
   "source": [
    "crime.info()"
   ]
  },
  {
   "cell_type": "markdown",
   "id": "73073631",
   "metadata": {},
   "source": [
    "<span style=\"font-size: 16px;color:blue\">Vancouver's CPI dataframe</span>"
   ]
  },
  {
   "cell_type": "code",
   "execution_count": 13,
   "id": "5d6b858f",
   "metadata": {},
   "outputs": [
    {
     "data": {
      "text/html": [
       "<div>\n",
       "<style scoped>\n",
       "    .dataframe tbody tr th:only-of-type {\n",
       "        vertical-align: middle;\n",
       "    }\n",
       "\n",
       "    .dataframe tbody tr th {\n",
       "        vertical-align: top;\n",
       "    }\n",
       "\n",
       "    .dataframe thead th {\n",
       "        text-align: right;\n",
       "    }\n",
       "</style>\n",
       "<table border=\"1\" class=\"dataframe\">\n",
       "  <thead>\n",
       "    <tr style=\"text-align: right;\">\n",
       "      <th></th>\n",
       "      <th>Year</th>\n",
       "      <th>All Items Index</th>\n",
       "      <th>Annual Percent Change</th>\n",
       "    </tr>\n",
       "  </thead>\n",
       "  <tbody>\n",
       "    <tr>\n",
       "      <th>0</th>\n",
       "      <td>1971</td>\n",
       "      <td>21.4</td>\n",
       "      <td>NaN</td>\n",
       "    </tr>\n",
       "    <tr>\n",
       "      <th>1</th>\n",
       "      <td>1972</td>\n",
       "      <td>22.6</td>\n",
       "      <td>5.6</td>\n",
       "    </tr>\n",
       "    <tr>\n",
       "      <th>2</th>\n",
       "      <td>1973</td>\n",
       "      <td>24.2</td>\n",
       "      <td>7.1</td>\n",
       "    </tr>\n",
       "    <tr>\n",
       "      <th>3</th>\n",
       "      <td>1974</td>\n",
       "      <td>27.0</td>\n",
       "      <td>11.6</td>\n",
       "    </tr>\n",
       "    <tr>\n",
       "      <th>4</th>\n",
       "      <td>1975</td>\n",
       "      <td>30.0</td>\n",
       "      <td>11.1</td>\n",
       "    </tr>\n",
       "  </tbody>\n",
       "</table>\n",
       "</div>"
      ],
      "text/plain": [
       "   Year  All Items Index  Annual Percent Change\n",
       "0  1971             21.4                    NaN\n",
       "1  1972             22.6                    5.6\n",
       "2  1973             24.2                    7.1\n",
       "3  1974             27.0                   11.6\n",
       "4  1975             30.0                   11.1"
      ]
     },
     "execution_count": 13,
     "metadata": {},
     "output_type": "execute_result"
    }
   ],
   "source": [
    "cpi.head()"
   ]
  },
  {
   "cell_type": "code",
   "execution_count": 14,
   "id": "8881d5e8",
   "metadata": {},
   "outputs": [
    {
     "name": "stdout",
     "output_type": "stream",
     "text": [
      "<class 'pandas.core.frame.DataFrame'>\n",
      "RangeIndex: 52 entries, 0 to 51\n",
      "Data columns (total 3 columns):\n",
      " #   Column                 Non-Null Count  Dtype  \n",
      "---  ------                 --------------  -----  \n",
      " 0   Year                   52 non-null     int64  \n",
      " 1   All Items Index        52 non-null     float64\n",
      " 2   Annual Percent Change  51 non-null     float64\n",
      "dtypes: float64(2), int64(1)\n",
      "memory usage: 1.3 KB\n"
     ]
    }
   ],
   "source": [
    "cpi.info()"
   ]
  },
  {
   "cell_type": "code",
   "execution_count": 15,
   "id": "c5d9e0eb",
   "metadata": {},
   "outputs": [
    {
     "name": "stdout",
     "output_type": "stream",
     "text": [
      "There is noticeable fluctuation in 'Annual Percent Change' which represents the year-on-year change in the CPI.\n",
      "The All Items Index rises over the years, showing a general rising trend. In other words, the overall price level of goods and services has been increasing over time.\n",
      "It would be interesting to see if there's a correlation between economic conditions (as indicated by the CPI and its fluctuations) and crime rates. Economic downturns, for instance, might see spikes in certain types of crime. I will discover it in EDA.\n"
     ]
    },
    {
     "data": {
      "image/png": "[encoded data removed]",
      "text/plain": [
       "<Figure size 600x400 with 2 Axes>"
      ]
     },
     "metadata": {},
     "output_type": "display_data"
    }
   ],
   "source": [
    "fig, ax = plt.subplots(1,2 , figsize = (6,4))\n",
    "\n",
    "cpi.plot(x='Year',y='Annual Percent Change' , ax = ax[0])\n",
    "print(\"There is noticeable fluctuation in 'Annual Percent Change' which represents the year-on-year change in the CPI.\")\n",
    "\n",
    "cpi.plot(x='Year',y='All Items Index', ax = ax[1])\n",
    "print(\"The All Items Index rises over the years, showing a general rising trend. In other words, the overall price level of goods and services has been increasing over time.\")\n",
    "print(\"It would be interesting to see if there's a correlation between economic conditions (as indicated by the CPI and its fluctuations) and crime rates. Economic downturns, for instance, might see spikes in certain types of crime. I will discover it in EDA.\")"
   ]
  },
  {
   "cell_type": "markdown",
   "id": "2b209373",
   "metadata": {},
   "source": [
    "<span style=\"font-size: 22px;color:blue\">4.Data cleaning </span>"
   ]
  },
  {
   "cell_type": "markdown",
   "id": "7d0c61e6",
   "metadata": {},
   "source": [
    " <span style=\"font-size: 22px;color:blue\">-Finding missing data  </span> \n",
    "<br> <span style=\"font-size: 22px;color:blue\">-Dealing with missing data  </span> "
   ]
  },
  {
   "cell_type": "markdown",
   "id": "ae3853bf",
   "metadata": {},
   "source": [
    "<span style=\"font-size: 16px;color:blue\">Vancouver's popuation dataframe - Check missing data (null values) </span>\n"
   ]
  },
  {
   "cell_type": "code",
   "execution_count": 16,
   "id": "eb99b273",
   "metadata": {},
   "outputs": [
    {
     "data": {
      "text/plain": [
       "growth        0\n",
       "growthRate    0\n",
       "population    0\n",
       "year          0\n",
       "dtype: int64"
      ]
     },
     "metadata": {},
     "output_type": "display_data"
    },
    {
     "name": "stdout",
     "output_type": "stream",
     "text": [
      "No missing values in population data\n"
     ]
    }
   ],
   "source": [
    "display(pop.isna().sum())\n",
    "print(\"No missing values in population data\")"
   ]
  },
  {
   "cell_type": "markdown",
   "id": "09a12cd1",
   "metadata": {},
   "source": [
    "<span style=\"font-size: 16px;color:blue\">Vancouver's crime dataframe - Check missing data (null values) </span>\n"
   ]
  },
  {
   "cell_type": "code",
   "execution_count": 17,
   "id": "39110846",
   "metadata": {},
   "outputs": [
    {
     "data": {
      "text/plain": [
       "TYPE               0\n",
       "YEAR               0\n",
       "MONTH              0\n",
       "DAY                0\n",
       "HOUR               0\n",
       "MINUTE             0\n",
       "HUNDRED_BLOCK     12\n",
       "NEIGHBOURHOOD    149\n",
       "X                 75\n",
       "Y                 75\n",
       "dtype: int64"
      ]
     },
     "metadata": {},
     "output_type": "display_data"
    },
    {
     "name": "stdout",
     "output_type": "stream",
     "text": [
      "We have 149 missing values for NEIGHBOURHOOD which is 0.02% of the dataset.\n",
      "We have 12 missing values for HUNDRED_BLOCKS which is 0.00% of the dataset.\n",
      "We have 75 missing values for X which is 0.01% of the dataset.\n",
      "We have 75 missing values for Y which is 0.01% of the dataset.\n",
      "\n",
      "Let's see if we can identify the missing neighbourhoods using the corresponding values in the 'hundred_block' column. Below is the list of 'HUNDRED_BLOCKS' for which the corresponding 'NEIGHBOURHOOD' is null:\n"
     ]
    },
    {
     "data": {
      "text/plain": [
       "OFFSET TO PROTECT PRIVACY                51\n",
       "14XX CAMBIE STREET BRDG                   5\n",
       "14XX BURRARD STREET BRDG                  3\n",
       "15XX GRANVILLE STREET BRDG                3\n",
       "99XXXX UNKNOWN                            3\n",
       "                                         ..\n",
       "55XX BLOCK CAMBIE ST                      1\n",
       "55XX BLOCK ARLINGTON ST                   1\n",
       "520O BLOCK JOYCE ST                       1\n",
       "51XX BLOCK KINGSWAY AV                    1\n",
       "WESTVIEW OVERPASS AT #1 HWY EASTBOUND     1\n",
       "Name: HUNDRED_BLOCK, Length: 87, dtype: int64"
      ]
     },
     "metadata": {},
     "output_type": "display_data"
    },
    {
     "name": "stdout",
     "output_type": "stream",
     "text": [
      "We're observing multiple different values for the neighbourhood column for a specific hundredblock. So, it seems it is not possible to identify the NEIGHBOURHOOD from the HUNDRED_BLOCKS.\n"
     ]
    }
   ],
   "source": [
    "# Chech null values\n",
    "display(crime.isna().sum())\n",
    "formatted_value = \"{:.2f}\".format(crime.NEIGHBOURHOOD.isna().sum() / crime.shape[0] * 100)\n",
    "print(\"We have {} missing values for NEIGHBOURHOOD which is {}% of the dataset.\".format(crime.NEIGHBOURHOOD.isna().sum() , formatted_value ))\n",
    "formatted_value = \"{:.2f}\".format(crime.HUNDRED_BLOCK.isna().sum() / crime.shape[0] * 100)\n",
    "print(\"We have {} missing values for HUNDRED_BLOCKS which is {}% of the dataset.\".format(crime.HUNDRED_BLOCK.isna().sum() , formatted_value))\n",
    "formatted_value = \"{:.2f}\".format( crime.X.isna().sum() / crime.shape[0] * 100)\n",
    "print(\"We have {} missing values for X which is {}% of the dataset.\".format(crime.X.isna().sum() ,formatted_value ))\n",
    "formatted_value = \"{:.2f}\".format(crime.Y.isna().sum() / crime.shape[0] * 100)\n",
    "print(\"We have {} missing values for Y which is {}% of the dataset.\".format(crime.Y.isna().sum() , formatted_value ))\n",
    "\n",
    "print(\"\\nLet's see if we can identify the missing neighbourhoods using the corresponding values in the 'hundred_block' column. Below is the list of 'HUNDRED_BLOCKS' for which the corresponding 'NEIGHBOURHOOD' is null:\")\n",
    "display(crime[crime.NEIGHBOURHOOD.isna()].HUNDRED_BLOCK.value_counts())\n",
    "print(\"We're observing multiple different values for the neighbourhood column for a specific hundredblock. So, it seems it is not possible to identify the NEIGHBOURHOOD from the HUNDRED_BLOCKS.\") \n"
   ]
  },
  {
   "cell_type": "code",
   "execution_count": 18,
   "id": "db489886",
   "metadata": {},
   "outputs": [],
   "source": [
    "crime[crime.isna().any(axis=1)]\n",
    "crime.dropna(subset = [ \"NEIGHBOURHOOD\" , \"HUNDRED_BLOCK\"], inplace=True)"
   ]
  },
  {
   "cell_type": "code",
   "execution_count": 19,
   "id": "284b3be1",
   "metadata": {},
   "outputs": [
    {
     "data": {
      "text/html": [
       "<div>\n",
       "<style scoped>\n",
       "    .dataframe tbody tr th:only-of-type {\n",
       "        vertical-align: middle;\n",
       "    }\n",
       "\n",
       "    .dataframe tbody tr th {\n",
       "        vertical-align: top;\n",
       "    }\n",
       "\n",
       "    .dataframe thead th {\n",
       "        text-align: right;\n",
       "    }\n",
       "</style>\n",
       "<table border=\"1\" class=\"dataframe\">\n",
       "  <thead>\n",
       "    <tr style=\"text-align: right;\">\n",
       "      <th></th>\n",
       "      <th>TYPE</th>\n",
       "      <th>YEAR</th>\n",
       "      <th>MONTH</th>\n",
       "      <th>DAY</th>\n",
       "      <th>HOUR</th>\n",
       "      <th>MINUTE</th>\n",
       "      <th>HUNDRED_BLOCK</th>\n",
       "      <th>NEIGHBOURHOOD</th>\n",
       "      <th>X</th>\n",
       "      <th>Y</th>\n",
       "    </tr>\n",
       "  </thead>\n",
       "  <tbody>\n",
       "  </tbody>\n",
       "</table>\n",
       "</div>"
      ],
      "text/plain": [
       "Empty DataFrame\n",
       "Columns: [TYPE, YEAR, MONTH, DAY, HOUR, MINUTE, HUNDRED_BLOCK, NEIGHBOURHOOD, X, Y]\n",
       "Index: []"
      ]
     },
     "execution_count": 19,
     "metadata": {},
     "output_type": "execute_result"
    }
   ],
   "source": [
    "crime[crime.isna().any(axis=1)]"
   ]
  },
  {
   "cell_type": "markdown",
   "id": "9d0efc84",
   "metadata": {},
   "source": [
    " <span style=\"font-size: 22px;color:blue\">-Finding Inconsistant texts and typos </span>\n",
    " <span style=\"font-size: 22px;color:blue\">-Fixing Inconsistant texts and typos </span>"
   ]
  },
  {
   "cell_type": "code",
   "execution_count": 20,
   "id": "bdf010db",
   "metadata": {},
   "outputs": [
    {
     "data": {
      "text/plain": [
       "count    882358.000000\n",
       "mean       2012.297575\n",
       "std           6.201744\n",
       "min        2003.000000\n",
       "25%        2007.000000\n",
       "50%        2012.000000\n",
       "75%        2018.000000\n",
       "max        2023.000000\n",
       "Name: YEAR, dtype: float64"
      ]
     },
     "execution_count": 20,
     "metadata": {},
     "output_type": "execute_result"
    }
   ],
   "source": [
    "crime.YEAR.describe()\n",
    " # The same way check for all numeric columns - No inconsistencies  "
   ]
  },
  {
   "cell_type": "code",
   "execution_count": 28,
   "id": "47649ab6",
   "metadata": {},
   "outputs": [
    {
     "data": {
      "text/plain": [
       "Theft from Vehicle                                        243333\n",
       "Other Theft                                               219745\n",
       "Mischief                                                  107268\n",
       "Offence Against a Person                                   76863\n",
       "Break and Enter Residential/Other                          72541\n",
       "Break and Enter Commercial                                 47835\n",
       "Theft of Vehicle                                           44934\n",
       "Theft of Bicycle                                           37293\n",
       "Vehicle Collision or Pedestrian Struck (with Injury)       29222\n",
       "Vehicle Collision or Pedestrian Struck (with Fatality)       357\n",
       "Homicide                                                     314\n",
       "Name: TYPE, dtype: int64"
      ]
     },
     "execution_count": 28,
     "metadata": {},
     "output_type": "execute_result"
    }
   ],
   "source": [
    " crime.TYPE.value_counts()\n",
    " # The same way check for all categorical columns - No inconsistencies "
   ]
  },
  {
   "cell_type": "markdown",
   "id": "4617ca1e",
   "metadata": {},
   "source": [
    "  <span style=\"font-size: 22px;color:blue\">- Remove Block number from the Street Name </span>\n",
    "  <br> \n",
    " <span style=\"font-size: 14px;color:black\">    HUNDRED_BLOCK is a Generalized location of the reported crime activity.\n",
    "   </span>"
   ]
  },
  {
   "cell_type": "code",
   "execution_count": 21,
   "id": "73b36b2a",
   "metadata": {},
   "outputs": [
    {
     "data": {
      "text/html": [
       "<div>\n",
       "<style scoped>\n",
       "    .dataframe tbody tr th:only-of-type {\n",
       "        vertical-align: middle;\n",
       "    }\n",
       "\n",
       "    .dataframe tbody tr th {\n",
       "        vertical-align: top;\n",
       "    }\n",
       "\n",
       "    .dataframe thead th {\n",
       "        text-align: right;\n",
       "    }\n",
       "</style>\n",
       "<table border=\"1\" class=\"dataframe\">\n",
       "  <thead>\n",
       "    <tr style=\"text-align: right;\">\n",
       "      <th></th>\n",
       "      <th>TYPE</th>\n",
       "      <th>YEAR</th>\n",
       "      <th>MONTH</th>\n",
       "      <th>DAY</th>\n",
       "      <th>HOUR</th>\n",
       "      <th>MINUTE</th>\n",
       "      <th>HUNDRED_BLOCK</th>\n",
       "      <th>NEIGHBOURHOOD</th>\n",
       "      <th>X</th>\n",
       "      <th>Y</th>\n",
       "    </tr>\n",
       "  </thead>\n",
       "  <tbody>\n",
       "    <tr>\n",
       "      <th>870</th>\n",
       "      <td>Break and Enter Commercial</td>\n",
       "      <td>2022</td>\n",
       "      <td>10</td>\n",
       "      <td>12</td>\n",
       "      <td>5</td>\n",
       "      <td>33</td>\n",
       "      <td>10XX GRANVILLE ST</td>\n",
       "      <td>Central Business District</td>\n",
       "      <td>490939.2139</td>\n",
       "      <td>5.458399e+06</td>\n",
       "    </tr>\n",
       "    <tr>\n",
       "      <th>871</th>\n",
       "      <td>Break and Enter Commercial</td>\n",
       "      <td>2003</td>\n",
       "      <td>5</td>\n",
       "      <td>3</td>\n",
       "      <td>4</td>\n",
       "      <td>59</td>\n",
       "      <td>10XX GRANVILLE ST</td>\n",
       "      <td>Central Business District</td>\n",
       "      <td>490945.5934</td>\n",
       "      <td>5.458406e+06</td>\n",
       "    </tr>\n",
       "    <tr>\n",
       "      <th>872</th>\n",
       "      <td>Break and Enter Commercial</td>\n",
       "      <td>2004</td>\n",
       "      <td>4</td>\n",
       "      <td>27</td>\n",
       "      <td>5</td>\n",
       "      <td>40</td>\n",
       "      <td>10XX GRANVILLE ST</td>\n",
       "      <td>Central Business District</td>\n",
       "      <td>490945.5934</td>\n",
       "      <td>5.458406e+06</td>\n",
       "    </tr>\n",
       "    <tr>\n",
       "      <th>873</th>\n",
       "      <td>Break and Enter Commercial</td>\n",
       "      <td>2005</td>\n",
       "      <td>3</td>\n",
       "      <td>18</td>\n",
       "      <td>6</td>\n",
       "      <td>0</td>\n",
       "      <td>10XX GRANVILLE ST</td>\n",
       "      <td>Central Business District</td>\n",
       "      <td>490945.5934</td>\n",
       "      <td>5.458406e+06</td>\n",
       "    </tr>\n",
       "    <tr>\n",
       "      <th>874</th>\n",
       "      <td>Break and Enter Commercial</td>\n",
       "      <td>2022</td>\n",
       "      <td>10</td>\n",
       "      <td>18</td>\n",
       "      <td>10</td>\n",
       "      <td>42</td>\n",
       "      <td>10XX GRANVILLE ST</td>\n",
       "      <td>Central Business District</td>\n",
       "      <td>490945.5934</td>\n",
       "      <td>5.458406e+06</td>\n",
       "    </tr>\n",
       "    <tr>\n",
       "      <th>...</th>\n",
       "      <td>...</td>\n",
       "      <td>...</td>\n",
       "      <td>...</td>\n",
       "      <td>...</td>\n",
       "      <td>...</td>\n",
       "      <td>...</td>\n",
       "      <td>...</td>\n",
       "      <td>...</td>\n",
       "      <td>...</td>\n",
       "      <td>...</td>\n",
       "    </tr>\n",
       "    <tr>\n",
       "      <th>3207</th>\n",
       "      <td>Break and Enter Commercial</td>\n",
       "      <td>2003</td>\n",
       "      <td>11</td>\n",
       "      <td>24</td>\n",
       "      <td>3</td>\n",
       "      <td>25</td>\n",
       "      <td>11XX GRANVILLE ST</td>\n",
       "      <td>Central Business District</td>\n",
       "      <td>490849.3205</td>\n",
       "      <td>5.458309e+06</td>\n",
       "    </tr>\n",
       "    <tr>\n",
       "      <th>3208</th>\n",
       "      <td>Break and Enter Commercial</td>\n",
       "      <td>2020</td>\n",
       "      <td>2</td>\n",
       "      <td>9</td>\n",
       "      <td>15</td>\n",
       "      <td>7</td>\n",
       "      <td>11XX GRANVILLE ST</td>\n",
       "      <td>Central Business District</td>\n",
       "      <td>490849.3205</td>\n",
       "      <td>5.458309e+06</td>\n",
       "    </tr>\n",
       "    <tr>\n",
       "      <th>3209</th>\n",
       "      <td>Break and Enter Commercial</td>\n",
       "      <td>2022</td>\n",
       "      <td>2</td>\n",
       "      <td>25</td>\n",
       "      <td>1</td>\n",
       "      <td>0</td>\n",
       "      <td>11XX GRANVILLE ST</td>\n",
       "      <td>Central Business District</td>\n",
       "      <td>490849.4359</td>\n",
       "      <td>5.458296e+06</td>\n",
       "    </tr>\n",
       "    <tr>\n",
       "      <th>3210</th>\n",
       "      <td>Break and Enter Commercial</td>\n",
       "      <td>2022</td>\n",
       "      <td>3</td>\n",
       "      <td>10</td>\n",
       "      <td>19</td>\n",
       "      <td>0</td>\n",
       "      <td>11XX GRANVILLE ST</td>\n",
       "      <td>Central Business District</td>\n",
       "      <td>490849.4359</td>\n",
       "      <td>5.458296e+06</td>\n",
       "    </tr>\n",
       "    <tr>\n",
       "      <th>3211</th>\n",
       "      <td>Break and Enter Commercial</td>\n",
       "      <td>2023</td>\n",
       "      <td>9</td>\n",
       "      <td>17</td>\n",
       "      <td>6</td>\n",
       "      <td>38</td>\n",
       "      <td>11XX GRANVILLE ST</td>\n",
       "      <td>Central Business District</td>\n",
       "      <td>490850.3578</td>\n",
       "      <td>5.458310e+06</td>\n",
       "    </tr>\n",
       "  </tbody>\n",
       "</table>\n",
       "<p>150 rows × 10 columns</p>\n",
       "</div>"
      ],
      "text/plain": [
       "                            TYPE  YEAR  MONTH  DAY  HOUR  MINUTE  \\\n",
       "870   Break and Enter Commercial  2022     10   12     5      33   \n",
       "871   Break and Enter Commercial  2003      5    3     4      59   \n",
       "872   Break and Enter Commercial  2004      4   27     5      40   \n",
       "873   Break and Enter Commercial  2005      3   18     6       0   \n",
       "874   Break and Enter Commercial  2022     10   18    10      42   \n",
       "...                          ...   ...    ...  ...   ...     ...   \n",
       "3207  Break and Enter Commercial  2003     11   24     3      25   \n",
       "3208  Break and Enter Commercial  2020      2    9    15       7   \n",
       "3209  Break and Enter Commercial  2022      2   25     1       0   \n",
       "3210  Break and Enter Commercial  2022      3   10    19       0   \n",
       "3211  Break and Enter Commercial  2023      9   17     6      38   \n",
       "\n",
       "          HUNDRED_BLOCK              NEIGHBOURHOOD            X             Y  \n",
       "870   10XX GRANVILLE ST  Central Business District  490939.2139  5.458399e+06  \n",
       "871   10XX GRANVILLE ST  Central Business District  490945.5934  5.458406e+06  \n",
       "872   10XX GRANVILLE ST  Central Business District  490945.5934  5.458406e+06  \n",
       "873   10XX GRANVILLE ST  Central Business District  490945.5934  5.458406e+06  \n",
       "874   10XX GRANVILLE ST  Central Business District  490945.5934  5.458406e+06  \n",
       "...                 ...                        ...          ...           ...  \n",
       "3207  11XX GRANVILLE ST  Central Business District  490849.3205  5.458309e+06  \n",
       "3208  11XX GRANVILLE ST  Central Business District  490849.3205  5.458309e+06  \n",
       "3209  11XX GRANVILLE ST  Central Business District  490849.4359  5.458296e+06  \n",
       "3210  11XX GRANVILLE ST  Central Business District  490849.4359  5.458296e+06  \n",
       "3211  11XX GRANVILLE ST  Central Business District  490850.3578  5.458310e+06  \n",
       "\n",
       "[150 rows x 10 columns]"
      ]
     },
     "execution_count": 21,
     "metadata": {},
     "output_type": "execute_result"
    }
   ],
   "source": [
    "crime[crime.HUNDRED_BLOCK.str.contains('GRANVILLE')].head(150)\n"
   ]
  },
  {
   "cell_type": "code",
   "execution_count": 22,
   "id": "5bfdf59f",
   "metadata": {},
   "outputs": [
    {
     "data": {
      "text/html": [
       "<div>\n",
       "<style scoped>\n",
       "    .dataframe tbody tr th:only-of-type {\n",
       "        vertical-align: middle;\n",
       "    }\n",
       "\n",
       "    .dataframe tbody tr th {\n",
       "        vertical-align: top;\n",
       "    }\n",
       "\n",
       "    .dataframe thead th {\n",
       "        text-align: right;\n",
       "    }\n",
       "</style>\n",
       "<table border=\"1\" class=\"dataframe\">\n",
       "  <thead>\n",
       "    <tr style=\"text-align: right;\">\n",
       "      <th></th>\n",
       "      <th>TYPE</th>\n",
       "      <th>YEAR</th>\n",
       "      <th>MONTH</th>\n",
       "      <th>DAY</th>\n",
       "      <th>HOUR</th>\n",
       "      <th>MINUTE</th>\n",
       "      <th>HUNDRED_BLOCK</th>\n",
       "      <th>NEIGHBOURHOOD</th>\n",
       "      <th>X</th>\n",
       "      <th>Y</th>\n",
       "    </tr>\n",
       "  </thead>\n",
       "  <tbody>\n",
       "    <tr>\n",
       "      <th>47832</th>\n",
       "      <td>Break and Enter Commercial</td>\n",
       "      <td>2007</td>\n",
       "      <td>9</td>\n",
       "      <td>23</td>\n",
       "      <td>18</td>\n",
       "      <td>5</td>\n",
       "      <td>X NK_LOC ST</td>\n",
       "      <td>Strathcona</td>\n",
       "      <td>492757.4868</td>\n",
       "      <td>5.458792e+06</td>\n",
       "    </tr>\n",
       "    <tr>\n",
       "      <th>47833</th>\n",
       "      <td>Break and Enter Commercial</td>\n",
       "      <td>2007</td>\n",
       "      <td>11</td>\n",
       "      <td>1</td>\n",
       "      <td>14</td>\n",
       "      <td>38</td>\n",
       "      <td>X NK_LOC ST</td>\n",
       "      <td>Strathcona</td>\n",
       "      <td>492757.4868</td>\n",
       "      <td>5.458792e+06</td>\n",
       "    </tr>\n",
       "    <tr>\n",
       "      <th>47834</th>\n",
       "      <td>Break and Enter Commercial</td>\n",
       "      <td>2020</td>\n",
       "      <td>11</td>\n",
       "      <td>26</td>\n",
       "      <td>15</td>\n",
       "      <td>47</td>\n",
       "      <td>X NK_LOC ST</td>\n",
       "      <td>Strathcona</td>\n",
       "      <td>492757.4868</td>\n",
       "      <td>5.458792e+06</td>\n",
       "    </tr>\n",
       "    <tr>\n",
       "      <th>47835</th>\n",
       "      <td>Break and Enter Commercial</td>\n",
       "      <td>2005</td>\n",
       "      <td>5</td>\n",
       "      <td>18</td>\n",
       "      <td>18</td>\n",
       "      <td>30</td>\n",
       "      <td>X NK_LOC ST \"SQUAMISH\"</td>\n",
       "      <td>Strathcona</td>\n",
       "      <td>492757.4868</td>\n",
       "      <td>5.458792e+06</td>\n",
       "    </tr>\n",
       "    <tr>\n",
       "      <th>120508</th>\n",
       "      <td>Break and Enter Residential/Other</td>\n",
       "      <td>2008</td>\n",
       "      <td>3</td>\n",
       "      <td>13</td>\n",
       "      <td>7</td>\n",
       "      <td>0</td>\n",
       "      <td>X NK_LOC ST</td>\n",
       "      <td>Strathcona</td>\n",
       "      <td>492757.4868</td>\n",
       "      <td>5.458792e+06</td>\n",
       "    </tr>\n",
       "    <tr>\n",
       "      <th>...</th>\n",
       "      <td>...</td>\n",
       "      <td>...</td>\n",
       "      <td>...</td>\n",
       "      <td>...</td>\n",
       "      <td>...</td>\n",
       "      <td>...</td>\n",
       "      <td>...</td>\n",
       "      <td>...</td>\n",
       "      <td>...</td>\n",
       "      <td>...</td>\n",
       "    </tr>\n",
       "    <tr>\n",
       "      <th>852719</th>\n",
       "      <td>Theft of Vehicle</td>\n",
       "      <td>2020</td>\n",
       "      <td>3</td>\n",
       "      <td>17</td>\n",
       "      <td>15</td>\n",
       "      <td>30</td>\n",
       "      <td>X NK_LOC ST</td>\n",
       "      <td>Strathcona</td>\n",
       "      <td>492765.9374</td>\n",
       "      <td>5.458793e+06</td>\n",
       "    </tr>\n",
       "    <tr>\n",
       "      <th>852720</th>\n",
       "      <td>Theft of Vehicle</td>\n",
       "      <td>2022</td>\n",
       "      <td>10</td>\n",
       "      <td>28</td>\n",
       "      <td>15</td>\n",
       "      <td>0</td>\n",
       "      <td>X NK_LOC ST</td>\n",
       "      <td>Strathcona</td>\n",
       "      <td>492765.9374</td>\n",
       "      <td>5.458793e+06</td>\n",
       "    </tr>\n",
       "    <tr>\n",
       "      <th>852721</th>\n",
       "      <td>Theft of Vehicle</td>\n",
       "      <td>2023</td>\n",
       "      <td>8</td>\n",
       "      <td>30</td>\n",
       "      <td>8</td>\n",
       "      <td>36</td>\n",
       "      <td>X NK_LOC ST</td>\n",
       "      <td>Strathcona</td>\n",
       "      <td>492765.9374</td>\n",
       "      <td>5.458793e+06</td>\n",
       "    </tr>\n",
       "    <tr>\n",
       "      <th>852722</th>\n",
       "      <td>Theft of Vehicle</td>\n",
       "      <td>2022</td>\n",
       "      <td>10</td>\n",
       "      <td>2</td>\n",
       "      <td>6</td>\n",
       "      <td>30</td>\n",
       "      <td>X NK_LOC ST</td>\n",
       "      <td>Strathcona</td>\n",
       "      <td>492765.9376</td>\n",
       "      <td>5.458793e+06</td>\n",
       "    </tr>\n",
       "    <tr>\n",
       "      <th>852723</th>\n",
       "      <td>Theft of Vehicle</td>\n",
       "      <td>2005</td>\n",
       "      <td>5</td>\n",
       "      <td>14</td>\n",
       "      <td>15</td>\n",
       "      <td>0</td>\n",
       "      <td>X NK_LOC ST \"SQUAMISH\"</td>\n",
       "      <td>Strathcona</td>\n",
       "      <td>492757.4868</td>\n",
       "      <td>5.458792e+06</td>\n",
       "    </tr>\n",
       "  </tbody>\n",
       "</table>\n",
       "<p>6373 rows × 10 columns</p>\n",
       "</div>"
      ],
      "text/plain": [
       "                                     TYPE  YEAR  MONTH  DAY  HOUR  MINUTE  \\\n",
       "47832          Break and Enter Commercial  2007      9   23    18       5   \n",
       "47833          Break and Enter Commercial  2007     11    1    14      38   \n",
       "47834          Break and Enter Commercial  2020     11   26    15      47   \n",
       "47835          Break and Enter Commercial  2005      5   18    18      30   \n",
       "120508  Break and Enter Residential/Other  2008      3   13     7       0   \n",
       "...                                   ...   ...    ...  ...   ...     ...   \n",
       "852719                   Theft of Vehicle  2020      3   17    15      30   \n",
       "852720                   Theft of Vehicle  2022     10   28    15       0   \n",
       "852721                   Theft of Vehicle  2023      8   30     8      36   \n",
       "852722                   Theft of Vehicle  2022     10    2     6      30   \n",
       "852723                   Theft of Vehicle  2005      5   14    15       0   \n",
       "\n",
       "                 HUNDRED_BLOCK NEIGHBOURHOOD            X             Y  \n",
       "47832              X NK_LOC ST    Strathcona  492757.4868  5.458792e+06  \n",
       "47833              X NK_LOC ST    Strathcona  492757.4868  5.458792e+06  \n",
       "47834              X NK_LOC ST    Strathcona  492757.4868  5.458792e+06  \n",
       "47835   X NK_LOC ST \"SQUAMISH\"    Strathcona  492757.4868  5.458792e+06  \n",
       "120508             X NK_LOC ST    Strathcona  492757.4868  5.458792e+06  \n",
       "...                        ...           ...          ...           ...  \n",
       "852719             X NK_LOC ST    Strathcona  492765.9374  5.458793e+06  \n",
       "852720             X NK_LOC ST    Strathcona  492765.9374  5.458793e+06  \n",
       "852721             X NK_LOC ST    Strathcona  492765.9374  5.458793e+06  \n",
       "852722             X NK_LOC ST    Strathcona  492765.9376  5.458793e+06  \n",
       "852723  X NK_LOC ST \"SQUAMISH\"    Strathcona  492757.4868  5.458792e+06  \n",
       "\n",
       "[6373 rows x 10 columns]"
      ]
     },
     "execution_count": 22,
     "metadata": {},
     "output_type": "execute_result"
    }
   ],
   "source": [
    "crime[crime.HUNDRED_BLOCK.str.contains('NK_LOC')]"
   ]
  },
  {
   "cell_type": "code",
   "execution_count": 23,
   "id": "b7412e37",
   "metadata": {},
   "outputs": [
    {
     "name": "stdout",
     "output_type": "stream",
     "text": [
      "XX NK_LOC ST is default location value used for incidents with unknown location and is geolocated to 312 Main Street.\n"
     ]
    }
   ],
   "source": [
    "print(\"XX NK_LOC ST is default location value used for incidents with unknown location and is geolocated to 312 Main Street.\")"
   ]
  },
  {
   "cell_type": "code",
   "execution_count": 24,
   "id": "cacdbe38",
   "metadata": {},
   "outputs": [
    {
     "data": {
      "text/plain": [
       "OFFSET TO PROTECT PRIVACY       77520\n",
       "7XX GRANVILLE ST                 7470\n",
       "X NK_LOC ST                      6366\n",
       "31XX GRANDVIEW HWY               5599\n",
       "7XX W GEORGIA ST                 5396\n",
       "                                ...  \n",
       "2227A W 14TH AVE                    1\n",
       "GLENGYLE ST / STAINSBURY AVE        1\n",
       "35XX BLOCK FRASER ST                1\n",
       "35XX BLOCK ETON ST                  1\n",
       "39XX ASH ST                         1\n",
       "Name: HUNDRED_BLOCK, Length: 23427, dtype: int64"
      ]
     },
     "execution_count": 24,
     "metadata": {},
     "output_type": "execute_result"
    }
   ],
   "source": [
    "crime.HUNDRED_BLOCK.value_counts()"
   ]
  },
  {
   "cell_type": "code",
   "execution_count": 25,
   "id": "de695869",
   "metadata": {},
   "outputs": [
    {
     "data": {
      "text/plain": [
       "Series([], Name: HUNDRED_BLOCK, dtype: object)"
      ]
     },
     "execution_count": 25,
     "metadata": {},
     "output_type": "execute_result"
    }
   ],
   "source": [
    "mask = crime['HUNDRED_BLOCK'].notna()\n",
    "crime.loc[mask,'HUNDRED_BLOCK'] = crime.loc[mask,'HUNDRED_BLOCK'].str.replace(r'^XXXX ', '', regex=True)\n",
    "#crime.HUNDRED_BLOCK = crime.HUNDRED_BLOCK.str.replace(r'^XXXX ', '', regex=True)\n",
    "crime.loc[mask,'HUNDRED_BLOCK'] = crime.loc[mask,'HUNDRED_BLOCK'].str.replace(r'^\\dX ', '', regex=True)\n",
    "crime.loc[mask,'HUNDRED_BLOCK'] = crime.loc[mask,'HUNDRED_BLOCK'].str.replace(r'^\\d{2}XXX ', '', regex=True)\n",
    "crime.loc[mask,'HUNDRED_BLOCK'] = crime.loc[mask,'HUNDRED_BLOCK'].str.replace(r'^\\d{2}XX ', '', regex=True)\n",
    "crime.loc[mask,'HUNDRED_BLOCK'] = crime.loc[mask,'HUNDRED_BLOCK'].str.replace(r'^\\dXX ', '', regex=True)\n",
    "crime.loc[mask,'HUNDRED_BLOCK'] = crime.loc[mask,'HUNDRED_BLOCK'].str.replace(r'^X ', '', regex=True)\n",
    "crime.HUNDRED_BLOCK[crime.HUNDRED_BLOCK.str.contains(' X ')]"
   ]
  },
  {
   "cell_type": "code",
   "execution_count": 26,
   "id": "aa46f5c2",
   "metadata": {},
   "outputs": [
    {
     "data": {
      "text/plain": [
       "Series([], Name: HUNDRED_BLOCK, dtype: object)"
      ]
     },
     "execution_count": 26,
     "metadata": {},
     "output_type": "execute_result"
    }
   ],
   "source": [
    "crime.HUNDRED_BLOCK[crime.HUNDRED_BLOCK.str.contains(' X ')]"
   ]
  },
  {
   "cell_type": "markdown",
   "id": "4bf0b5aa",
   "metadata": {},
   "source": [
    " <span style=\"font-size: 22px;color:blue\">-Finding Duplicates </span>\n",
    " <span style=\"font-size: 22px;color:blue\">-Removing Duplicates  </span>"
   ]
  },
  {
   "cell_type": "code",
   "execution_count": 27,
   "id": "08ccb97f",
   "metadata": {},
   "outputs": [
    {
     "name": "stdout",
     "output_type": "stream",
     "text": [
      "There are 32212 duplicate rows in the crime dataset.\n",
      "\n",
      "Duplicate records here might be because of different aspects of the same incident:Sometimes, a single incident might involve multiple offenses or different types of crimes. In this specific project, furthur investgation is not possible, so I assumed that the duplicates are because of data entrye error and removed them.\n"
     ]
    }
   ],
   "source": [
    "print(\"There are {} duplicate rows in the crime dataset.\".format(crime[crime.duplicated()].shape[0]))\n",
    "\n",
    "#Removing duplicates\n",
    "crime.drop_duplicates(inplace=True)\n",
    "crime.duplicated().sum() \n",
    "\n",
    "\n",
    "print(\"\\nDuplicate records here might be because of different aspects of the same incident:\\\n",
    "Sometimes, a single incident might involve multiple offenses or different types of crimes. \\\n",
    "In this specific project, furthur investgation is not possible, so I assumed that the duplicates are because of data entrye error and removed them.\")"
   ]
  },
  {
   "cell_type": "code",
   "execution_count": 28,
   "id": "b472c190",
   "metadata": {},
   "outputs": [
    {
     "data": {
      "text/html": [
       "<div>\n",
       "<style scoped>\n",
       "    .dataframe tbody tr th:only-of-type {\n",
       "        vertical-align: middle;\n",
       "    }\n",
       "\n",
       "    .dataframe tbody tr th {\n",
       "        vertical-align: top;\n",
       "    }\n",
       "\n",
       "    .dataframe thead th {\n",
       "        text-align: right;\n",
       "    }\n",
       "</style>\n",
       "<table border=\"1\" class=\"dataframe\">\n",
       "  <thead>\n",
       "    <tr style=\"text-align: right;\">\n",
       "      <th></th>\n",
       "      <th>date</th>\n",
       "      <th>just_date</th>\n",
       "      <th>is_holiday</th>\n",
       "      <th>holiday</th>\n",
       "      <th>Unnamed: 4</th>\n",
       "      <th>m</th>\n",
       "      <th>d</th>\n",
       "    </tr>\n",
       "  </thead>\n",
       "  <tbody>\n",
       "  </tbody>\n",
       "</table>\n",
       "</div>"
      ],
      "text/plain": [
       "Empty DataFrame\n",
       "Columns: [date, just_date, is_holiday, holiday, Unnamed: 4, m, d]\n",
       "Index: []"
      ]
     },
     "execution_count": 28,
     "metadata": {},
     "output_type": "execute_result"
    }
   ],
   "source": [
    "# No duplicate in holiday\n",
    "holiday[holiday.duplicated()]"
   ]
  },
  {
   "cell_type": "code",
   "execution_count": 29,
   "id": "fdf5fad8",
   "metadata": {},
   "outputs": [
    {
     "data": {
      "text/html": [
       "<div>\n",
       "<style scoped>\n",
       "    .dataframe tbody tr th:only-of-type {\n",
       "        vertical-align: middle;\n",
       "    }\n",
       "\n",
       "    .dataframe tbody tr th {\n",
       "        vertical-align: top;\n",
       "    }\n",
       "\n",
       "    .dataframe thead th {\n",
       "        text-align: right;\n",
       "    }\n",
       "</style>\n",
       "<table border=\"1\" class=\"dataframe\">\n",
       "  <thead>\n",
       "    <tr style=\"text-align: right;\">\n",
       "      <th></th>\n",
       "      <th>growth</th>\n",
       "      <th>growthRate</th>\n",
       "      <th>population</th>\n",
       "      <th>year</th>\n",
       "    </tr>\n",
       "  </thead>\n",
       "  <tbody>\n",
       "  </tbody>\n",
       "</table>\n",
       "</div>"
      ],
      "text/plain": [
       "Empty DataFrame\n",
       "Columns: [growth, growthRate, population, year]\n",
       "Index: []"
      ]
     },
     "execution_count": 29,
     "metadata": {},
     "output_type": "execute_result"
    }
   ],
   "source": [
    "# No duplicate in population\n",
    "pop[pop.duplicated()]"
   ]
  },
  {
   "cell_type": "markdown",
   "id": "0c3f5f8b",
   "metadata": {},
   "source": [
    " <span style=\"font-size: 22px;color:blue\">-Finding  outliers </span> \n",
    "<br> <span style=\"font-size: 22px;color:blue\">-Dealing with outliers  </span> "
   ]
  },
  {
   "cell_type": "code",
   "execution_count": 30,
   "id": "b825d3a9",
   "metadata": {},
   "outputs": [
    {
     "name": "stdout",
     "output_type": "stream",
     "text": [
      "The number of outliers based on IQR method is :\n",
      "_Column YEAR: 0  \n",
      "_Column MONTH: 0  \n",
      "_Column DAY: 0  \n",
      "_Column HOUR: 0  \n",
      "_Column MINUTE: 0  \n",
      "_Column X: 61818, which is 7.27% of the dataset\n",
      "_Column Y: 45311, which is 5.33% of the dataset\n",
      "\n",
      "I will change x,y to lat,long in the next step and again check for the outliers.\n",
      "Latitude and longitude are based on the Earth's curved surface and are ideal for global measurements and navigation.In contrast, X-Y coordinates are typically based on a flat surface.\n"
     ]
    },
    {
     "data": {
      "image/png": "[encoded data removed]",
      "text/plain": [
       "<Figure size 600x800 with 7 Axes>"
      ]
     },
     "metadata": {},
     "output_type": "display_data"
    }
   ],
   "source": [
    "# Numerical columns to check: year,month,hour,minute,x,y\n",
    "crime_columns_outlier = ['YEAR', 'MONTH', 'DAY', 'HOUR', 'MINUTE', 'X', 'Y']\n",
    "fig,ax = plt.subplots(len(crime_columns_outlier),layout = \"tight\" ,figsize=(6,8))\n",
    "for col , ax in zip(crime_columns_outlier,ax.flat):\n",
    "    sns.boxplot(data=crime,x=col,ax=ax)\n",
    " \n",
    "print(\"The number of outliers based on IQR method is :\")\n",
    "for col in crime_columns_outlier:\n",
    "    q25,q50,q75 = np.percentile(crime[col], (25,50,75))\n",
    "    IQR =  q75 - q25 \n",
    "    lower = q25 - 1.5 * IQR\n",
    "    upper = q75 + 1.5 * IQR\n",
    "    num_of_outliers = len(crime[(crime[col] <= lower) |   (crime[col] >= upper) ])\n",
    "    outlier_percentage =  \"{:.2f}\".format( (num_of_outliers / len(crime)) * 100) \n",
    "    if num_of_outliers == 0:\n",
    "        print(\"_Column {}: {}  \".format(col, num_of_outliers  ))\n",
    "    else:\n",
    "        print(\"_Column {}: {}, which is {}% of the dataset\".format(col, num_of_outliers,outlier_percentage ))\n",
    "print(\"\\nI will change x,y to lat,long in the next step and again check for the outliers.\")\n",
    "print(\"Latitude and longitude are based on the Earth's curved surface and are ideal for global measurements and navigation.\\\n",
    "In contrast, X-Y coordinates are typically based on a flat surface.\")"
   ]
  },
  {
   "cell_type": "code",
   "execution_count": 31,
   "id": "cd8a9fd7",
   "metadata": {},
   "outputs": [
    {
     "data": {
      "image/png": "[encoded data removed]",
      "text/plain": [
       "<Figure size 1000x800 with 9 Axes>"
      ]
     },
     "metadata": {},
     "output_type": "display_data"
    }
   ],
   "source": [
    "crime.hist(figsize=(10,8));"
   ]
  },
  {
   "cell_type": "markdown",
   "id": "c5cf08d2",
   "metadata": {},
   "source": [
    " <span style=\"font-size: 22px;color:blue\">5-Create New columns </span>"
   ]
  },
  {
   "cell_type": "markdown",
   "id": "0aae73b6",
   "metadata": {},
   "source": [
    "  <span style=\"font-size: 20px;color:blue\">-Add a Date column to Crime Data </span>"
   ]
  },
  {
   "cell_type": "code",
   "execution_count": 32,
   "id": "ae118bbc",
   "metadata": {},
   "outputs": [],
   "source": [
    "crime['date'] = pd.to_datetime(crime[['YEAR','MONTH','DAY']])"
   ]
  },
  {
   "cell_type": "markdown",
   "id": "6f4e00ec",
   "metadata": {},
   "source": [
    "   <span style=\"font-size: 20px;color:blue\">- Add a YearMonth column  </span>"
   ]
  },
  {
   "cell_type": "code",
   "execution_count": 33,
   "id": "c7730f87",
   "metadata": {},
   "outputs": [],
   "source": [
    "crime['year_month'] = crime.date.dt.strftime(\"%Y-%m\")"
   ]
  },
  {
   "cell_type": "markdown",
   "id": "81cd805e",
   "metadata": {},
   "source": [
    "   <span style=\"font-size: 20px;color:blue\">- Add a new column to indicate holiday or not  </span>"
   ]
  },
  {
   "cell_type": "code",
   "execution_count": 34,
   "id": "16bc6c8e",
   "metadata": {},
   "outputs": [
    {
     "name": "stdout",
     "output_type": "stream",
     "text": [
      "3.42% of the crimes happend on holidays. We will discover more.\n"
     ]
    }
   ],
   "source": [
    "# Add two columns: \n",
    "# 'is_holiday,' indicating whether it is a holiday or not, and 'holiday,' which shows the text corresponding to BC's holidays.\n",
    "crime = crime.merge(holiday[['is_holiday','just_date','holiday']], left_on ='date',right_on='just_date', how='left')\n",
    "crime = crime.drop('just_date',axis=1)\n",
    "formatted_value = \"{:.2f}\".format( len(crime[crime.is_holiday == 1])  / len(crime) * 100)\n",
    "print(\"{}% of the crimes happend on holidays. We will discover more.\".format(formatted_value))"
   ]
  },
  {
   "cell_type": "code",
   "execution_count": 35,
   "id": "361409e6",
   "metadata": {},
   "outputs": [
    {
     "data": {
      "text/plain": [
       "not_holiday                                      821080\n",
       "New Year's Day                                     2738\n",
       "Canada Day                                         2664\n",
       "Labour Day                                         2531\n",
       "Remembrance Day                                    2499\n",
       "British Columbia Day                               2415\n",
       "Good Friday                                        2383\n",
       "Thanksgiving                                       2300\n",
       "Easter Monday                                      2224\n",
       "Victoria Day                                       2212\n",
       "Boxing Day                                         1839\n",
       "Christmas Day                                      1412\n",
       "Family Day                                         1095\n",
       "Canada Day (Observed)                               692\n",
       "New Year's Day (Observed)                           675\n",
       "Boxing Day (Observed)                               617\n",
       "Christmas Day (Observed)                            581\n",
       "Funeral of Her Majesty the Queen Elizabeth II        99\n",
       "National Day for Truth and Reconciliation            90\n",
       "Name: holiday, dtype: int64"
      ]
     },
     "execution_count": 35,
     "metadata": {},
     "output_type": "execute_result"
    }
   ],
   "source": [
    "crime['holiday'].fillna('not_holiday', inplace = True)\n",
    "crime.holiday.value_counts(dropna=False)"
   ]
  },
  {
   "cell_type": "code",
   "execution_count": 36,
   "id": "aae7d6f0",
   "metadata": {},
   "outputs": [
    {
     "name": "stderr",
     "output_type": "stream",
     "text": [
      "C:\\Users\\M\\AppData\\Local\\Temp\\ipykernel_4452\\1367679769.py:2: FutureWarning: The default value of regex will change from True to False in a future version.\n",
      "  crime.holiday.str.replace(r\"\\(Observed\\)\",'').value_counts(dropna=False)\n"
     ]
    },
    {
     "data": {
      "text/plain": [
       "not_holiday                                      821080\n",
       "New Year's Day                                     2738\n",
       "Canada Day                                         2664\n",
       "Labour Day                                         2531\n",
       "Remembrance Day                                    2499\n",
       "British Columbia Day                               2415\n",
       "Good Friday                                        2383\n",
       "Thanksgiving                                       2300\n",
       "Easter Monday                                      2224\n",
       "Victoria Day                                       2212\n",
       "Boxing Day                                         1839\n",
       "Christmas Day                                      1412\n",
       "Family Day                                         1095\n",
       "Canada Day                                          692\n",
       "New Year's Day                                      675\n",
       "Boxing Day                                          617\n",
       "Christmas Day                                       581\n",
       "Funeral of Her Majesty the Queen Elizabeth II        99\n",
       "National Day for Truth and Reconciliation            90\n",
       "Name: holiday, dtype: int64"
      ]
     },
     "execution_count": 36,
     "metadata": {},
     "output_type": "execute_result"
    }
   ],
   "source": [
    "# Remove observe from the holiday description\n",
    "crime.holiday.str.replace(r\"\\(Observed\\)\",'').value_counts(dropna=False) "
   ]
  },
  {
   "cell_type": "markdown",
   "id": "f1f406cc",
   "metadata": {},
   "source": [
    "  <span style=\"font-size: 22px;color:blue\">- Add two columns for day of week and weekend or weekday </span>"
   ]
  },
  {
   "cell_type": "code",
   "execution_count": 37,
   "id": "5b2d3a3b",
   "metadata": {},
   "outputs": [],
   "source": [
    "crime['weekday'] = crime['date'].dt.dayofweek\n",
    "crime['weekday_name'] =crime['date'].dt.strftime('%a')\n",
    "crime['month_name'] = crime['date'].dt.strftime('%b')\n",
    "crime['day_type'] = crime['date'].dt.dayofweek.apply(lambda x: 1 if x >= 5 else 0)\n"
   ]
  },
  {
   "cell_type": "code",
   "execution_count": 38,
   "id": "d27eca68",
   "metadata": {},
   "outputs": [
    {
     "data": {
      "text/html": [
       "<div>\n",
       "<style scoped>\n",
       "    .dataframe tbody tr th:only-of-type {\n",
       "        vertical-align: middle;\n",
       "    }\n",
       "\n",
       "    .dataframe tbody tr th {\n",
       "        vertical-align: top;\n",
       "    }\n",
       "\n",
       "    .dataframe thead th {\n",
       "        text-align: right;\n",
       "    }\n",
       "</style>\n",
       "<table border=\"1\" class=\"dataframe\">\n",
       "  <thead>\n",
       "    <tr style=\"text-align: right;\">\n",
       "      <th></th>\n",
       "      <th>TYPE</th>\n",
       "      <th>YEAR</th>\n",
       "      <th>MONTH</th>\n",
       "      <th>DAY</th>\n",
       "      <th>HOUR</th>\n",
       "      <th>MINUTE</th>\n",
       "      <th>HUNDRED_BLOCK</th>\n",
       "      <th>NEIGHBOURHOOD</th>\n",
       "      <th>X</th>\n",
       "      <th>Y</th>\n",
       "      <th>date</th>\n",
       "      <th>year_month</th>\n",
       "      <th>is_holiday</th>\n",
       "      <th>holiday</th>\n",
       "      <th>weekday</th>\n",
       "      <th>weekday_name</th>\n",
       "      <th>month_name</th>\n",
       "      <th>day_type</th>\n",
       "    </tr>\n",
       "  </thead>\n",
       "  <tbody>\n",
       "    <tr>\n",
       "      <th>5</th>\n",
       "      <td>Break and Enter Commercial</td>\n",
       "      <td>2021</td>\n",
       "      <td>11</td>\n",
       "      <td>21</td>\n",
       "      <td>6</td>\n",
       "      <td>33</td>\n",
       "      <td>ALBERNI ST</td>\n",
       "      <td>West End</td>\n",
       "      <td>491015.9434</td>\n",
       "      <td>5.459166e+06</td>\n",
       "      <td>2021-11-21</td>\n",
       "      <td>2021-11</td>\n",
       "      <td>0</td>\n",
       "      <td>not_holiday</td>\n",
       "      <td>6</td>\n",
       "      <td>Sun</td>\n",
       "      <td>Nov</td>\n",
       "      <td>1</td>\n",
       "    </tr>\n",
       "    <tr>\n",
       "      <th>8</th>\n",
       "      <td>Break and Enter Commercial</td>\n",
       "      <td>2006</td>\n",
       "      <td>5</td>\n",
       "      <td>21</td>\n",
       "      <td>4</td>\n",
       "      <td>50</td>\n",
       "      <td>ALBERNI ST</td>\n",
       "      <td>West End</td>\n",
       "      <td>491021.3857</td>\n",
       "      <td>5.459161e+06</td>\n",
       "      <td>2006-05-21</td>\n",
       "      <td>2006-05</td>\n",
       "      <td>0</td>\n",
       "      <td>not_holiday</td>\n",
       "      <td>6</td>\n",
       "      <td>Sun</td>\n",
       "      <td>May</td>\n",
       "      <td>1</td>\n",
       "    </tr>\n",
       "    <tr>\n",
       "      <th>10</th>\n",
       "      <td>Break and Enter Commercial</td>\n",
       "      <td>2013</td>\n",
       "      <td>6</td>\n",
       "      <td>1</td>\n",
       "      <td>20</td>\n",
       "      <td>0</td>\n",
       "      <td>ALBERNI ST</td>\n",
       "      <td>West End</td>\n",
       "      <td>491032.2705</td>\n",
       "      <td>5.459150e+06</td>\n",
       "      <td>2013-06-01</td>\n",
       "      <td>2013-06</td>\n",
       "      <td>0</td>\n",
       "      <td>not_holiday</td>\n",
       "      <td>5</td>\n",
       "      <td>Sat</td>\n",
       "      <td>Jun</td>\n",
       "      <td>1</td>\n",
       "    </tr>\n",
       "    <tr>\n",
       "      <th>22</th>\n",
       "      <td>Break and Enter Commercial</td>\n",
       "      <td>2014</td>\n",
       "      <td>11</td>\n",
       "      <td>22</td>\n",
       "      <td>23</td>\n",
       "      <td>28</td>\n",
       "      <td>ALBERNI ST</td>\n",
       "      <td>West End</td>\n",
       "      <td>491059.4824</td>\n",
       "      <td>5.459122e+06</td>\n",
       "      <td>2014-11-22</td>\n",
       "      <td>2014-11</td>\n",
       "      <td>0</td>\n",
       "      <td>not_holiday</td>\n",
       "      <td>5</td>\n",
       "      <td>Sat</td>\n",
       "      <td>Nov</td>\n",
       "      <td>1</td>\n",
       "    </tr>\n",
       "    <tr>\n",
       "      <th>25</th>\n",
       "      <td>Break and Enter Commercial</td>\n",
       "      <td>2004</td>\n",
       "      <td>1</td>\n",
       "      <td>24</td>\n",
       "      <td>0</td>\n",
       "      <td>1</td>\n",
       "      <td>ALBERNI ST</td>\n",
       "      <td>West End</td>\n",
       "      <td>491067.3433</td>\n",
       "      <td>5.459115e+06</td>\n",
       "      <td>2004-01-24</td>\n",
       "      <td>2004-01</td>\n",
       "      <td>0</td>\n",
       "      <td>not_holiday</td>\n",
       "      <td>5</td>\n",
       "      <td>Sat</td>\n",
       "      <td>Jan</td>\n",
       "      <td>1</td>\n",
       "    </tr>\n",
       "  </tbody>\n",
       "</table>\n",
       "</div>"
      ],
      "text/plain": [
       "                          TYPE  YEAR  MONTH  DAY  HOUR  MINUTE HUNDRED_BLOCK  \\\n",
       "5   Break and Enter Commercial  2021     11   21     6      33    ALBERNI ST   \n",
       "8   Break and Enter Commercial  2006      5   21     4      50    ALBERNI ST   \n",
       "10  Break and Enter Commercial  2013      6    1    20       0    ALBERNI ST   \n",
       "22  Break and Enter Commercial  2014     11   22    23      28    ALBERNI ST   \n",
       "25  Break and Enter Commercial  2004      1   24     0       1    ALBERNI ST   \n",
       "\n",
       "   NEIGHBOURHOOD            X             Y       date year_month  is_holiday  \\\n",
       "5       West End  491015.9434  5.459166e+06 2021-11-21    2021-11           0   \n",
       "8       West End  491021.3857  5.459161e+06 2006-05-21    2006-05           0   \n",
       "10      West End  491032.2705  5.459150e+06 2013-06-01    2013-06           0   \n",
       "22      West End  491059.4824  5.459122e+06 2014-11-22    2014-11           0   \n",
       "25      West End  491067.3433  5.459115e+06 2004-01-24    2004-01           0   \n",
       "\n",
       "        holiday  weekday weekday_name month_name  day_type  \n",
       "5   not_holiday        6          Sun        Nov         1  \n",
       "8   not_holiday        6          Sun        May         1  \n",
       "10  not_holiday        5          Sat        Jun         1  \n",
       "22  not_holiday        5          Sat        Nov         1  \n",
       "25  not_holiday        5          Sat        Jan         1  "
      ]
     },
     "execution_count": 38,
     "metadata": {},
     "output_type": "execute_result"
    }
   ],
   "source": [
    "crime[crime.day_type==1].head()"
   ]
  },
  {
   "cell_type": "code",
   "execution_count": 39,
   "id": "5013d7ad",
   "metadata": {},
   "outputs": [
    {
     "data": {
      "text/plain": [
       "4    130765\n",
       "5    128578\n",
       "0    119749\n",
       "1    118330\n",
       "6    118191\n",
       "3    117929\n",
       "2    116604\n",
       "Name: weekday, dtype: int64"
      ]
     },
     "execution_count": 39,
     "metadata": {},
     "output_type": "execute_result"
    }
   ],
   "source": [
    "crime.weekday.value_counts()"
   ]
  },
  {
   "cell_type": "code",
   "execution_count": 40,
   "id": "9d390be3",
   "metadata": {},
   "outputs": [],
   "source": [
    "crime.day_type = crime.day_type.astype(int)"
   ]
  },
  {
   "cell_type": "code",
   "execution_count": 41,
   "id": "d32227de",
   "metadata": {},
   "outputs": [
    {
     "name": "stdout",
     "output_type": "stream",
     "text": [
      "68.37% of the crimes occurred on weekdays and 27.96% of the crimes occurred on weekends. I will further explore the crime rate for each day.\n"
     ]
    }
   ],
   "source": [
    "formatted_value_weekend = \"{:.2f}\".format( (len(crime[crime.day_type == 1]) / crime_len ) * 100 )\n",
    "formatted_value_weekday = \"{:.2f}\".format( (len(crime[crime.day_type == 0]) / crime_len ) * 100 )\n",
    "print(\"{}% of the crimes occurred on weekdays and {}% of the crimes occurred on weekends. I will further explore the crime rate for each day.\" .format(formatted_value_weekday,formatted_value_weekend))"
   ]
  },
  {
   "cell_type": "markdown",
   "id": "352062f9",
   "metadata": {},
   "source": [
    "  <span style=\"font-size: 22px;color:blue\">- Add a column to show timeinterval </span>"
   ]
  },
  {
   "cell_type": "code",
   "execution_count": 42,
   "id": "f6819f40",
   "metadata": {},
   "outputs": [
    {
     "data": {
      "text/html": [
       "<div>\n",
       "<style scoped>\n",
       "    .dataframe tbody tr th:only-of-type {\n",
       "        vertical-align: middle;\n",
       "    }\n",
       "\n",
       "    .dataframe tbody tr th {\n",
       "        vertical-align: top;\n",
       "    }\n",
       "\n",
       "    .dataframe thead th {\n",
       "        text-align: right;\n",
       "    }\n",
       "</style>\n",
       "<table border=\"1\" class=\"dataframe\">\n",
       "  <thead>\n",
       "    <tr style=\"text-align: right;\">\n",
       "      <th></th>\n",
       "      <th>TYPE</th>\n",
       "      <th>YEAR</th>\n",
       "      <th>MONTH</th>\n",
       "      <th>DAY</th>\n",
       "      <th>HOUR</th>\n",
       "      <th>MINUTE</th>\n",
       "      <th>HUNDRED_BLOCK</th>\n",
       "      <th>NEIGHBOURHOOD</th>\n",
       "      <th>X</th>\n",
       "      <th>Y</th>\n",
       "      <th>date</th>\n",
       "      <th>year_month</th>\n",
       "      <th>is_holiday</th>\n",
       "      <th>holiday</th>\n",
       "      <th>weekday</th>\n",
       "      <th>weekday_name</th>\n",
       "      <th>month_name</th>\n",
       "      <th>day_type</th>\n",
       "    </tr>\n",
       "  </thead>\n",
       "  <tbody>\n",
       "    <tr>\n",
       "      <th>0</th>\n",
       "      <td>Break and Enter Commercial</td>\n",
       "      <td>2019</td>\n",
       "      <td>3</td>\n",
       "      <td>7</td>\n",
       "      <td>2</td>\n",
       "      <td>6</td>\n",
       "      <td>SITKA SQ</td>\n",
       "      <td>Fairview</td>\n",
       "      <td>490612.9648</td>\n",
       "      <td>5.457110e+06</td>\n",
       "      <td>2019-03-07</td>\n",
       "      <td>2019-03</td>\n",
       "      <td>0</td>\n",
       "      <td>not_holiday</td>\n",
       "      <td>3</td>\n",
       "      <td>Thu</td>\n",
       "      <td>Mar</td>\n",
       "      <td>0</td>\n",
       "    </tr>\n",
       "    <tr>\n",
       "      <th>1</th>\n",
       "      <td>Break and Enter Commercial</td>\n",
       "      <td>2019</td>\n",
       "      <td>8</td>\n",
       "      <td>27</td>\n",
       "      <td>4</td>\n",
       "      <td>12</td>\n",
       "      <td>ALBERNI ST</td>\n",
       "      <td>West End</td>\n",
       "      <td>491004.8164</td>\n",
       "      <td>5.459177e+06</td>\n",
       "      <td>2019-08-27</td>\n",
       "      <td>2019-08</td>\n",
       "      <td>0</td>\n",
       "      <td>not_holiday</td>\n",
       "      <td>1</td>\n",
       "      <td>Tue</td>\n",
       "      <td>Aug</td>\n",
       "      <td>0</td>\n",
       "    </tr>\n",
       "    <tr>\n",
       "      <th>2</th>\n",
       "      <td>Break and Enter Commercial</td>\n",
       "      <td>2021</td>\n",
       "      <td>4</td>\n",
       "      <td>26</td>\n",
       "      <td>4</td>\n",
       "      <td>44</td>\n",
       "      <td>ALBERNI ST</td>\n",
       "      <td>West End</td>\n",
       "      <td>491007.7798</td>\n",
       "      <td>5.459174e+06</td>\n",
       "      <td>2021-04-26</td>\n",
       "      <td>2021-04</td>\n",
       "      <td>0</td>\n",
       "      <td>not_holiday</td>\n",
       "      <td>0</td>\n",
       "      <td>Mon</td>\n",
       "      <td>Apr</td>\n",
       "      <td>0</td>\n",
       "    </tr>\n",
       "    <tr>\n",
       "      <th>3</th>\n",
       "      <td>Break and Enter Commercial</td>\n",
       "      <td>2014</td>\n",
       "      <td>8</td>\n",
       "      <td>8</td>\n",
       "      <td>5</td>\n",
       "      <td>13</td>\n",
       "      <td>ALBERNI ST</td>\n",
       "      <td>West End</td>\n",
       "      <td>491015.9434</td>\n",
       "      <td>5.459166e+06</td>\n",
       "      <td>2014-08-08</td>\n",
       "      <td>2014-08</td>\n",
       "      <td>0</td>\n",
       "      <td>not_holiday</td>\n",
       "      <td>4</td>\n",
       "      <td>Fri</td>\n",
       "      <td>Aug</td>\n",
       "      <td>0</td>\n",
       "    </tr>\n",
       "    <tr>\n",
       "      <th>4</th>\n",
       "      <td>Break and Enter Commercial</td>\n",
       "      <td>2020</td>\n",
       "      <td>7</td>\n",
       "      <td>28</td>\n",
       "      <td>19</td>\n",
       "      <td>12</td>\n",
       "      <td>ALBERNI ST</td>\n",
       "      <td>West End</td>\n",
       "      <td>491015.9434</td>\n",
       "      <td>5.459166e+06</td>\n",
       "      <td>2020-07-28</td>\n",
       "      <td>2020-07</td>\n",
       "      <td>0</td>\n",
       "      <td>not_holiday</td>\n",
       "      <td>1</td>\n",
       "      <td>Tue</td>\n",
       "      <td>Jul</td>\n",
       "      <td>0</td>\n",
       "    </tr>\n",
       "    <tr>\n",
       "      <th>...</th>\n",
       "      <td>...</td>\n",
       "      <td>...</td>\n",
       "      <td>...</td>\n",
       "      <td>...</td>\n",
       "      <td>...</td>\n",
       "      <td>...</td>\n",
       "      <td>...</td>\n",
       "      <td>...</td>\n",
       "      <td>...</td>\n",
       "      <td>...</td>\n",
       "      <td>...</td>\n",
       "      <td>...</td>\n",
       "      <td>...</td>\n",
       "      <td>...</td>\n",
       "      <td>...</td>\n",
       "      <td>...</td>\n",
       "      <td>...</td>\n",
       "      <td>...</td>\n",
       "    </tr>\n",
       "    <tr>\n",
       "      <th>850141</th>\n",
       "      <td>Vehicle Collision or Pedestrian Struck (with I...</td>\n",
       "      <td>2003</td>\n",
       "      <td>9</td>\n",
       "      <td>1</td>\n",
       "      <td>20</td>\n",
       "      <td>45</td>\n",
       "      <td>YUKON ST / W KING EDWARD AVE</td>\n",
       "      <td>Riley Park</td>\n",
       "      <td>491786.0000</td>\n",
       "      <td>5.455143e+06</td>\n",
       "      <td>2003-09-01</td>\n",
       "      <td>2003-09</td>\n",
       "      <td>1</td>\n",
       "      <td>Labour Day</td>\n",
       "      <td>0</td>\n",
       "      <td>Mon</td>\n",
       "      <td>Sep</td>\n",
       "      <td>0</td>\n",
       "    </tr>\n",
       "    <tr>\n",
       "      <th>850142</th>\n",
       "      <td>Vehicle Collision or Pedestrian Struck (with I...</td>\n",
       "      <td>2005</td>\n",
       "      <td>7</td>\n",
       "      <td>20</td>\n",
       "      <td>18</td>\n",
       "      <td>57</td>\n",
       "      <td>YUKON ST / W KING EDWARD AVE</td>\n",
       "      <td>Riley Park</td>\n",
       "      <td>491786.0000</td>\n",
       "      <td>5.455143e+06</td>\n",
       "      <td>2005-07-20</td>\n",
       "      <td>2005-07</td>\n",
       "      <td>0</td>\n",
       "      <td>not_holiday</td>\n",
       "      <td>2</td>\n",
       "      <td>Wed</td>\n",
       "      <td>Jul</td>\n",
       "      <td>0</td>\n",
       "    </tr>\n",
       "    <tr>\n",
       "      <th>850143</th>\n",
       "      <td>Vehicle Collision or Pedestrian Struck (with I...</td>\n",
       "      <td>2016</td>\n",
       "      <td>6</td>\n",
       "      <td>20</td>\n",
       "      <td>18</td>\n",
       "      <td>11</td>\n",
       "      <td>YUKON ST / W KING EDWARD AVE</td>\n",
       "      <td>Riley Park</td>\n",
       "      <td>491786.0000</td>\n",
       "      <td>5.455143e+06</td>\n",
       "      <td>2016-06-20</td>\n",
       "      <td>2016-06</td>\n",
       "      <td>0</td>\n",
       "      <td>not_holiday</td>\n",
       "      <td>0</td>\n",
       "      <td>Mon</td>\n",
       "      <td>Jun</td>\n",
       "      <td>0</td>\n",
       "    </tr>\n",
       "    <tr>\n",
       "      <th>850144</th>\n",
       "      <td>Vehicle Collision or Pedestrian Struck (with I...</td>\n",
       "      <td>2013</td>\n",
       "      <td>12</td>\n",
       "      <td>3</td>\n",
       "      <td>9</td>\n",
       "      <td>49</td>\n",
       "      <td>YUKON ST / W KING EDWARD AVE</td>\n",
       "      <td>Riley Park</td>\n",
       "      <td>491835.0000</td>\n",
       "      <td>5.455126e+06</td>\n",
       "      <td>2013-12-03</td>\n",
       "      <td>2013-12</td>\n",
       "      <td>0</td>\n",
       "      <td>not_holiday</td>\n",
       "      <td>1</td>\n",
       "      <td>Tue</td>\n",
       "      <td>Dec</td>\n",
       "      <td>0</td>\n",
       "    </tr>\n",
       "    <tr>\n",
       "      <th>850145</th>\n",
       "      <td>Vehicle Collision or Pedestrian Struck (with I...</td>\n",
       "      <td>2013</td>\n",
       "      <td>12</td>\n",
       "      <td>27</td>\n",
       "      <td>14</td>\n",
       "      <td>40</td>\n",
       "      <td>YUKON ST / W KING EDWARD AVE</td>\n",
       "      <td>Riley Park</td>\n",
       "      <td>491835.0000</td>\n",
       "      <td>5.455126e+06</td>\n",
       "      <td>2013-12-27</td>\n",
       "      <td>2013-12</td>\n",
       "      <td>0</td>\n",
       "      <td>not_holiday</td>\n",
       "      <td>4</td>\n",
       "      <td>Fri</td>\n",
       "      <td>Dec</td>\n",
       "      <td>0</td>\n",
       "    </tr>\n",
       "  </tbody>\n",
       "</table>\n",
       "<p>850146 rows × 18 columns</p>\n",
       "</div>"
      ],
      "text/plain": [
       "                                                     TYPE  YEAR  MONTH  DAY  \\\n",
       "0                              Break and Enter Commercial  2019      3    7   \n",
       "1                              Break and Enter Commercial  2019      8   27   \n",
       "2                              Break and Enter Commercial  2021      4   26   \n",
       "3                              Break and Enter Commercial  2014      8    8   \n",
       "4                              Break and Enter Commercial  2020      7   28   \n",
       "...                                                   ...   ...    ...  ...   \n",
       "850141  Vehicle Collision or Pedestrian Struck (with I...  2003      9    1   \n",
       "850142  Vehicle Collision or Pedestrian Struck (with I...  2005      7   20   \n",
       "850143  Vehicle Collision or Pedestrian Struck (with I...  2016      6   20   \n",
       "850144  Vehicle Collision or Pedestrian Struck (with I...  2013     12    3   \n",
       "850145  Vehicle Collision or Pedestrian Struck (with I...  2013     12   27   \n",
       "\n",
       "        HOUR  MINUTE                 HUNDRED_BLOCK NEIGHBOURHOOD            X  \\\n",
       "0          2       6                      SITKA SQ      Fairview  490612.9648   \n",
       "1          4      12                    ALBERNI ST      West End  491004.8164   \n",
       "2          4      44                    ALBERNI ST      West End  491007.7798   \n",
       "3          5      13                    ALBERNI ST      West End  491015.9434   \n",
       "4         19      12                    ALBERNI ST      West End  491015.9434   \n",
       "...      ...     ...                           ...           ...          ...   \n",
       "850141    20      45  YUKON ST / W KING EDWARD AVE    Riley Park  491786.0000   \n",
       "850142    18      57  YUKON ST / W KING EDWARD AVE    Riley Park  491786.0000   \n",
       "850143    18      11  YUKON ST / W KING EDWARD AVE    Riley Park  491786.0000   \n",
       "850144     9      49  YUKON ST / W KING EDWARD AVE    Riley Park  491835.0000   \n",
       "850145    14      40  YUKON ST / W KING EDWARD AVE    Riley Park  491835.0000   \n",
       "\n",
       "                   Y       date year_month  is_holiday      holiday  weekday  \\\n",
       "0       5.457110e+06 2019-03-07    2019-03           0  not_holiday        3   \n",
       "1       5.459177e+06 2019-08-27    2019-08           0  not_holiday        1   \n",
       "2       5.459174e+06 2021-04-26    2021-04           0  not_holiday        0   \n",
       "3       5.459166e+06 2014-08-08    2014-08           0  not_holiday        4   \n",
       "4       5.459166e+06 2020-07-28    2020-07           0  not_holiday        1   \n",
       "...              ...        ...        ...         ...          ...      ...   \n",
       "850141  5.455143e+06 2003-09-01    2003-09           1   Labour Day        0   \n",
       "850142  5.455143e+06 2005-07-20    2005-07           0  not_holiday        2   \n",
       "850143  5.455143e+06 2016-06-20    2016-06           0  not_holiday        0   \n",
       "850144  5.455126e+06 2013-12-03    2013-12           0  not_holiday        1   \n",
       "850145  5.455126e+06 2013-12-27    2013-12           0  not_holiday        4   \n",
       "\n",
       "       weekday_name month_name  day_type  \n",
       "0               Thu        Mar         0  \n",
       "1               Tue        Aug         0  \n",
       "2               Mon        Apr         0  \n",
       "3               Fri        Aug         0  \n",
       "4               Tue        Jul         0  \n",
       "...             ...        ...       ...  \n",
       "850141          Mon        Sep         0  \n",
       "850142          Wed        Jul         0  \n",
       "850143          Mon        Jun         0  \n",
       "850144          Tue        Dec         0  \n",
       "850145          Fri        Dec         0  \n",
       "\n",
       "[850146 rows x 18 columns]"
      ]
     },
     "execution_count": 42,
     "metadata": {},
     "output_type": "execute_result"
    }
   ],
   "source": [
    "crime"
   ]
  },
  {
   "cell_type": "code",
   "execution_count": 43,
   "id": "ef4241e1",
   "metadata": {},
   "outputs": [],
   "source": [
    "# Add time column\n",
    "crime['time'] = pd.to_datetime(crime.HOUR.astype(str).str.zfill(2) + ':' + crime.MINUTE.astype(str).str.zfill(2) + ':' + '00').dt.time"
   ]
  },
  {
   "cell_type": "markdown",
   "id": "1abd5c0c",
   "metadata": {},
   "source": [
    "  <span style=\"font-size: 20px;color:blue\">- Adding \"Time Segment\" column to indicate the time of day, such as morning, afternoon, evening, or night </span>"
   ]
  },
  {
   "cell_type": "code",
   "execution_count": 44,
   "id": "b70d0c89",
   "metadata": {},
   "outputs": [],
   "source": [
    "def identify_time_category(time):\n",
    "    time_interval_dict = {\n",
    "    '6-Midnight': (datetime.strptime('00:00:00', '%H:%M:%S').time(), datetime.strptime('05:59:59', '%H:%M:%S').time()),\n",
    "    '1-Early Morning': (datetime.strptime('06:00:00', '%H:%M:%S').time(), datetime.strptime('09:59:59', '%H:%M:%S').time()),\n",
    "    '2-Late Morning': (datetime.strptime('10:00:00', '%H:%M:%S').time(), datetime.strptime('13:59:59', '%H:%M:%S').time()),\n",
    "    '3-Afternoon': (datetime.strptime('14:00:00', '%H:%M:%S').time(), datetime.strptime('17:59:59', '%H:%M:%S').time()),\n",
    "    '4-Evening': (datetime.strptime('18:00:00', '%H:%M:%S').time(), datetime.strptime('21:59:59', '%H:%M:%S').time()),\n",
    "    '5-Night': (datetime.strptime('22:00:00', '%H:%M:%S').time(), datetime.strptime('23:59:59', '%H:%M:%S').time())\n",
    "                          }\n",
    "    for category , (start_time , end_time) in time_interval_dict.items():\n",
    "        if start_time <= time <= end_time :\n",
    "            return category \n",
    "    return 'unknown'   # If time does not fit in the defined time intervals \n",
    "crime['time_category'] = crime.time.apply(identify_time_category)"
   ]
  },
  {
   "cell_type": "code",
   "execution_count": 45,
   "id": "59000306",
   "metadata": {},
   "outputs": [
    {
     "data": {
      "text/plain": [
       "4-Evening          192924\n",
       "3-Afternoon        177899\n",
       "6-Midnight         172880\n",
       "2-Late Morning     137251\n",
       "1-Early Morning     86483\n",
       "5-Night             82709\n",
       "Name: time_category, dtype: int64"
      ]
     },
     "execution_count": 45,
     "metadata": {},
     "output_type": "execute_result"
    }
   ],
   "source": [
    "crime.time_category.value_counts()"
   ]
  },
  {
   "cell_type": "markdown",
   "id": "9c3ef0e6",
   "metadata": {},
   "source": [
    "  <span style=\"font-size: 20px;color:blue\">- Add a column for crime type category  </span>"
   ]
  },
  {
   "cell_type": "code",
   "execution_count": 46,
   "id": "d11cac62",
   "metadata": {},
   "outputs": [
    {
     "name": "stdout",
     "output_type": "stream",
     "text": [
      "To simplify the analysis and gain a clearer perspective on crime trends, I will group the *11* distinct crime types in the dataset into broader categories based on their similarity.\n"
     ]
    }
   ],
   "source": [
    "print(\"To simplify the analysis and gain a clearer perspective on crime trends, I will group the *{}* distinct crime types in the dataset into broader categories based on their similarity.\".format(len(crime.TYPE.unique())))\n",
    "crime_type_category_dict = {\n",
    "                        'Theft from Vehicle'                                     :'Theft' ,\n",
    "                        'Other Theft'                                            :'Theft' ,\n",
    "                        'Mischief'                                               :'Mischief' ,\n",
    "                        'Offence Against a Person'                               :'Offence Against a Person' ,\n",
    "                        'Break and Enter Residential/Other'                      :'Break and Enter' ,\n",
    "                        'Break and Enter Commercial'                             :'Break and Enter' ,\n",
    "                        'Theft of Vehicle'                                       :'Theft' ,\n",
    "                        'Theft of Bicycle'                                       :'Theft' ,\n",
    "                        'Vehicle Collision or Pedestrian Struck (with Injury)'   :'Vehicle Collision' ,\n",
    "                        'Vehicle Collision or Pedestrian Struck (with Fatality)' :'Vehicle Collision' ,\n",
    "                        'Homicide'                                               :'Homicide' \n",
    "                 \n",
    "}\n",
    "crime['crime_type_category'] = crime.TYPE.map(crime_type_category_dict)"
   ]
  },
  {
   "cell_type": "markdown",
   "id": "3fb41d89",
   "metadata": {},
   "source": [
    "  <span style=\"font-size: 20px;color:blue\">- Transform UTM coordinate - Add a column for lat and lon  </span>"
   ]
  },
  {
   "cell_type": "code",
   "execution_count": 47,
   "id": "c3924a8f",
   "metadata": {},
   "outputs": [
    {
     "name": "stderr",
     "output_type": "stream",
     "text": [
      "C:\\Users\\M\\anaconda3\\lib\\site-packages\\pyproj\\crs\\crs.py:141: FutureWarning: '+init=<authority>:<code>' syntax is deprecated. '<authority>:<code>' is the preferred initialization method. When making the change, be mindful of axis order changes: https://pyproj4.github.io/pyproj/stable/gotchas.html#axis-order-changes-in-proj-6\n",
      "  in_crs_string = _prepare_from_proj_string(in_crs_string)\n",
      "C:\\Users\\M\\AppData\\Local\\Temp\\ipykernel_4452\\2425866901.py:5: FutureWarning: This function is deprecated. See: https://pyproj4.github.io/pyproj/stable/gotchas.html#upgrading-to-pyproj-2-from-pyproj-1\n",
      "  lon, lat = transform(myProj, Proj(init='epsg:4326'), crime['X'].values, crime['Y'].values)\n"
     ]
    }
   ],
   "source": [
    "# Create a PyProj transformer for the coordinate conversion\n",
    "myProj = Proj('+proj=utm +zone=10 +ellps=WGS84', preserve_units=False)\n",
    "\n",
    "# Convert UTM coordinates (X and Y) to latitude and longitude\n",
    "lon, lat = transform(myProj, Proj(init='epsg:4326'), crime['X'].values, crime['Y'].values)\n",
    "\n",
    "# Add the latitude and longitude as\n",
    "crime['lon'],crime['lat'] = lon ,lat\n"
   ]
  },
  {
   "cell_type": "code",
   "execution_count": 48,
   "id": "a0ce48aa",
   "metadata": {},
   "outputs": [
    {
     "data": {
      "text/plain": [
       "(array([-123.12902924, -123.12368956, -123.12364875, ..., -123.112865  ,\n",
       "        -123.11219137, -123.11219137]),\n",
       " array([49.26667814, 49.28528145, 49.28525473, ..., 49.24900307,\n",
       "        49.24885081, 49.24885081]))"
      ]
     },
     "execution_count": 48,
     "metadata": {},
     "output_type": "execute_result"
    }
   ],
   "source": [
    "lon , lat"
   ]
  },
  {
   "cell_type": "markdown",
   "id": "146339f6",
   "metadata": {},
   "source": [
    "<span style=\"font-size: 20px;color:blue\">- Create a dataframe : Yearly Aggregation  </span>\n",
    "<br>\n",
    "<span style=\"font-size: 16px;color:black\">I created a new dataframe with granularity set to 'year', then merged it with the population and CPI data. I also added the crime per capita and crime growth rate to facilitate comparison with population and CPI trends."
   ]
  },
  {
   "cell_type": "code",
   "execution_count": 49,
   "id": "35a3aee6",
   "metadata": {},
   "outputs": [
    {
     "name": "stderr",
     "output_type": "stream",
     "text": [
      "C:\\Users\\M\\AppData\\Local\\Temp\\ipykernel_4452\\3881538251.py:18: SettingWithCopyWarning: \n",
      "A value is trying to be set on a copy of a slice from a DataFrame\n",
      "\n",
      "See the caveats in the documentation: https://pandas.pydata.org/pandas-docs/stable/user_guide/indexing.html#returning-a-view-versus-a-copy\n",
      "  crime_grouped_by_year_all['crimes_growth_rate'].iloc[0]= 0\n"
     ]
    }
   ],
   "source": [
    "crime_grouped_by_year = crime.groupby(['YEAR'])['TYPE'].count().rename('number_of_crimes').to_frame().reset_index()\n",
    "crime_grouped_by_year.head(5)\n",
    "crime_grouped_by_year_all = ( \n",
    "    crime_grouped_by_year\n",
    "      .merge(pop,how='left', left_on='YEAR', right_on ='year')\n",
    "      .merge(cpi,how='left', left_on='YEAR',right_on = 'Year')\n",
    " )\n",
    "\n",
    "crime_grouped_by_year_all['crimes_per_capita'] = (\n",
    "   ( crime_grouped_by_year_all.number_of_crimes  / crime_grouped_by_year_all.population ) * 100000 )\n",
    "\n",
    "crime_grouped_by_year_all.sort_values(by='YEAR' , ascending = True , inplace = True)\n",
    "crime_grouped_by_year_all['crimes_growth_rate'] = (\n",
    "     ( crime_grouped_by_year_all['number_of_crimes'] - crime_grouped_by_year_all['number_of_crimes'].shift(1).fillna(0))\n",
    "       /       crime_grouped_by_year_all['number_of_crimes'].shift(1).fillna(1) \n",
    "     ) * 100\n",
    "                                  \n",
    "crime_grouped_by_year_all['crimes_growth_rate'].iloc[0]= 0        \n",
    "                               \n",
    "                                  \n",
    "\n",
    "column_name_dict = { 'growth'          :   'pop_growth'      , \n",
    "                     'growthRate'      :   'pop_growth_rate' ,\n",
    "                     'All Items Index' :   'cpi_index'\n",
    "                   }\n",
    "columns_to_drop = ['year','Year','Annual Percent Change']\n",
    "crime_grouped_by_year_all.drop(columns = columns_to_drop, inplace =True)\n",
    "crime_grouped_by_year_all.rename(columns  = column_name_dict, inplace = True)\n"
   ]
  },
  {
   "cell_type": "code",
   "execution_count": 50,
   "id": "3b61a3f3",
   "metadata": {},
   "outputs": [
    {
     "data": {
      "text/html": [
       "<div>\n",
       "<style scoped>\n",
       "    .dataframe tbody tr th:only-of-type {\n",
       "        vertical-align: middle;\n",
       "    }\n",
       "\n",
       "    .dataframe tbody tr th {\n",
       "        vertical-align: top;\n",
       "    }\n",
       "\n",
       "    .dataframe thead th {\n",
       "        text-align: right;\n",
       "    }\n",
       "</style>\n",
       "<table border=\"1\" class=\"dataframe\">\n",
       "  <thead>\n",
       "    <tr style=\"text-align: right;\">\n",
       "      <th></th>\n",
       "      <th>YEAR</th>\n",
       "      <th>number_of_crimes</th>\n",
       "      <th>pop_growth</th>\n",
       "      <th>pop_growth_rate</th>\n",
       "      <th>population</th>\n",
       "      <th>cpi_index</th>\n",
       "      <th>crimes_per_capita</th>\n",
       "      <th>crimes_growth_rate</th>\n",
       "    </tr>\n",
       "  </thead>\n",
       "  <tbody>\n",
       "    <tr>\n",
       "      <th>0</th>\n",
       "      <td>2003</td>\n",
       "      <td>57602</td>\n",
       "      <td>25621</td>\n",
       "      <td>0.012712</td>\n",
       "      <td>2041120</td>\n",
       "      <td>102.0</td>\n",
       "      <td>2822.078075</td>\n",
       "      <td>0.000000</td>\n",
       "    </tr>\n",
       "    <tr>\n",
       "      <th>1</th>\n",
       "      <td>2004</td>\n",
       "      <td>56725</td>\n",
       "      <td>25981</td>\n",
       "      <td>0.012729</td>\n",
       "      <td>2067101</td>\n",
       "      <td>104.0</td>\n",
       "      <td>2744.181344</td>\n",
       "      <td>-1.522517</td>\n",
       "    </tr>\n",
       "    <tr>\n",
       "      <th>2</th>\n",
       "      <td>2005</td>\n",
       "      <td>52041</td>\n",
       "      <td>26241</td>\n",
       "      <td>0.012695</td>\n",
       "      <td>2093342</td>\n",
       "      <td>106.0</td>\n",
       "      <td>2486.024739</td>\n",
       "      <td>-8.257382</td>\n",
       "    </tr>\n",
       "    <tr>\n",
       "      <th>3</th>\n",
       "      <td>2006</td>\n",
       "      <td>47859</td>\n",
       "      <td>28002</td>\n",
       "      <td>0.013377</td>\n",
       "      <td>2121344</td>\n",
       "      <td>108.0</td>\n",
       "      <td>2256.069737</td>\n",
       "      <td>-8.035972</td>\n",
       "    </tr>\n",
       "    <tr>\n",
       "      <th>4</th>\n",
       "      <td>2007</td>\n",
       "      <td>42472</td>\n",
       "      <td>38175</td>\n",
       "      <td>0.017996</td>\n",
       "      <td>2159519</td>\n",
       "      <td>110.2</td>\n",
       "      <td>1966.734259</td>\n",
       "      <td>-11.255981</td>\n",
       "    </tr>\n",
       "    <tr>\n",
       "      <th>5</th>\n",
       "      <td>2008</td>\n",
       "      <td>39940</td>\n",
       "      <td>38916</td>\n",
       "      <td>0.018021</td>\n",
       "      <td>2198435</td>\n",
       "      <td>112.8</td>\n",
       "      <td>1816.746913</td>\n",
       "      <td>-5.961575</td>\n",
       "    </tr>\n",
       "    <tr>\n",
       "      <th>6</th>\n",
       "      <td>2009</td>\n",
       "      <td>36368</td>\n",
       "      <td>39507</td>\n",
       "      <td>0.017971</td>\n",
       "      <td>2237942</td>\n",
       "      <td>112.9</td>\n",
       "      <td>1625.064457</td>\n",
       "      <td>-8.943415</td>\n",
       "    </tr>\n",
       "    <tr>\n",
       "      <th>7</th>\n",
       "      <td>2010</td>\n",
       "      <td>34140</td>\n",
       "      <td>40274</td>\n",
       "      <td>0.017996</td>\n",
       "      <td>2278216</td>\n",
       "      <td>114.9</td>\n",
       "      <td>1498.540964</td>\n",
       "      <td>-6.126265</td>\n",
       "    </tr>\n",
       "    <tr>\n",
       "      <th>8</th>\n",
       "      <td>2011</td>\n",
       "      <td>32765</td>\n",
       "      <td>39258</td>\n",
       "      <td>0.017232</td>\n",
       "      <td>2317474</td>\n",
       "      <td>117.5</td>\n",
       "      <td>1413.823844</td>\n",
       "      <td>-4.027534</td>\n",
       "    </tr>\n",
       "    <tr>\n",
       "      <th>9</th>\n",
       "      <td>2012</td>\n",
       "      <td>33916</td>\n",
       "      <td>29353</td>\n",
       "      <td>0.012666</td>\n",
       "      <td>2346827</td>\n",
       "      <td>119.0</td>\n",
       "      <td>1445.185350</td>\n",
       "      <td>3.512895</td>\n",
       "    </tr>\n",
       "    <tr>\n",
       "      <th>10</th>\n",
       "      <td>2013</td>\n",
       "      <td>34234</td>\n",
       "      <td>29643</td>\n",
       "      <td>0.012631</td>\n",
       "      <td>2376470</td>\n",
       "      <td>119.2</td>\n",
       "      <td>1440.539961</td>\n",
       "      <td>0.937611</td>\n",
       "    </tr>\n",
       "    <tr>\n",
       "      <th>11</th>\n",
       "      <td>2014</td>\n",
       "      <td>37979</td>\n",
       "      <td>30059</td>\n",
       "      <td>0.012649</td>\n",
       "      <td>2406529</td>\n",
       "      <td>120.5</td>\n",
       "      <td>1578.165067</td>\n",
       "      <td>10.939417</td>\n",
       "    </tr>\n",
       "    <tr>\n",
       "      <th>12</th>\n",
       "      <td>2015</td>\n",
       "      <td>38951</td>\n",
       "      <td>30438</td>\n",
       "      <td>0.012648</td>\n",
       "      <td>2436967</td>\n",
       "      <td>121.9</td>\n",
       "      <td>1598.339247</td>\n",
       "      <td>2.559309</td>\n",
       "    </tr>\n",
       "    <tr>\n",
       "      <th>13</th>\n",
       "      <td>2016</td>\n",
       "      <td>42785</td>\n",
       "      <td>30867</td>\n",
       "      <td>0.012666</td>\n",
       "      <td>2467834</td>\n",
       "      <td>124.6</td>\n",
       "      <td>1733.706562</td>\n",
       "      <td>9.843136</td>\n",
       "    </tr>\n",
       "    <tr>\n",
       "      <th>14</th>\n",
       "      <td>2017</td>\n",
       "      <td>41900</td>\n",
       "      <td>31258</td>\n",
       "      <td>0.012666</td>\n",
       "      <td>2499092</td>\n",
       "      <td>127.3</td>\n",
       "      <td>1676.608944</td>\n",
       "      <td>-2.068482</td>\n",
       "    </tr>\n",
       "    <tr>\n",
       "      <th>15</th>\n",
       "      <td>2018</td>\n",
       "      <td>43035</td>\n",
       "      <td>31654</td>\n",
       "      <td>0.012666</td>\n",
       "      <td>2530746</td>\n",
       "      <td>131.0</td>\n",
       "      <td>1700.486734</td>\n",
       "      <td>2.708831</td>\n",
       "    </tr>\n",
       "    <tr>\n",
       "      <th>16</th>\n",
       "      <td>2019</td>\n",
       "      <td>46581</td>\n",
       "      <td>25138</td>\n",
       "      <td>0.009933</td>\n",
       "      <td>2555884</td>\n",
       "      <td>134.1</td>\n",
       "      <td>1822.500552</td>\n",
       "      <td>8.239805</td>\n",
       "    </tr>\n",
       "    <tr>\n",
       "      <th>17</th>\n",
       "      <td>2020</td>\n",
       "      <td>35781</td>\n",
       "      <td>25195</td>\n",
       "      <td>0.009858</td>\n",
       "      <td>2581079</td>\n",
       "      <td>134.9</td>\n",
       "      <td>1386.280699</td>\n",
       "      <td>-23.185419</td>\n",
       "    </tr>\n",
       "    <tr>\n",
       "      <th>18</th>\n",
       "      <td>2021</td>\n",
       "      <td>30461</td>\n",
       "      <td>25272</td>\n",
       "      <td>0.009791</td>\n",
       "      <td>2606351</td>\n",
       "      <td>138.5</td>\n",
       "      <td>1168.722095</td>\n",
       "      <td>-14.868226</td>\n",
       "    </tr>\n",
       "    <tr>\n",
       "      <th>19</th>\n",
       "      <td>2022</td>\n",
       "      <td>32422</td>\n",
       "      <td>25339</td>\n",
       "      <td>0.009722</td>\n",
       "      <td>2631690</td>\n",
       "      <td>147.8</td>\n",
       "      <td>1231.984010</td>\n",
       "      <td>6.437740</td>\n",
       "    </tr>\n",
       "    <tr>\n",
       "      <th>20</th>\n",
       "      <td>2023</td>\n",
       "      <td>32189</td>\n",
       "      <td>25398</td>\n",
       "      <td>0.009651</td>\n",
       "      <td>2657088</td>\n",
       "      <td>NaN</td>\n",
       "      <td>1211.438989</td>\n",
       "      <td>-0.718648</td>\n",
       "    </tr>\n",
       "  </tbody>\n",
       "</table>\n",
       "</div>"
      ],
      "text/plain": [
       "    YEAR  number_of_crimes  pop_growth  pop_growth_rate  population  \\\n",
       "0   2003             57602       25621         0.012712     2041120   \n",
       "1   2004             56725       25981         0.012729     2067101   \n",
       "2   2005             52041       26241         0.012695     2093342   \n",
       "3   2006             47859       28002         0.013377     2121344   \n",
       "4   2007             42472       38175         0.017996     2159519   \n",
       "5   2008             39940       38916         0.018021     2198435   \n",
       "6   2009             36368       39507         0.017971     2237942   \n",
       "7   2010             34140       40274         0.017996     2278216   \n",
       "8   2011             32765       39258         0.017232     2317474   \n",
       "9   2012             33916       29353         0.012666     2346827   \n",
       "10  2013             34234       29643         0.012631     2376470   \n",
       "11  2014             37979       30059         0.012649     2406529   \n",
       "12  2015             38951       30438         0.012648     2436967   \n",
       "13  2016             42785       30867         0.012666     2467834   \n",
       "14  2017             41900       31258         0.012666     2499092   \n",
       "15  2018             43035       31654         0.012666     2530746   \n",
       "16  2019             46581       25138         0.009933     2555884   \n",
       "17  2020             35781       25195         0.009858     2581079   \n",
       "18  2021             30461       25272         0.009791     2606351   \n",
       "19  2022             32422       25339         0.009722     2631690   \n",
       "20  2023             32189       25398         0.009651     2657088   \n",
       "\n",
       "    cpi_index  crimes_per_capita  crimes_growth_rate  \n",
       "0       102.0        2822.078075            0.000000  \n",
       "1       104.0        2744.181344           -1.522517  \n",
       "2       106.0        2486.024739           -8.257382  \n",
       "3       108.0        2256.069737           -8.035972  \n",
       "4       110.2        1966.734259          -11.255981  \n",
       "5       112.8        1816.746913           -5.961575  \n",
       "6       112.9        1625.064457           -8.943415  \n",
       "7       114.9        1498.540964           -6.126265  \n",
       "8       117.5        1413.823844           -4.027534  \n",
       "9       119.0        1445.185350            3.512895  \n",
       "10      119.2        1440.539961            0.937611  \n",
       "11      120.5        1578.165067           10.939417  \n",
       "12      121.9        1598.339247            2.559309  \n",
       "13      124.6        1733.706562            9.843136  \n",
       "14      127.3        1676.608944           -2.068482  \n",
       "15      131.0        1700.486734            2.708831  \n",
       "16      134.1        1822.500552            8.239805  \n",
       "17      134.9        1386.280699          -23.185419  \n",
       "18      138.5        1168.722095          -14.868226  \n",
       "19      147.8        1231.984010            6.437740  \n",
       "20        NaN        1211.438989           -0.718648  "
      ]
     },
     "execution_count": 50,
     "metadata": {},
     "output_type": "execute_result"
    }
   ],
   "source": [
    "crime_grouped_by_year_all\n"
   ]
  },
  {
   "cell_type": "markdown",
   "id": "573c8d42",
   "metadata": {},
   "source": [
    "<span style=\"font-size: 16px\">\n",
    "****** Data has been cleaned. \n",
    "Ten columns have been added to the Crime data. \n",
    "<br> .date                : date of the crime occurance\n",
    "<br> .is_holiday          : showing that it was a holiday or not \n",
    "<br> .holiday             : BC's holiday \n",
    "<br> .weekday             : day of week \n",
    "<br> .day_type            : showing that it is a weekday or weekend\n",
    "<br> .time                : time the crime occured\n",
    "<br> .time_category       : time segment\n",
    "<br> .crime_type_category : category of the crime type\n",
    "<br> .lon                 : lat long coordinate\n",
    "<br> .lat                 : lat long coordinate\n",
    "    \n",
    "****** The data frame will be saved in <i>binary</i> format(Pickle) ******\n",
    "</span> <br> <br>\n",
    "<span style=\"font-size: 20px;color:blue\">6-Create PICKE file</span>"
   ]
  },
  {
   "cell_type": "code",
   "execution_count": 51,
   "id": "902c6e3a",
   "metadata": {},
   "outputs": [],
   "source": [
    "crime.to_pickle('../Dataset/Prepared Data/crime_detailed_Prepared.pkl')\n",
    "crime_grouped_by_year_all.to_pickle('../Dataset/Prepared Data/crime_grouped_by_year_all_Prepared.pkl')\n",
    "#df_holiday.to_pickle('../Dataset/Prepared Data/CanadaHolidays_Prepared.pkl')\n",
    "pop.to_pickle('../Dataset/Prepared Data/VancouverPopulation_Prepared.pkl')\n",
    "cpi.to_pickle('../Dataset/Prepared Data/cpi_Prepared.pkl')"
   ]
  },
  {
   "cell_type": "code",
   "execution_count": 52,
   "id": "0425dba8",
   "metadata": {},
   "outputs": [],
   "source": [
    "# Export the data to csv in order to use in PowerBI\n",
    "crime_grouped_by_year_all.to_csv('../Dataset/Prepared Data/crime_grouped_by_year_all_Prepared.csv')\n",
    "crime.to_csv('../Dataset/Prepared Data/crime_Prepared.csv')"
   ]
  },
  {
   "cell_type": "code",
   "execution_count": 53,
   "id": "2b88bfad",
   "metadata": {},
   "outputs": [],
   "source": [
    "pop.to_csv('../Dataset/Prepared Data/population_Prepared.csv')"
   ]
  },
  {
   "cell_type": "code",
   "execution_count": 54,
   "id": "eebe67d8",
   "metadata": {},
   "outputs": [
    {
     "name": "stdout",
     "output_type": "stream",
     "text": [
      "The number of outliers based on IQR method is :\n",
      "_Column lon: 61596, which is 7.25% of the dataset\n",
      "_Column lat: 45311, which is 5.33% of the dataset\n"
     ]
    },
    {
     "data": {
      "image/png": "[encoded data removed]",
      "text/plain": [
       "<Figure size 600x800 with 2 Axes>"
      ]
     },
     "metadata": {},
     "output_type": "display_data"
    }
   ],
   "source": [
    "# Numerical columns to check: year,month,hour,minute,x,y\n",
    "crime_columns_outlier = ['lon' , 'lat']\n",
    "fig,ax = plt.subplots(len(crime_columns_outlier),layout = \"tight\" ,figsize=(6,8))\n",
    "for col , ax in zip(crime_columns_outlier,ax.flat):\n",
    "    sns.boxplot(data=crime,x=col,ax=ax)\n",
    " \n",
    "print(\"The number of outliers based on IQR method is :\")\n",
    "for col in crime_columns_outlier:\n",
    "    q25,q50,q75 = np.percentile(crime[col], (25,50,75))\n",
    "    IQR =  q75 - q25 \n",
    "    lower = q25 - 1.5 * IQR\n",
    "    upper = q75 + 1.5 * IQR\n",
    "    num_of_outliers = len(crime[(crime[col] <= lower) |   (crime[col] >= upper) ])\n",
    "    outlier_percentage =  \"{:.2f}\".format( (num_of_outliers / len(crime)) * 100) \n",
    "    if num_of_outliers == 0:\n",
    "        print(\"_Column {}: {}  \".format(col, num_of_outliers  ))\n",
    "    else:\n",
    "        print(\"_Column {}: {}, which is {}% of the dataset\".format(col, num_of_outliers,outlier_percentage ))\n"
   ]
  },
  {
   "cell_type": "code",
   "execution_count": null,
   "id": "e21c735f",
   "metadata": {},
   "outputs": [],
   "source": []
  }
 ],
 "metadata": {
  "kernelspec": {
   "display_name": "Python 3 (ipykernel)",
   "language": "python",
   "name": "python3"
  },
  "language_info": {
   "codemirror_mode": {
    "name": "ipython",
    "version": 3
   },
   "file_extension": ".py",
   "mimetype": "text/x-python",
   "name": "python",
   "nbconvert_exporter": "python",
   "pygments_lexer": "ipython3",
   "version": "3.9.13"
  }
 },
 "nbformat": 4,
 "nbformat_minor": 5
}
