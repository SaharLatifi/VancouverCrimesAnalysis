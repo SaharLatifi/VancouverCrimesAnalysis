{
 "cells": [
  {
   "cell_type": "markdown",
   "id": "734afa98",
   "metadata": {},
   "source": [
    "### For having more than 1 line chart in one plot, having a regression line, and having a legend"
   ]
  },
  {
   "cell_type": "code",
   "execution_count": null,
   "id": "44f24eb6",
   "metadata": {},
   "outputs": [],
   "source": [
    "sns.lineplot( data = crime_grouped_by_year_all_before2023 , x='YEAR' , y = 'number_of_crimes' , label='Number of Crimes')\n",
    "sns.lineplot( data = crime_grouped_by_year_all_before2023 , x='YEAR' , y = 'moving_avg', label='3-Year Moving Average')\n",
    "ax = plt.gca()\n",
    "ax.xaxis.set_major_locator(MaxNLocator(integer=True))\n",
    "# Perform linear regression\n",
    "sns.regplot(data=crime_grouped_by_year_all_before2023, x='YEAR', y='number_of_crimes', scatter=False, color='red', label='Regression Line')\n",
    "plt.suptitle('Crime Trend Over the Years')\n",
    "ax.set_title('2023 Excluded')\n",
    "#plt.title('Crime Trend Over the Years- 2023 not included')\n",
    "plt.xlabel('')\n",
    "plt.ylabel('')\n",
    "plt.legend(loc='best') \n",
    "plt.show()"
   ]
  },
  {
   "cell_type": "markdown",
   "id": "bbb58bff",
   "metadata": {},
   "source": [
    "### Determine colors based on y-values"
   ]
  },
  {
   "cell_type": "code",
   "execution_count": null,
   "id": "04bb2b78",
   "metadata": {},
   "outputs": [],
   "source": [
    "colors = ['#75B744' if value > 0 else '#FF2F5F' for value in crime_grouped_by_year_all_before2023['crimes_growth_rate']]\n",
    "plt.figure(figsize=(10,5))\n",
    "sns.barplot( data = crime_grouped_by_year_all_before2023, x='YEAR' , y = 'crimes_growth_rate' , palette = colors)"
   ]
  },
  {
   "cell_type": "markdown",
   "id": "73200df3",
   "metadata": {},
   "source": [
    "### Two scatter plots, in the same row. Change the color"
   ]
  },
  {
   "cell_type": "code",
   "execution_count": null,
   "id": "46c01eb3",
   "metadata": {},
   "outputs": [],
   "source": [
    "fig ,ax = plt.subplots(1,2 , figsize =(10,4))\n",
    "sns.scatterplot(data = crime_grouped_by_year_all_before2023 , y='crimes_growth_rate' ,x ='cpi_index',ax=ax[0], color='#75B744')\n",
    "sns.scatterplot(data = crime_grouped_by_year_all_before2023 , y='crimes_growth_rate' ,x ='pop_growth_rate',ax=ax[1])\n"
   ]
  },
  {
   "cell_type": "markdown",
   "id": "5591fa5c",
   "metadata": {},
   "source": [
    "### Formatting the numbers"
   ]
  },
  {
   "cell_type": "code",
   "execution_count": null,
   "id": "430f53d4",
   "metadata": {},
   "outputs": [],
   "source": [
    "correlation_value_pop = \"{:.2f}\".format(crime_grouped_by_year_all_before2023['pop_growth_rate'].corr(crime_grouped_by_year_all_before2023['crimes_growth_rate']))"
   ]
  },
  {
   "cell_type": "markdown",
   "id": "14a854ec",
   "metadata": {},
   "source": [
    "### For changing the maximum value's color in bar or column chart"
   ]
  },
  {
   "cell_type": "code",
   "execution_count": null,
   "id": "1000186e",
   "metadata": {},
   "outputs": [],
   "source": [
    "max_value = max(crime_monthly_avg.avg_no_of_crime)\n",
    "colors = ['red' if v == max_value else '#1E558D' for v in crime_monthly_avg['avg_no_of_crime']]\n",
    "plt.figure(figsize =(7,4))\n",
    "sns.barplot(data = crime_monthly_avg , x ='MONTH' , y = 'avg_no_of_crime',palette = colors) "
   ]
  },
  {
   "cell_type": "code",
   "execution_count": null,
   "id": "2dfc2eb6",
   "metadata": {},
   "outputs": [],
   "source": [
    "To suppress warnings in Python, especially when using Jupyter Notebook, you can make use of the warnings module. Here's how you can do it:\n",
    "\n",
    "python\n",
    "Copy code\n",
    "import warnings\n",
    "warnings.filterwarnings('ignore')"
   ]
  },
  {
   "cell_type": "markdown",
   "id": "9ddc69c1",
   "metadata": {},
   "source": [
    "### subplot"
   ]
  },
  {
   "cell_type": "code",
   "execution_count": null,
   "id": "851e9046",
   "metadata": {},
   "outputs": [],
   "source": [
    "fig ,ax = plt.subplots(1,2 , figsize =(10,4))\n",
    "sns.scatterplot(data = crime_grouped_by_year_all_before2023 , y='crimes_growth_rate' ,x ='cpi_index',ax=ax[0], color='#0A873F')\n",
    "sns.scatterplot(data = crime_grouped_by_year_all_before2023 , y='crimes_growth_rate' ,x ='pop_growth_rate',ax=ax[1])\n"
   ]
  },
  {
   "cell_type": "markdown",
   "id": "d237d7c7",
   "metadata": {},
   "source": [
    "### Showing the data lable"
   ]
  },
  {
   "cell_type": "code",
   "execution_count": null,
   "id": "71d5d5e5",
   "metadata": {},
   "outputs": [],
   "source": [
    "ax.bar_label(ax.containers[0],fmt=\"%.2f\")"
   ]
  },
  {
   "cell_type": "markdown",
   "id": "13141d58",
   "metadata": {},
   "source": [
    "### YOY percent Change"
   ]
  },
  {
   "cell_type": "code",
   "execution_count": null,
   "id": "8984fa00",
   "metadata": {},
   "outputs": [],
   "source": [
    "crime_grouped_by_year_all['crimes_growth_rate'] = (\n",
    "     ( crime_grouped_by_year_all['number_of_crimes'] - crime_grouped_by_year_all['number_of_crimes'].shift(1).fillna(0))\n",
    "       /       crime_grouped_by_year_all['number_of_crimes'].shift(1).fillna(1) \n",
    "     ) * 100"
   ]
  },
  {
   "cell_type": "markdown",
   "id": "975566d8",
   "metadata": {},
   "source": [
    "### To show all the content without scrolling "
   ]
  },
  {
   "cell_type": "code",
   "execution_count": null,
   "id": "ef28752c",
   "metadata": {},
   "outputs": [],
   "source": [
    "from IPython.core.display import display, HTML\n",
    "display(HTML(\"<style>div.output_scroll { height: auto; }</style>\"))"
   ]
  },
  {
   "cell_type": "markdown",
   "id": "8f2aa313",
   "metadata": {},
   "source": [
    "### Plot using Pandas"
   ]
  },
  {
   "cell_type": "code",
   "execution_count": null,
   "id": "c6f5982d",
   "metadata": {},
   "outputs": [],
   "source": [
    "fig, ax = plt.subplots(1,2 , figsize = (6,4))\n",
    "cpi.plot(x='Year',y='Annual Percent Change' , ax = ax[0])\n",
    "cpi.plot(x='Year',y='All Items Index', ax = ax[1])"
   ]
  },
  {
   "cell_type": "markdown",
   "id": "b28b2880",
   "metadata": {},
   "source": [
    "### Formattig numbers"
   ]
  },
  {
   "cell_type": "code",
   "execution_count": null,
   "id": "29629706",
   "metadata": {},
   "outputs": [],
   "source": [
    "formatted_value = \"{:.2f}\".format(crime.NEIGHBOURHOOD.isna().sum() / crime.shape[0] * 100)"
   ]
  }
 ],
 "metadata": {
  "kernelspec": {
   "display_name": "Python 3 (ipykernel)",
   "language": "python",
   "name": "python3"
  },
  "language_info": {
   "codemirror_mode": {
    "name": "ipython",
    "version": 3
   },
   "file_extension": ".py",
   "mimetype": "text/x-python",
   "name": "python",
   "nbconvert_exporter": "python",
   "pygments_lexer": "ipython3",
   "version": "3.9.13"
  }
 },
 "nbformat": 4,
 "nbformat_minor": 5
}
